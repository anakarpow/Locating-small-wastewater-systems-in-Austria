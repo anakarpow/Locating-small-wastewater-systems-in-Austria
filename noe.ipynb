{
 "cells": [
  {
   "cell_type": "markdown",
   "metadata": {},
   "source": [
    "this is the testing process for NOE"
   ]
  },
  {
   "cell_type": "code",
   "execution_count": null,
   "metadata": {},
   "outputs": [],
   "source": [
    "import pandas as pd\n",
    "import numpy as np\n",
    "from functions import *\n",
    "\n",
    "d = r'C:/Users/fabrizio/Documents/R_data/PROJECTS/MASTER/DATA/KKA NÖ NEU DE final.xlsx'\n",
    "\n",
    "data, trial = reader(d, 'Data NÖ (Technol)', header=5, test=False)\n",
    "\n",
    "data = cleaner(data, [\"Unnamed: 0\", \"Unnamed: 28\",\n",
    "               \"Unnamed: 29\", \"Unnamed: 30\"])\n",
    "data=data[data['EW60_BEWILLIGT']<51]\n",
    "#work on bautyp\n",
    "bautyp = data[[\"Mechan.\", \"Biolog.\", \"Chemisch\", \"Unbek.\"]]\n",
    "\n",
    "\n",
    "conditions_bau = [\n",
    "    data[\"Unbek.\"] == 1,\n",
    "    data[\"Mechan.\"] == 1,\n",
    "    data[\"Biolog.\"] == 1,\n",
    "    data[\"Chemisch\"] == 1,\n",
    "    (data[\"Biolog.\"] == 1) & (data[\"Mechan.\"] == 1)\n",
    "]\n",
    "\n",
    "outcomes_bau = [\n",
    "    \"Unbekannt\", \"Mech\", \"Bio\", \"Chem\", \"Bio\"\n",
    "]\n",
    "\n",
    "data = logical_column(conditions_bau, outcomes_bau, data, 'bautyp')\n",
    "data=col_dropper(data, bautyp)\n",
    "data\n",
    "\n",
    "#work on tech_type\n",
    "\n",
    "\n",
    "\n",
    "\n",
    "col_list = ['3-k', 'Bel.', 'SBR', 'MBR', 'Tropf', 'RBC', 'Fest', 'Wirbel', 'BKF', 'PKA', 'Filtersack',\n",
    "         'Kompost', 'Andere', 'Unbekannt']\n",
    "\n",
    "def change_colname_index(start, df, col_list):\n",
    "    count=start\n",
    "    for name in col_list:\n",
    "        df.columns.values[count]=name\n",
    "        count=count+1\n",
    "    print(df.columns)\n",
    "\n",
    "change_colname_index(9, data,col_list)\n",
    "conditions_tech = [\n",
    "    data[\"Unbekannt\"] == 1,\n",
    "    data[\"3-k\"] == 1,\n",
    "    data[\"Bel.\"] == 1,\n",
    "    data[\"SBR\"] == 1,\n",
    "    data[\"MBR\"] == 1,\n",
    "    data[\"Tropf\"] == 1,\n",
    "    data[\"RBC\"] == 1,\n",
    "    data[\"Fest\"] == 1,\n",
    "    data[\"Wirbel\"] == 1,\n",
    "    data[\"BKF\"] == 1,\n",
    "    data[\"PKA\"] == 1,\n",
    "    data[\"Filtersack\"] == 1,\n",
    "    data[\"Kompost\"] == 1,\n",
    "    data[\"Andere\"] == 1,\n",
    "]\n",
    "\n",
    "\n",
    "outcome_tech = ['Unbekannt', '3-k', 'Bel.', 'SBR', 'MBR', 'Tropf', 'RBC', 'Fest', 'Wirbel', 'BKF', 'PKA', 'Filtersack',\n",
    "                'Kompost', 'Andere']\n",
    "\n",
    " \n",
    "data=logical_column(conditions_tech,outcome_tech, data, 'tech_type' )\n",
    "data=col_dropper(data, data[col_list] )\n",
    "activity = data[[\"Betrieb\", \"Stillgelegt\", \"Unbek\"]]\n",
    "check_logic(activity)\n",
    "\n",
    "\n",
    "conditions_act=[\n",
    "    data['Unbek']==1,\n",
    "    data['Betrieb']==1,\n",
    "    data['Stillgelegt']==1]\n",
    "\n",
    "outcomes_act=['Unbekannt', 'Betrieb','Stillgelegt']\n",
    "\n",
    "\n",
    "\n",
    "data=logical_column(conditions_act, outcomes_act,data, 'activity')\n",
    "data=col_dropper(data, activity)\n",
    "data"
   ]
  },
  {
   "cell_type": "code",
   "execution_count": null,
   "metadata": {},
   "outputs": [],
   "source": [
    "data.tech_type.value_counts()\n"
   ]
  },
  {
   "cell_type": "code",
   "execution_count": null,
   "metadata": {},
   "outputs": [],
   "source": [
    "import os\n",
    "os.chdir('output/')\n",
    "data.to_csv('NOE.csv', index=False)"
   ]
  },
  {
   "cell_type": "code",
   "execution_count": null,
   "metadata": {},
   "outputs": [],
   "source": [
    "data.RECHTSWERT.isna().value_counts()"
   ]
  },
  {
   "cell_type": "code",
   "execution_count": null,
   "metadata": {},
   "outputs": [],
   "source": []
  }
 ],
 "metadata": {
  "interpreter": {
   "hash": "d4a4f80f0852bbaf4e4f090cf7fb2ba0e283c9764699a540eedc0c1ab340cdd7"
  },
  "kernelspec": {
   "display_name": "Python 3.8.11 64-bit ('geo': conda)",
   "name": "python3"
  },
  "language_info": {
   "codemirror_mode": {
    "name": "ipython",
    "version": 3
   },
   "file_extension": ".py",
   "mimetype": "text/x-python",
   "name": "python",
   "nbconvert_exporter": "python",
   "pygments_lexer": "ipython3",
   "version": "3.8.11"
  },
  "orig_nbformat": 4
 },
 "nbformat": 4,
 "nbformat_minor": 2
}
