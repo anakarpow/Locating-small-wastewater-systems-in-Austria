{
 "cells": [
  {
   "cell_type": "markdown",
   "metadata": {},
   "source": [
    "# here my data is compared to Gunters publiction"
   ]
  },
  {
   "cell_type": "markdown",
   "metadata": {},
   "source": []
  },
  {
   "cell_type": "code",
   "execution_count": 2,
   "metadata": {},
   "outputs": [],
   "source": [
    "import pandas as pd\n",
    "import numpy as np\n",
    "import numpy as np\n",
    "import matplotlib.pyplot as plt\n",
    "import seaborn as sbn\n",
    "import geopandas as gpd\n"
   ]
  },
  {
   "cell_type": "code",
   "execution_count": 13,
   "metadata": {},
   "outputs": [],
   "source": [
    "#control=pd.read_excel('DATA/control_gunter.xlsx')\n",
    "#data=gpd.read_file('final/complete_KKA.geojson')\n",
    "#data_all=gpd.read_file('final/complete.geojson')\n",
    "database=pd.read_excel('final/database.xlsx')\n",
    "#database.PE=database.PE.astype(np.int64).round()\n",
    "\n"
   ]
  },
  {
   "cell_type": "markdown",
   "metadata": {},
   "source": [
    "# check data with spat ref"
   ]
  },
  {
   "cell_type": "markdown",
   "metadata": {},
   "source": [
    "# compare spatial all with control Gunter\n",
    "    > no PE control available"
   ]
  },
  {
   "cell_type": "code",
   "execution_count": 6,
   "metadata": {},
   "outputs": [
    {
     "data": {
      "text/html": [
       "<div>\n",
       "<style scoped>\n",
       "    .dataframe tbody tr th:only-of-type {\n",
       "        vertical-align: middle;\n",
       "    }\n",
       "\n",
       "    .dataframe tbody tr th {\n",
       "        vertical-align: top;\n",
       "    }\n",
       "\n",
       "    .dataframe thead th {\n",
       "        text-align: right;\n",
       "    }\n",
       "</style>\n",
       "<table border=\"1\" class=\"dataframe\">\n",
       "  <thead>\n",
       "    <tr style=\"text-align: right;\">\n",
       "      <th></th>\n",
       "      <th>control_freq_all</th>\n",
       "      <th>freq_all</th>\n",
       "      <th>diff_freq_all</th>\n",
       "      <th>div</th>\n",
       "    </tr>\n",
       "    <tr>\n",
       "      <th>Bundesland</th>\n",
       "      <th></th>\n",
       "      <th></th>\n",
       "      <th></th>\n",
       "      <th></th>\n",
       "    </tr>\n",
       "  </thead>\n",
       "  <tbody>\n",
       "    <tr>\n",
       "      <th>Upper-Austria</th>\n",
       "      <td>2524</td>\n",
       "      <td>2633</td>\n",
       "      <td>-109</td>\n",
       "      <td>-4.32</td>\n",
       "    </tr>\n",
       "    <tr>\n",
       "      <th>Tirol</th>\n",
       "      <td>1294</td>\n",
       "      <td>1294</td>\n",
       "      <td>0</td>\n",
       "      <td>0.00</td>\n",
       "    </tr>\n",
       "    <tr>\n",
       "      <th>Salzburg</th>\n",
       "      <td>1732</td>\n",
       "      <td>1708</td>\n",
       "      <td>24</td>\n",
       "      <td>1.39</td>\n",
       "    </tr>\n",
       "    <tr>\n",
       "      <th>Carintia</th>\n",
       "      <td>7279</td>\n",
       "      <td>7052</td>\n",
       "      <td>227</td>\n",
       "      <td>3.12</td>\n",
       "    </tr>\n",
       "    <tr>\n",
       "      <th>Stirya</th>\n",
       "      <td>10718</td>\n",
       "      <td>10338</td>\n",
       "      <td>380</td>\n",
       "      <td>3.55</td>\n",
       "    </tr>\n",
       "    <tr>\n",
       "      <th>Lower-Austria</th>\n",
       "      <td>4982</td>\n",
       "      <td>4314</td>\n",
       "      <td>668</td>\n",
       "      <td>13.41</td>\n",
       "    </tr>\n",
       "    <tr>\n",
       "      <th>Burgenland</th>\n",
       "      <td>23</td>\n",
       "      <td>0</td>\n",
       "      <td>0</td>\n",
       "      <td>100.00</td>\n",
       "    </tr>\n",
       "    <tr>\n",
       "      <th>Vorarlberg</th>\n",
       "      <td>156</td>\n",
       "      <td>0</td>\n",
       "      <td>0</td>\n",
       "      <td>100.00</td>\n",
       "    </tr>\n",
       "    <tr>\n",
       "      <th>Vienna</th>\n",
       "      <td>25</td>\n",
       "      <td>0</td>\n",
       "      <td>0</td>\n",
       "      <td>100.00</td>\n",
       "    </tr>\n",
       "  </tbody>\n",
       "</table>\n",
       "</div>"
      ],
      "text/plain": [
       "               control_freq_all  freq_all  diff_freq_all     div\n",
       "Bundesland                                                      \n",
       "Upper-Austria              2524      2633           -109   -4.32\n",
       "Tirol                      1294      1294              0    0.00\n",
       "Salzburg                   1732      1708             24    1.39\n",
       "Carintia                   7279      7052            227    3.12\n",
       "Stirya                    10718     10338            380    3.55\n",
       "Lower-Austria              4982      4314            668   13.41\n",
       "Burgenland                   23         0              0  100.00\n",
       "Vorarlberg                  156         0              0  100.00\n",
       "Vienna                       25         0              0  100.00"
      ]
     },
     "execution_count": 6,
     "metadata": {},
     "output_type": "execute_result"
    }
   ],
   "source": [
    "control=pd.read_excel('DATA/control_gunter.xlsx')\n",
    "data_BL_all=data_all.groupby('BL').sum().reset_index()[['BL','PE_nonitri_tot','sum_PE_tot','freq_tot']]\n",
    "data_BL_all=data_BL_all[['BL','freq_tot','sum_PE_tot']]\n",
    "data_BL_all.rename(columns={'freq_tot':'freq_all','sum_PE_tot':'sum_PE_all', 'BL':'Bundesland'}, inplace=True)\n",
    "data_BL_all=data_BL_all.set_index('Bundesland')\n",
    "\n",
    "control.set_index('Bundesland',inplace=True)\n",
    "control_df=control.join(data_BL_all, how='left')\n",
    "\n",
    "control_df.rename(columns={'<=500PE':'control_freq_all'},inplace=True)\n",
    "control_df['diff_freq']=control_df.control_freq_all-control_df.freq_all\n",
    "control_df=control_df[['control_freq_all','freq_all']]\n",
    "control_df['diff_freq_all']=control_df.control_freq_all-control_df.freq_all\n",
    "control_df=control_df.fillna(0)\n",
    "control_df.freq_all=control_df.freq_all.astype(int)\n",
    "control_df.diff_freq_all=control_df.diff_freq_all.astype(int)\n",
    "\n",
    "control_df['div']=(control_df.control_freq_all-control_df.freq_all)/control_df.control_freq_all*100\n",
    "control_df['div']=control_df['div'].round(2)\n",
    "control_df.sort_values('div')"
   ]
  },
  {
   "cell_type": "code",
   "execution_count": 7,
   "metadata": {},
   "outputs": [
    {
     "data": {
      "text/plain": [
       "4.851564403299342"
      ]
     },
     "execution_count": 7,
     "metadata": {},
     "output_type": "execute_result"
    }
   ],
   "source": [
    "#5.5 % lost with spat ref\n",
    "overall_freq=(control_df.control_freq_all.sum()-control_df.freq_all.sum())/control_df.control_freq_all.sum()*100\n",
    "overall_freq"
   ]
  },
  {
   "cell_type": "code",
   "execution_count": 8,
   "metadata": {},
   "outputs": [
    {
     "data": {
      "image/png": "[encoded data removed]",
      "text/plain": [
       "<Figure size 432x432 with 1 Axes>"
      ]
     },
     "metadata": {
      "needs_background": "light"
     },
     "output_type": "display_data"
    }
   ],
   "source": [
    "fig,ax=plt.subplots(figsize=(6,6))\n",
    "control_df.plot.bar(y=['control_freq_all','freq_all'],ax=ax)\n",
    "which=[9,10,11,12,13,14,15,16,17]\n",
    "values=[x for x in control_df['div'].round(1)]\n",
    "values[4]=4.3\n",
    "\n",
    "ax.legend(['control','spatial data'])\n",
    "plt.suptitle('Comparing control with spatial data : what is lost ?')\n",
    "ax.set_title('Amount of WWTPs up to 500 PEs by federal state')\n",
    "\n",
    "\n",
    "#which=range(len(ax.patches))\n",
    "#which=[6,7,8,9,10,11]\n",
    "which=[0,1,2,3,4,5,6,7,8]\n",
    "n=0\n",
    "for index, rect in enumerate(ax.patches):\n",
    "    if index in which:\n",
    "        \n",
    "        height = rect.get_height()\n",
    "        ax.text(rect.get_x()+0.13 + rect.get_width() / 2, height+150 , values[n],\n",
    "                ha='center', va='bottom', fontsize='medium', fontstretch='condensed')\n",
    "        n=n+1\n",
    "#add text\n",
    "props = dict(boxstyle='round', facecolor='wheat', alpha=0.5)\n",
    "fig.text(0.14, 0.8, 'difference in % on bar top', fontsize=14,\n",
    "        verticalalignment='top',bbox=props)\n",
    "plt.savefig('graphs/all_precision.png', bbox_inches='tight')"
   ]
  },
  {
   "cell_type": "markdown",
   "metadata": {},
   "source": [
    "# comparing KKA with KKA Gunter\n",
    "    >looks good \n",
    "    > difference is due to missing spat ref"
   ]
  },
  {
   "cell_type": "code",
   "execution_count": 6,
   "metadata": {},
   "outputs": [
    {
     "data": {
      "text/html": [
       "<div>\n",
       "<style scoped>\n",
       "    .dataframe tbody tr th:only-of-type {\n",
       "        vertical-align: middle;\n",
       "    }\n",
       "\n",
       "    .dataframe tbody tr th {\n",
       "        vertical-align: top;\n",
       "    }\n",
       "\n",
       "    .dataframe thead th {\n",
       "        text-align: right;\n",
       "    }\n",
       "</style>\n",
       "<table border=\"1\" class=\"dataframe\">\n",
       "  <thead>\n",
       "    <tr style=\"text-align: right;\">\n",
       "      <th></th>\n",
       "      <th>control_freq</th>\n",
       "      <th>freq</th>\n",
       "      <th>control_sum_PE</th>\n",
       "      <th>sum_PE</th>\n",
       "      <th>div</th>\n",
       "    </tr>\n",
       "    <tr>\n",
       "      <th>Bundesland</th>\n",
       "      <th></th>\n",
       "      <th></th>\n",
       "      <th></th>\n",
       "      <th></th>\n",
       "      <th></th>\n",
       "    </tr>\n",
       "  </thead>\n",
       "  <tbody>\n",
       "    <tr>\n",
       "      <th>Burgenland</th>\n",
       "      <td>20</td>\n",
       "      <td>0</td>\n",
       "      <td>198</td>\n",
       "      <td>0</td>\n",
       "      <td>100.00</td>\n",
       "    </tr>\n",
       "    <tr>\n",
       "      <th>Carintia</th>\n",
       "      <td>6961</td>\n",
       "      <td>6747</td>\n",
       "      <td>62459</td>\n",
       "      <td>60573</td>\n",
       "      <td>3.07</td>\n",
       "    </tr>\n",
       "    <tr>\n",
       "      <th>Salzburg</th>\n",
       "      <td>1655</td>\n",
       "      <td>1631</td>\n",
       "      <td>20924</td>\n",
       "      <td>20660</td>\n",
       "      <td>1.45</td>\n",
       "    </tr>\n",
       "    <tr>\n",
       "      <th>Lower-Austria</th>\n",
       "      <td>4515</td>\n",
       "      <td>3835</td>\n",
       "      <td>50655</td>\n",
       "      <td>43501</td>\n",
       "      <td>15.06</td>\n",
       "    </tr>\n",
       "    <tr>\n",
       "      <th>Upper-Austria</th>\n",
       "      <td>2398</td>\n",
       "      <td>2522</td>\n",
       "      <td>29412</td>\n",
       "      <td>30880</td>\n",
       "      <td>-5.17</td>\n",
       "    </tr>\n",
       "    <tr>\n",
       "      <th>Stirya</th>\n",
       "      <td>10665</td>\n",
       "      <td>10123</td>\n",
       "      <td>85726</td>\n",
       "      <td>80535</td>\n",
       "      <td>5.08</td>\n",
       "    </tr>\n",
       "    <tr>\n",
       "      <th>Tirol</th>\n",
       "      <td>1096</td>\n",
       "      <td>1097</td>\n",
       "      <td>9508</td>\n",
       "      <td>9457</td>\n",
       "      <td>-0.09</td>\n",
       "    </tr>\n",
       "    <tr>\n",
       "      <th>Vorarlberg</th>\n",
       "      <td>129</td>\n",
       "      <td>0</td>\n",
       "      <td>1331</td>\n",
       "      <td>0</td>\n",
       "      <td>100.00</td>\n",
       "    </tr>\n",
       "    <tr>\n",
       "      <th>Vienna</th>\n",
       "      <td>13</td>\n",
       "      <td>0</td>\n",
       "      <td>280</td>\n",
       "      <td>0</td>\n",
       "      <td>100.00</td>\n",
       "    </tr>\n",
       "  </tbody>\n",
       "</table>\n",
       "</div>"
      ],
      "text/plain": [
       "               control_freq   freq  control_sum_PE  sum_PE     div\n",
       "Bundesland                                                        \n",
       "Burgenland               20      0             198       0  100.00\n",
       "Carintia               6961   6747           62459   60573    3.07\n",
       "Salzburg               1655   1631           20924   20660    1.45\n",
       "Lower-Austria          4515   3835           50655   43501   15.06\n",
       "Upper-Austria          2398   2522           29412   30880   -5.17\n",
       "Stirya                10665  10123           85726   80535    5.08\n",
       "Tirol                  1096   1097            9508    9457   -0.09\n",
       "Vorarlberg              129      0            1331       0  100.00\n",
       "Vienna                   13      0             280       0  100.00"
      ]
     },
     "execution_count": 6,
     "metadata": {},
     "output_type": "execute_result"
    }
   ],
   "source": [
    "data_BL=data.groupby('BL').sum().reset_index()[['BL','PE_nonitri','sum_PE','freq']]\n",
    "data_BL=data_BL[['BL','freq','sum_PE']]\n",
    "data_BL=data_BL.set_index('BL')\n",
    "\n",
    "control_KKA=control.join(data_BL, how='left')\n",
    "control_KKA.rename(columns={'<=50PE':'control_freq', 'PE_sum':'control_sum_PE'}, inplace=True)\n",
    "control_KKA=control_KKA[['control_freq','freq','control_sum_PE','sum_PE']]\n",
    "\n",
    "control_KKA=control_KKA.fillna(0).astype(int)\n",
    "\n",
    "\n",
    "control_KKA['div']=(control_KKA.control_freq-control_KKA.freq)/control_KKA.control_freq*100\n",
    "control_KKA['div']=control_KKA['div'].round(2)\n",
    "control_KKA.sort_values('div')\n",
    "control_KKA"
   ]
  },
  {
   "cell_type": "code",
   "execution_count": 7,
   "metadata": {},
   "outputs": [
    {
     "data": {
      "text/plain": [
       "5.453154597114964"
      ]
     },
     "execution_count": 7,
     "metadata": {},
     "output_type": "execute_result"
    }
   ],
   "source": [
    "#5.4 % lost with spat ref\n",
    "overall_freq=(control_KKA.control_freq.sum()-control_KKA.freq.sum())/control_KKA.control_freq.sum()*100\n",
    "overall_freq"
   ]
  },
  {
   "cell_type": "code",
   "execution_count": 8,
   "metadata": {},
   "outputs": [
    {
     "data": {
      "text/plain": [
       "<AxesSubplot:xlabel='Bundesland'>"
      ]
     },
     "execution_count": 8,
     "metadata": {},
     "output_type": "execute_result"
    },
    {
     "data": {
      "image/png": "[encoded data removed]",
      "text/plain": [
       "<Figure size 432x288 with 1 Axes>"
      ]
     },
     "metadata": {
      "needs_background": "light"
     },
     "output_type": "display_data"
    },
    {
     "data": {
      "image/png": "[encoded data removed]",
      "text/plain": [
       "<Figure size 432x288 with 1 Axes>"
      ]
     },
     "metadata": {
      "needs_background": "light"
     },
     "output_type": "display_data"
    }
   ],
   "source": [
    "control_KKA.plot.bar(y=['control_freq','freq'])\n",
    "control_KKA.plot.bar(y=['control_sum_PE','sum_PE'])"
   ]
  },
  {
   "cell_type": "markdown",
   "metadata": {},
   "source": [
    "# result\n",
    "    > relative small differences all in all\n",
    "    > PE difference up to 16% for NOE\n",
    "    > difference seems to stay similar when comparing <500 and <50. reason is probably some mask in code\n",
    "    >5% lost with geo ref "
   ]
  },
  {
   "cell_type": "markdown",
   "metadata": {},
   "source": [
    "# check database VS Gunter : no spatial reduction"
   ]
  },
  {
   "cell_type": "markdown",
   "metadata": {},
   "source": [
    "# check database of KKA\n",
    "    > here no spat ref reduction"
   ]
  },
  {
   "cell_type": "code",
   "execution_count": 9,
   "metadata": {},
   "outputs": [
    {
     "name": "stderr",
     "output_type": "stream",
     "text": [
      "C:\\Users\\fabrizio\\anaconda3\\envs\\geo\\lib\\site-packages\\pandas\\core\\generic.py:5516: SettingWithCopyWarning: \n",
      "A value is trying to be set on a copy of a slice from a DataFrame.\n",
      "Try using .loc[row_indexer,col_indexer] = value instead\n",
      "\n",
      "See the caveats in the documentation: https://pandas.pydata.org/pandas-docs/stable/user_guide/indexing.html#returning-a-view-versus-a-copy\n",
      "  self[name] = value\n",
      "C:\\Users\\fabrizio\\anaconda3\\envs\\geo\\lib\\site-packages\\pandas\\core\\frame.py:5039: SettingWithCopyWarning: \n",
      "A value is trying to be set on a copy of a slice from a DataFrame\n",
      "\n",
      "See the caveats in the documentation: https://pandas.pydata.org/pandas-docs/stable/user_guide/indexing.html#returning-a-view-versus-a-copy\n",
      "  return super().rename(\n"
     ]
    },
    {
     "data": {
      "text/html": [
       "<div>\n",
       "<style scoped>\n",
       "    .dataframe tbody tr th:only-of-type {\n",
       "        vertical-align: middle;\n",
       "    }\n",
       "\n",
       "    .dataframe tbody tr th {\n",
       "        vertical-align: top;\n",
       "    }\n",
       "\n",
       "    .dataframe thead th {\n",
       "        text-align: right;\n",
       "    }\n",
       "</style>\n",
       "<table border=\"1\" class=\"dataframe\">\n",
       "  <thead>\n",
       "    <tr style=\"text-align: right;\">\n",
       "      <th></th>\n",
       "      <th>BL</th>\n",
       "      <th>&lt;=50PE</th>\n",
       "      <th>freq</th>\n",
       "      <th>PE_sum</th>\n",
       "      <th>PE</th>\n",
       "      <th>accuracy</th>\n",
       "    </tr>\n",
       "  </thead>\n",
       "  <tbody>\n",
       "    <tr>\n",
       "      <th>4</th>\n",
       "      <td>Upper-Austria</td>\n",
       "      <td>2398</td>\n",
       "      <td>2522</td>\n",
       "      <td>29412</td>\n",
       "      <td>30880</td>\n",
       "      <td>95.08</td>\n",
       "    </tr>\n",
       "    <tr>\n",
       "      <th>3</th>\n",
       "      <td>Lower-Austria</td>\n",
       "      <td>4515</td>\n",
       "      <td>4544</td>\n",
       "      <td>50655</td>\n",
       "      <td>50657</td>\n",
       "      <td>99.36</td>\n",
       "    </tr>\n",
       "    <tr>\n",
       "      <th>1</th>\n",
       "      <td>Carintia</td>\n",
       "      <td>6961</td>\n",
       "      <td>6978</td>\n",
       "      <td>62459</td>\n",
       "      <td>61470</td>\n",
       "      <td>99.76</td>\n",
       "    </tr>\n",
       "    <tr>\n",
       "      <th>6</th>\n",
       "      <td>Tirol</td>\n",
       "      <td>1096</td>\n",
       "      <td>1097</td>\n",
       "      <td>9508</td>\n",
       "      <td>9436</td>\n",
       "      <td>99.91</td>\n",
       "    </tr>\n",
       "    <tr>\n",
       "      <th>2</th>\n",
       "      <td>Salzburg</td>\n",
       "      <td>1655</td>\n",
       "      <td>1656</td>\n",
       "      <td>20924</td>\n",
       "      <td>20613</td>\n",
       "      <td>99.94</td>\n",
       "    </tr>\n",
       "    <tr>\n",
       "      <th>0</th>\n",
       "      <td>Burgenland</td>\n",
       "      <td>20</td>\n",
       "      <td>20</td>\n",
       "      <td>198</td>\n",
       "      <td>198</td>\n",
       "      <td>100.00</td>\n",
       "    </tr>\n",
       "    <tr>\n",
       "      <th>5</th>\n",
       "      <td>Stirya</td>\n",
       "      <td>10665</td>\n",
       "      <td>10665</td>\n",
       "      <td>85726</td>\n",
       "      <td>85726</td>\n",
       "      <td>100.00</td>\n",
       "    </tr>\n",
       "    <tr>\n",
       "      <th>7</th>\n",
       "      <td>Vorarlberg</td>\n",
       "      <td>129</td>\n",
       "      <td>129</td>\n",
       "      <td>1331</td>\n",
       "      <td>1331</td>\n",
       "      <td>100.00</td>\n",
       "    </tr>\n",
       "    <tr>\n",
       "      <th>8</th>\n",
       "      <td>Vienna</td>\n",
       "      <td>13</td>\n",
       "      <td>13</td>\n",
       "      <td>280</td>\n",
       "      <td>280</td>\n",
       "      <td>100.00</td>\n",
       "    </tr>\n",
       "  </tbody>\n",
       "</table>\n",
       "</div>"
      ],
      "text/plain": [
       "              BL  <=50PE   freq  PE_sum     PE  accuracy\n",
       "4  Upper-Austria    2398   2522   29412  30880     95.08\n",
       "3  Lower-Austria    4515   4544   50655  50657     99.36\n",
       "1       Carintia    6961   6978   62459  61470     99.76\n",
       "6          Tirol    1096   1097    9508   9436     99.91\n",
       "2       Salzburg    1655   1656   20924  20613     99.94\n",
       "0     Burgenland      20     20     198    198    100.00\n",
       "5         Stirya   10665  10665   85726  85726    100.00\n",
       "7     Vorarlberg     129    129    1331   1331    100.00\n",
       "8         Vienna      13     13     280    280    100.00"
      ]
     },
     "execution_count": 9,
     "metadata": {},
     "output_type": "execute_result"
    }
   ],
   "source": [
    "control=pd.read_excel('DATA/control_gunter.xlsx')\n",
    "database_KKA=database[database.PE<=50]\n",
    "database_KKA.PE=database.PE.astype(np.int64).round()\n",
    "data_BL=database_KKA.groupby('BL').sum().reset_index()[['BL','PE']]\n",
    "data_BL=data_BL[['BL','PE']]\n",
    "\n",
    "x=database_KKA.groupby('BL').count().reset_index()[['BL','PE']]\n",
    "x.rename(columns={'PE':'freq'},inplace=True)\n",
    "data_BL=pd.merge(data_BL, x, on='BL')\n",
    "\n",
    "control_db=control[['Bundesland','<=50PE','PE_sum']]\n",
    "control_db.rename(columns={'Bundesland':'BL'},inplace=True)\n",
    "control_db=pd.merge(control_db, data_BL, on='BL')\n",
    "control_db=control_db[['BL','<=50PE','freq','PE_sum','PE']]\n",
    "\n",
    "control_db\n",
    "control_db['accuracy']=control_db['<=50PE']/control_db.freq*100\n",
    "control_db['accuracy']=control_db['accuracy'].round(2)\n",
    "control_db.sort_values('accuracy')"
   ]
  },
  {
   "cell_type": "code",
   "execution_count": 10,
   "metadata": {},
   "outputs": [
    {
     "data": {
      "text/plain": [
       "-0.6265481567827481"
      ]
     },
     "execution_count": 10,
     "metadata": {},
     "output_type": "execute_result"
    }
   ],
   "source": [
    "#0.6 considering aslo Upper-Austria\n",
    "overall_freq=(control_db['<=50PE'].sum()-control_db.freq.sum())/control_db['<=50PE'].sum()*100\n",
    "overall_freq"
   ]
  },
  {
   "cell_type": "code",
   "execution_count": 11,
   "metadata": {},
   "outputs": [
    {
     "data": {
      "text/plain": [
       "0.03760682448741515"
      ]
     },
     "execution_count": 11,
     "metadata": {},
     "output_type": "execute_result"
    }
   ],
   "source": [
    "#0.03 lost in PE\n",
    "overall_PE=(control_db.PE.sum()-control_db.PE_sum.sum())/control_db.PE.sum()*100\n",
    "overall_PE"
   ]
  },
  {
   "cell_type": "markdown",
   "metadata": {},
   "source": [
    "# result\n",
    "    > great! nearly perfect"
   ]
  },
  {
   "cell_type": "markdown",
   "metadata": {},
   "source": [
    "# check database 500PE"
   ]
  },
  {
   "cell_type": "code",
   "execution_count": 12,
   "metadata": {},
   "outputs": [
    {
     "data": {
      "text/html": [
       "<div>\n",
       "<style scoped>\n",
       "    .dataframe tbody tr th:only-of-type {\n",
       "        vertical-align: middle;\n",
       "    }\n",
       "\n",
       "    .dataframe tbody tr th {\n",
       "        vertical-align: top;\n",
       "    }\n",
       "\n",
       "    .dataframe thead th {\n",
       "        text-align: right;\n",
       "    }\n",
       "</style>\n",
       "<table border=\"1\" class=\"dataframe\">\n",
       "  <thead>\n",
       "    <tr style=\"text-align: right;\">\n",
       "      <th></th>\n",
       "      <th>&lt;=500PE</th>\n",
       "      <th>freq</th>\n",
       "      <th>diff</th>\n",
       "    </tr>\n",
       "  </thead>\n",
       "  <tbody>\n",
       "    <tr>\n",
       "      <th>Upper-Austria</th>\n",
       "      <td>2524</td>\n",
       "      <td>2633</td>\n",
       "      <td>-4.32</td>\n",
       "    </tr>\n",
       "    <tr>\n",
       "      <th>Lower-Austria</th>\n",
       "      <td>4982</td>\n",
       "      <td>5025</td>\n",
       "      <td>-0.86</td>\n",
       "    </tr>\n",
       "    <tr>\n",
       "      <th>Carintia</th>\n",
       "      <td>7279</td>\n",
       "      <td>7293</td>\n",
       "      <td>-0.19</td>\n",
       "    </tr>\n",
       "    <tr>\n",
       "      <th>Burgenland</th>\n",
       "      <td>23</td>\n",
       "      <td>23</td>\n",
       "      <td>0.00</td>\n",
       "    </tr>\n",
       "    <tr>\n",
       "      <th>Stirya</th>\n",
       "      <td>10718</td>\n",
       "      <td>10718</td>\n",
       "      <td>0.00</td>\n",
       "    </tr>\n",
       "    <tr>\n",
       "      <th>Tirol</th>\n",
       "      <td>1294</td>\n",
       "      <td>1294</td>\n",
       "      <td>0.00</td>\n",
       "    </tr>\n",
       "    <tr>\n",
       "      <th>Vorarlberg</th>\n",
       "      <td>156</td>\n",
       "      <td>156</td>\n",
       "      <td>0.00</td>\n",
       "    </tr>\n",
       "    <tr>\n",
       "      <th>Vienna</th>\n",
       "      <td>25</td>\n",
       "      <td>25</td>\n",
       "      <td>0.00</td>\n",
       "    </tr>\n",
       "    <tr>\n",
       "      <th>Salzburg</th>\n",
       "      <td>1732</td>\n",
       "      <td>1730</td>\n",
       "      <td>0.12</td>\n",
       "    </tr>\n",
       "  </tbody>\n",
       "</table>\n",
       "</div>"
      ],
      "text/plain": [
       "               <=500PE   freq  diff\n",
       "Upper-Austria     2524   2633 -4.32\n",
       "Lower-Austria     4982   5025 -0.86\n",
       "Carintia          7279   7293 -0.19\n",
       "Burgenland          23     23  0.00\n",
       "Stirya           10718  10718  0.00\n",
       "Tirol             1294   1294  0.00\n",
       "Vorarlberg         156    156  0.00\n",
       "Vienna              25     25  0.00\n",
       "Salzburg          1732   1730  0.12"
      ]
     },
     "execution_count": 12,
     "metadata": {},
     "output_type": "execute_result"
    }
   ],
   "source": [
    "control=pd.read_excel('DATA/control_gunter.xlsx')\n",
    "\n",
    "database_all=database[database.PE<=500]\n",
    "data_BL=database_all.groupby('BL').count().reset_index()[['BL','PE']]\n",
    "data_BL.rename(columns={'PE':'freq'},inplace=True)\n",
    "data_BL.set_index('BL',inplace=True)\n",
    "\n",
    "control.set_index('Bundesland',inplace=True)\n",
    "control_db=control.loc[:,'<=500PE']\n",
    "control_db=pd.merge(control_db, data_BL, left_index=True, right_index=True)\n",
    "control_db=control_db[['<=500PE','freq']]\n",
    "\n",
    "control_db['diff']=(control_db['<=500PE']-control_db.freq)/control_db['<=500PE']*100\n",
    "control_db['diff']=control_db['diff'].round(2)\n",
    "control_db.sort_values('diff')\n"
   ]
  },
  {
   "cell_type": "code",
   "execution_count": 13,
   "metadata": {},
   "outputs": [
    {
     "data": {
      "text/plain": [
       "-0.570772282741099"
      ]
     },
     "execution_count": 13,
     "metadata": {},
     "output_type": "execute_result"
    }
   ],
   "source": [
    "#0.6 considering aslo Upper-Austria\n",
    "overall_freq=(control_db['<=500PE'].sum()-control_db.freq.sum())/control_db['<=500PE'].sum()*100\n",
    "overall_freq"
   ]
  },
  {
   "cell_type": "markdown",
   "metadata": {},
   "source": [
    "# result : great"
   ]
  },
  {
   "cell_type": "markdown",
   "metadata": {},
   "source": [
    "\n",
    "    > maybe add definitoon of text as pathc below legend"
   ]
  },
  {
   "cell_type": "code",
   "execution_count": 14,
   "metadata": {},
   "outputs": [
    {
     "data": {
      "image/png": "[encoded data removed]",
      "text/plain": [
       "<Figure size 432x432 with 1 Axes>"
      ]
     },
     "metadata": {
      "needs_background": "light"
     },
     "output_type": "display_data"
    }
   ],
   "source": [
    "fig,ax=plt.subplots(figsize=(6,6))\n",
    "control_db.plot.bar(y=['<=500PE','freq'],ax=ax)\n",
    "which=[9,10,11,12,13,14,15,16,17]\n",
    "values=[x for x in control_db['diff'].round(1).abs()]\n",
    "#values[2]=0.0\n",
    "#values[6]=5.0\n",
    "ax.legend(['control','database'])\n",
    "plt.suptitle('Comparing the database with control')\n",
    "#which=range(len(ax.patches))\n",
    "ax.set_title('Amount of WWTPs by federal state')\n",
    "\n",
    "n=0\n",
    "for index, rect in enumerate(ax.patches):\n",
    "    if index in which:\n",
    "        \n",
    "        height = rect.get_height()\n",
    "        ax.text(rect.get_x()-0.13 + rect.get_width() / 2, height+100 , values[n],\n",
    "                ha='center', va='bottom', fontsize='medium', fontstretch='ultra-condensed')\n",
    "        n=n+1\n",
    "\n",
    "#add text\n",
    "props = dict(boxstyle='round', facecolor='wheat', alpha=0.5)\n",
    "fig.text(0.7, 0.75, 'difference in % on bar top', fontsize=14,\n",
    "        verticalalignment='top',bbox=props)\n",
    "        \n",
    "plt.savefig('graphs/database_precision.png', bbox_inches='tight')"
   ]
  },
  {
   "cell_type": "markdown",
   "metadata": {},
   "source": []
  },
  {
   "cell_type": "markdown",
   "metadata": {},
   "source": [
    "# control tech_type of KKA\n"
   ]
  },
  {
   "cell_type": "markdown",
   "metadata": {},
   "source": [
    "### by PE"
   ]
  },
  {
   "cell_type": "code",
   "execution_count": 14,
   "metadata": {},
   "outputs": [],
   "source": [
    "control=pd.read_excel('DATA/control_gunter.xlsx', sheet_name=1)\n",
    "database_KKA=database[database.PE<=50]\n",
    "KKA=database_KKA.groupby(['BL','tech_type']).PE.sum().reset_index().pivot('BL','tech_type','PE')\n",
    "test=pd.merge(KKA,control, on=\"BL\")\n",
    "test=test.fillna(0)\n",
    "test['unbek+andere']=test.Andere+test.Unbekannt\n",
    "x=test[['BL','3-k','mechan','Bel.','Belebung','PKA','PKA_','SBR','SBR_','unbek+andere','Unbek+andere']]\n",
    "x=x.set_index('BL').astype(int)\n",
    "#x.T"
   ]
  },
  {
   "cell_type": "markdown",
   "metadata": {},
   "source": [
    "### second column is always control"
   ]
  },
  {
   "cell_type": "code",
   "execution_count": 15,
   "metadata": {},
   "outputs": [],
   "source": [
    "x['mechanich']=(x.mechan-x['3-k'])/x.mechan*100\n",
    "x['belebung']=(x.Belebung-x['Bel.'])/x.Belebung*100\n",
    "x['pka']=(x.PKA_-x.PKA)/x.PKA_*100\n",
    "x['sbr']=(x.SBR_-x.SBR)/x.SBR_*100\n",
    "x['andere']=(x['Unbek+andere']-x['unbek+andere'])/x['Unbek+andere']*100\n",
    "extract=x.iloc[:,-5:]\n",
    "extract=extract.fillna(0).abs().round(1)\n",
    "\n",
    "\n"
   ]
  },
  {
   "cell_type": "code",
   "execution_count": 16,
   "metadata": {},
   "outputs": [
    {
     "data": {
      "image/png": "[encoded data removed]",
      "text/plain": [
       "<Figure size 504x504 with 1 Axes>"
      ]
     },
     "metadata": {
      "needs_background": "light"
     },
     "output_type": "display_data"
    }
   ],
   "source": [
    "fi,ax=plt.subplots(figsize=(7,7))\n",
    "sbn.heatmap(extract, cmap='viridis', annot=True, fmt='.1f', linewidths=0.01, ax=ax, cbar=False)\n",
    "\n",
    "ax.set_title('percentual difference between data and control by state and technology'.capitalize())\n",
    "plt.savefig('graphs/heatmap_control.png', bbox_inches='tight')"
   ]
  },
  {
   "cell_type": "code",
   "execution_count": 18,
   "metadata": {},
   "outputs": [
    {
     "data": {
      "text/html": [
       "<div>\n",
       "<style scoped>\n",
       "    .dataframe tbody tr th:only-of-type {\n",
       "        vertical-align: middle;\n",
       "    }\n",
       "\n",
       "    .dataframe tbody tr th {\n",
       "        vertical-align: top;\n",
       "    }\n",
       "\n",
       "    .dataframe thead th {\n",
       "        text-align: right;\n",
       "    }\n",
       "</style>\n",
       "<table border=\"1\" class=\"dataframe\">\n",
       "  <thead>\n",
       "    <tr style=\"text-align: right;\">\n",
       "      <th></th>\n",
       "      <th>BL</th>\n",
       "      <th>Andere</th>\n",
       "      <th>Unbekannt</th>\n",
       "    </tr>\n",
       "  </thead>\n",
       "  <tbody>\n",
       "    <tr>\n",
       "      <th>0</th>\n",
       "      <td>Burgenland</td>\n",
       "      <td>0.0</td>\n",
       "      <td>0.0</td>\n",
       "    </tr>\n",
       "    <tr>\n",
       "      <th>1</th>\n",
       "      <td>Carintia</td>\n",
       "      <td>0.0</td>\n",
       "      <td>1188.0</td>\n",
       "    </tr>\n",
       "    <tr>\n",
       "      <th>2</th>\n",
       "      <td>Lower-Austria</td>\n",
       "      <td>521.0</td>\n",
       "      <td>12763.0</td>\n",
       "    </tr>\n",
       "    <tr>\n",
       "      <th>3</th>\n",
       "      <td>Salzburg</td>\n",
       "      <td>37.0</td>\n",
       "      <td>484.0</td>\n",
       "    </tr>\n",
       "    <tr>\n",
       "      <th>4</th>\n",
       "      <td>Stirya</td>\n",
       "      <td>65.0</td>\n",
       "      <td>121.0</td>\n",
       "    </tr>\n",
       "    <tr>\n",
       "      <th>5</th>\n",
       "      <td>Tirol</td>\n",
       "      <td>160.0</td>\n",
       "      <td>585.0</td>\n",
       "    </tr>\n",
       "    <tr>\n",
       "      <th>6</th>\n",
       "      <td>Upper-Austria</td>\n",
       "      <td>1549.0</td>\n",
       "      <td>0.0</td>\n",
       "    </tr>\n",
       "    <tr>\n",
       "      <th>7</th>\n",
       "      <td>Vorarlberg</td>\n",
       "      <td>0.0</td>\n",
       "      <td>0.0</td>\n",
       "    </tr>\n",
       "  </tbody>\n",
       "</table>\n",
       "</div>"
      ],
      "text/plain": [
       "              BL  Andere  Unbekannt\n",
       "0     Burgenland     0.0        0.0\n",
       "1       Carintia     0.0     1188.0\n",
       "2  Lower-Austria   521.0    12763.0\n",
       "3       Salzburg    37.0      484.0\n",
       "4         Stirya    65.0      121.0\n",
       "5          Tirol   160.0      585.0\n",
       "6  Upper-Austria  1549.0        0.0\n",
       "7     Vorarlberg     0.0        0.0"
      ]
     },
     "execution_count": 18,
     "metadata": {},
     "output_type": "execute_result"
    }
   ],
   "source": [
    "test[['BL','Andere','Unbekannt']]"
   ]
  },
  {
   "cell_type": "code",
   "execution_count": 19,
   "metadata": {},
   "outputs": [],
   "source": [
    "y=x.loc['Carintia':'Upper-Austria',:]"
   ]
  },
  {
   "cell_type": "code",
   "execution_count": 20,
   "metadata": {},
   "outputs": [
    {
     "data": {
      "text/plain": [
       "<AxesSubplot:xlabel='BL'>"
      ]
     },
     "execution_count": 20,
     "metadata": {},
     "output_type": "execute_result"
    },
    {
     "data": {
      "image/png": "[encoded data removed]",
      "text/plain": [
       "<Figure size 432x288 with 1 Axes>"
      ]
     },
     "metadata": {
      "needs_background": "light"
     },
     "output_type": "display_data"
    }
   ],
   "source": [
    "y.plot.bar()"
   ]
  },
  {
   "cell_type": "markdown",
   "metadata": {},
   "source": [
    "## by freq"
   ]
  },
  {
   "cell_type": "code",
   "execution_count": 21,
   "metadata": {},
   "outputs": [],
   "source": [
    "control=pd.read_excel('DATA/control_gunter.xlsx', sheet_name=2)\n",
    "database_KKA=database[database.PE<=50]\n",
    "KKA=database_KKA.groupby(['BL','tech_type']).PE.count().reset_index().pivot('BL','tech_type','PE')\n",
    "test=pd.merge(KKA,control, on=\"BL\")\n",
    "test=test.fillna(0)\n",
    "test['unbek+andere']=test.Andere+test.Unbekannt\n",
    "x=test[['BL','3-k','mechan','Bel.','Belebung','PKA','PKA_','SBR','SBR_','unbek+andere','Unbek+andere']]\n",
    "x=x.set_index('BL').astype(int)"
   ]
  },
  {
   "cell_type": "code",
   "execution_count": 22,
   "metadata": {},
   "outputs": [
    {
     "data": {
      "text/html": [
       "<div>\n",
       "<style scoped>\n",
       "    .dataframe tbody tr th:only-of-type {\n",
       "        vertical-align: middle;\n",
       "    }\n",
       "\n",
       "    .dataframe tbody tr th {\n",
       "        vertical-align: top;\n",
       "    }\n",
       "\n",
       "    .dataframe thead th {\n",
       "        text-align: right;\n",
       "    }\n",
       "</style>\n",
       "<table border=\"1\" class=\"dataframe\">\n",
       "  <thead>\n",
       "    <tr style=\"text-align: right;\">\n",
       "      <th></th>\n",
       "      <th>3-k</th>\n",
       "      <th>mechan</th>\n",
       "      <th>Bel.</th>\n",
       "      <th>Belebung</th>\n",
       "      <th>PKA</th>\n",
       "      <th>PKA_</th>\n",
       "      <th>SBR</th>\n",
       "      <th>SBR_</th>\n",
       "      <th>unbek+andere</th>\n",
       "      <th>Unbek+andere</th>\n",
       "    </tr>\n",
       "    <tr>\n",
       "      <th>BL</th>\n",
       "      <th></th>\n",
       "      <th></th>\n",
       "      <th></th>\n",
       "      <th></th>\n",
       "      <th></th>\n",
       "      <th></th>\n",
       "      <th></th>\n",
       "      <th></th>\n",
       "      <th></th>\n",
       "      <th></th>\n",
       "    </tr>\n",
       "  </thead>\n",
       "  <tbody>\n",
       "    <tr>\n",
       "      <th>Burgenland</th>\n",
       "      <td>0</td>\n",
       "      <td>0</td>\n",
       "      <td>4</td>\n",
       "      <td>4</td>\n",
       "      <td>14</td>\n",
       "      <td>14</td>\n",
       "      <td>1</td>\n",
       "      <td>1</td>\n",
       "      <td>0</td>\n",
       "      <td>0</td>\n",
       "    </tr>\n",
       "    <tr>\n",
       "      <th>Carintia</th>\n",
       "      <td>2246</td>\n",
       "      <td>2248</td>\n",
       "      <td>3053</td>\n",
       "      <td>3051</td>\n",
       "      <td>556</td>\n",
       "      <td>556</td>\n",
       "      <td>567</td>\n",
       "      <td>566</td>\n",
       "      <td>176</td>\n",
       "      <td>160</td>\n",
       "    </tr>\n",
       "    <tr>\n",
       "      <th>Lower-Austria</th>\n",
       "      <td>156</td>\n",
       "      <td>256</td>\n",
       "      <td>311</td>\n",
       "      <td>452</td>\n",
       "      <td>792</td>\n",
       "      <td>893</td>\n",
       "      <td>1956</td>\n",
       "      <td>2513</td>\n",
       "      <td>1199</td>\n",
       "      <td>255</td>\n",
       "    </tr>\n",
       "    <tr>\n",
       "      <th>Salzburg</th>\n",
       "      <td>306</td>\n",
       "      <td>304</td>\n",
       "      <td>233</td>\n",
       "      <td>234</td>\n",
       "      <td>279</td>\n",
       "      <td>279</td>\n",
       "      <td>274</td>\n",
       "      <td>274</td>\n",
       "      <td>55</td>\n",
       "      <td>12</td>\n",
       "    </tr>\n",
       "    <tr>\n",
       "      <th>Stirya</th>\n",
       "      <td>2386</td>\n",
       "      <td>2385</td>\n",
       "      <td>2532</td>\n",
       "      <td>2532</td>\n",
       "      <td>3276</td>\n",
       "      <td>3276</td>\n",
       "      <td>1044</td>\n",
       "      <td>1044</td>\n",
       "      <td>295</td>\n",
       "      <td>296</td>\n",
       "    </tr>\n",
       "    <tr>\n",
       "      <th>Tirol</th>\n",
       "      <td>660</td>\n",
       "      <td>660</td>\n",
       "      <td>92</td>\n",
       "      <td>92</td>\n",
       "      <td>60</td>\n",
       "      <td>61</td>\n",
       "      <td>108</td>\n",
       "      <td>107</td>\n",
       "      <td>50</td>\n",
       "      <td>49</td>\n",
       "    </tr>\n",
       "    <tr>\n",
       "      <th>Upper-Austria</th>\n",
       "      <td>310</td>\n",
       "      <td>381</td>\n",
       "      <td>658</td>\n",
       "      <td>646</td>\n",
       "      <td>540</td>\n",
       "      <td>475</td>\n",
       "      <td>862</td>\n",
       "      <td>702</td>\n",
       "      <td>128</td>\n",
       "      <td>4</td>\n",
       "    </tr>\n",
       "    <tr>\n",
       "      <th>Vorarlberg</th>\n",
       "      <td>4</td>\n",
       "      <td>14</td>\n",
       "      <td>8</td>\n",
       "      <td>7</td>\n",
       "      <td>4</td>\n",
       "      <td>4</td>\n",
       "      <td>28</td>\n",
       "      <td>28</td>\n",
       "      <td>0</td>\n",
       "      <td>1</td>\n",
       "    </tr>\n",
       "  </tbody>\n",
       "</table>\n",
       "</div>"
      ],
      "text/plain": [
       "                3-k  mechan  Bel.  Belebung   PKA  PKA_   SBR  SBR_  \\\n",
       "BL                                                                    \n",
       "Burgenland        0       0     4         4    14    14     1     1   \n",
       "Carintia       2246    2248  3053      3051   556   556   567   566   \n",
       "Lower-Austria   156     256   311       452   792   893  1956  2513   \n",
       "Salzburg        306     304   233       234   279   279   274   274   \n",
       "Stirya         2386    2385  2532      2532  3276  3276  1044  1044   \n",
       "Tirol           660     660    92        92    60    61   108   107   \n",
       "Upper-Austria   310     381   658       646   540   475   862   702   \n",
       "Vorarlberg        4      14     8         7     4     4    28    28   \n",
       "\n",
       "               unbek+andere  Unbek+andere  \n",
       "BL                                         \n",
       "Burgenland                0             0  \n",
       "Carintia                176           160  \n",
       "Lower-Austria          1199           255  \n",
       "Salzburg                 55            12  \n",
       "Stirya                  295           296  \n",
       "Tirol                    50            49  \n",
       "Upper-Austria           128             4  \n",
       "Vorarlberg                0             1  "
      ]
     },
     "execution_count": 22,
     "metadata": {},
     "output_type": "execute_result"
    }
   ],
   "source": [
    "x"
   ]
  },
  {
   "cell_type": "code",
   "execution_count": 23,
   "metadata": {},
   "outputs": [],
   "source": [
    "x['mechanich']=(x.mechan-x['3-k'])/x.mechan*100\n",
    "x['belebung']=(x.Belebung-x['Bel.'])/x.Belebung*100\n",
    "x['pka']=(x.PKA_-x.PKA)/x.PKA_*100\n",
    "x['sbr']=(x.SBR_-x.SBR)/x.SBR_*100\n",
    "x['andere']=(x['Unbek+andere']-x['unbek+andere'])/x['Unbek+andere']*100\n",
    "extract=x.iloc[:,-5:]\n",
    "extract=extract.fillna(0).abs().round(1)\n"
   ]
  },
  {
   "cell_type": "code",
   "execution_count": 24,
   "metadata": {},
   "outputs": [
    {
     "data": {
      "text/html": [
       "<div>\n",
       "<style scoped>\n",
       "    .dataframe tbody tr th:only-of-type {\n",
       "        vertical-align: middle;\n",
       "    }\n",
       "\n",
       "    .dataframe tbody tr th {\n",
       "        vertical-align: top;\n",
       "    }\n",
       "\n",
       "    .dataframe thead th {\n",
       "        text-align: right;\n",
       "    }\n",
       "</style>\n",
       "<table border=\"1\" class=\"dataframe\">\n",
       "  <thead>\n",
       "    <tr style=\"text-align: right;\">\n",
       "      <th></th>\n",
       "      <th>3-k</th>\n",
       "      <th>mechan</th>\n",
       "      <th>Bel.</th>\n",
       "      <th>Belebung</th>\n",
       "      <th>PKA</th>\n",
       "      <th>PKA_</th>\n",
       "      <th>SBR</th>\n",
       "      <th>SBR_</th>\n",
       "      <th>unbek+andere</th>\n",
       "      <th>Unbek+andere</th>\n",
       "      <th>mechanich</th>\n",
       "      <th>belebung</th>\n",
       "      <th>pka</th>\n",
       "      <th>sbr</th>\n",
       "      <th>andere</th>\n",
       "    </tr>\n",
       "    <tr>\n",
       "      <th>BL</th>\n",
       "      <th></th>\n",
       "      <th></th>\n",
       "      <th></th>\n",
       "      <th></th>\n",
       "      <th></th>\n",
       "      <th></th>\n",
       "      <th></th>\n",
       "      <th></th>\n",
       "      <th></th>\n",
       "      <th></th>\n",
       "      <th></th>\n",
       "      <th></th>\n",
       "      <th></th>\n",
       "      <th></th>\n",
       "      <th></th>\n",
       "    </tr>\n",
       "  </thead>\n",
       "  <tbody>\n",
       "    <tr>\n",
       "      <th>Burgenland</th>\n",
       "      <td>0</td>\n",
       "      <td>0</td>\n",
       "      <td>4</td>\n",
       "      <td>4</td>\n",
       "      <td>14</td>\n",
       "      <td>14</td>\n",
       "      <td>1</td>\n",
       "      <td>1</td>\n",
       "      <td>0</td>\n",
       "      <td>0</td>\n",
       "      <td>NaN</td>\n",
       "      <td>0.000000</td>\n",
       "      <td>0.000000</td>\n",
       "      <td>0.000000</td>\n",
       "      <td>NaN</td>\n",
       "    </tr>\n",
       "    <tr>\n",
       "      <th>Carintia</th>\n",
       "      <td>2246</td>\n",
       "      <td>2248</td>\n",
       "      <td>3053</td>\n",
       "      <td>3051</td>\n",
       "      <td>556</td>\n",
       "      <td>556</td>\n",
       "      <td>567</td>\n",
       "      <td>566</td>\n",
       "      <td>176</td>\n",
       "      <td>160</td>\n",
       "      <td>0.088968</td>\n",
       "      <td>-0.065552</td>\n",
       "      <td>0.000000</td>\n",
       "      <td>-0.176678</td>\n",
       "      <td>-10.000000</td>\n",
       "    </tr>\n",
       "    <tr>\n",
       "      <th>Lower-Austria</th>\n",
       "      <td>156</td>\n",
       "      <td>256</td>\n",
       "      <td>311</td>\n",
       "      <td>452</td>\n",
       "      <td>792</td>\n",
       "      <td>893</td>\n",
       "      <td>1956</td>\n",
       "      <td>2513</td>\n",
       "      <td>1199</td>\n",
       "      <td>255</td>\n",
       "      <td>39.062500</td>\n",
       "      <td>31.194690</td>\n",
       "      <td>11.310190</td>\n",
       "      <td>22.164743</td>\n",
       "      <td>-370.196078</td>\n",
       "    </tr>\n",
       "    <tr>\n",
       "      <th>Salzburg</th>\n",
       "      <td>306</td>\n",
       "      <td>304</td>\n",
       "      <td>233</td>\n",
       "      <td>234</td>\n",
       "      <td>279</td>\n",
       "      <td>279</td>\n",
       "      <td>274</td>\n",
       "      <td>274</td>\n",
       "      <td>55</td>\n",
       "      <td>12</td>\n",
       "      <td>-0.657895</td>\n",
       "      <td>0.427350</td>\n",
       "      <td>0.000000</td>\n",
       "      <td>0.000000</td>\n",
       "      <td>-358.333333</td>\n",
       "    </tr>\n",
       "    <tr>\n",
       "      <th>Stirya</th>\n",
       "      <td>2386</td>\n",
       "      <td>2385</td>\n",
       "      <td>2532</td>\n",
       "      <td>2532</td>\n",
       "      <td>3276</td>\n",
       "      <td>3276</td>\n",
       "      <td>1044</td>\n",
       "      <td>1044</td>\n",
       "      <td>295</td>\n",
       "      <td>296</td>\n",
       "      <td>-0.041929</td>\n",
       "      <td>0.000000</td>\n",
       "      <td>0.000000</td>\n",
       "      <td>0.000000</td>\n",
       "      <td>0.337838</td>\n",
       "    </tr>\n",
       "    <tr>\n",
       "      <th>Tirol</th>\n",
       "      <td>660</td>\n",
       "      <td>660</td>\n",
       "      <td>92</td>\n",
       "      <td>92</td>\n",
       "      <td>60</td>\n",
       "      <td>61</td>\n",
       "      <td>108</td>\n",
       "      <td>107</td>\n",
       "      <td>50</td>\n",
       "      <td>49</td>\n",
       "      <td>0.000000</td>\n",
       "      <td>0.000000</td>\n",
       "      <td>1.639344</td>\n",
       "      <td>-0.934579</td>\n",
       "      <td>-2.040816</td>\n",
       "    </tr>\n",
       "    <tr>\n",
       "      <th>Upper-Austria</th>\n",
       "      <td>310</td>\n",
       "      <td>381</td>\n",
       "      <td>658</td>\n",
       "      <td>646</td>\n",
       "      <td>540</td>\n",
       "      <td>475</td>\n",
       "      <td>862</td>\n",
       "      <td>702</td>\n",
       "      <td>128</td>\n",
       "      <td>4</td>\n",
       "      <td>18.635171</td>\n",
       "      <td>-1.857585</td>\n",
       "      <td>-13.684211</td>\n",
       "      <td>-22.792023</td>\n",
       "      <td>-3100.000000</td>\n",
       "    </tr>\n",
       "    <tr>\n",
       "      <th>Vorarlberg</th>\n",
       "      <td>4</td>\n",
       "      <td>14</td>\n",
       "      <td>8</td>\n",
       "      <td>7</td>\n",
       "      <td>4</td>\n",
       "      <td>4</td>\n",
       "      <td>28</td>\n",
       "      <td>28</td>\n",
       "      <td>0</td>\n",
       "      <td>1</td>\n",
       "      <td>71.428571</td>\n",
       "      <td>-14.285714</td>\n",
       "      <td>0.000000</td>\n",
       "      <td>0.000000</td>\n",
       "      <td>100.000000</td>\n",
       "    </tr>\n",
       "  </tbody>\n",
       "</table>\n",
       "</div>"
      ],
      "text/plain": [
       "                3-k  mechan  Bel.  Belebung   PKA  PKA_   SBR  SBR_  \\\n",
       "BL                                                                    \n",
       "Burgenland        0       0     4         4    14    14     1     1   \n",
       "Carintia       2246    2248  3053      3051   556   556   567   566   \n",
       "Lower-Austria   156     256   311       452   792   893  1956  2513   \n",
       "Salzburg        306     304   233       234   279   279   274   274   \n",
       "Stirya         2386    2385  2532      2532  3276  3276  1044  1044   \n",
       "Tirol           660     660    92        92    60    61   108   107   \n",
       "Upper-Austria   310     381   658       646   540   475   862   702   \n",
       "Vorarlberg        4      14     8         7     4     4    28    28   \n",
       "\n",
       "               unbek+andere  Unbek+andere  mechanich   belebung        pka  \\\n",
       "BL                                                                           \n",
       "Burgenland                0             0        NaN   0.000000   0.000000   \n",
       "Carintia                176           160   0.088968  -0.065552   0.000000   \n",
       "Lower-Austria          1199           255  39.062500  31.194690  11.310190   \n",
       "Salzburg                 55            12  -0.657895   0.427350   0.000000   \n",
       "Stirya                  295           296  -0.041929   0.000000   0.000000   \n",
       "Tirol                    50            49   0.000000   0.000000   1.639344   \n",
       "Upper-Austria           128             4  18.635171  -1.857585 -13.684211   \n",
       "Vorarlberg                0             1  71.428571 -14.285714   0.000000   \n",
       "\n",
       "                     sbr       andere  \n",
       "BL                                     \n",
       "Burgenland      0.000000          NaN  \n",
       "Carintia       -0.176678   -10.000000  \n",
       "Lower-Austria  22.164743  -370.196078  \n",
       "Salzburg        0.000000  -358.333333  \n",
       "Stirya          0.000000     0.337838  \n",
       "Tirol          -0.934579    -2.040816  \n",
       "Upper-Austria -22.792023 -3100.000000  \n",
       "Vorarlberg      0.000000   100.000000  "
      ]
     },
     "execution_count": 24,
     "metadata": {},
     "output_type": "execute_result"
    }
   ],
   "source": [
    "x"
   ]
  },
  {
   "cell_type": "code",
   "execution_count": 25,
   "metadata": {},
   "outputs": [
    {
     "data": {
      "image/png": "[encoded data removed]",
      "text/plain": [
       "<Figure size 504x504 with 1 Axes>"
      ]
     },
     "metadata": {
      "needs_background": "light"
     },
     "output_type": "display_data"
    }
   ],
   "source": [
    "fi,ax=plt.subplots(figsize=(7,7))\n",
    "sbn.heatmap(extract, cmap='viridis', annot=True, fmt='.1f', linewidths=0.01, ax=ax, cbar=False)\n",
    "\n",
    "ax.set_title('percentual difference between data and control by state and technology'.capitalize())\n",
    "plt.savefig('graphs/heatmap_control.png', bbox_inches='tight')"
   ]
  },
  {
   "cell_type": "markdown",
   "metadata": {},
   "source": [
    "# check\n",
    "    > LOWer austria unbekkant > data problem >ask gunter\n",
    "    > stiria has higher control unbekkant\n",
    "    > Upper AUS andere > new data"
   ]
  },
  {
   "cell_type": "markdown",
   "metadata": {},
   "source": [
    "# RESULT\n",
    "## EVERYTHING LOOKS GOOD, EXCEPT FOR UNBEKANNT. NÖ is particularly bad!"
   ]
  },
  {
   "cell_type": "markdown",
   "metadata": {},
   "source": [
    "# differnece between database and spatial dtaset"
   ]
  },
  {
   "cell_type": "code",
   "execution_count": 26,
   "metadata": {},
   "outputs": [],
   "source": [
    "database=pd.read_excel('final/database.xlsx')\n",
    "database.PE=database.PE.astype(np.int64).round()"
   ]
  },
  {
   "cell_type": "code",
   "execution_count": 27,
   "metadata": {},
   "outputs": [],
   "source": [
    "db=database.groupby('BL').sum().reset_index().set_index('BL')\n",
    "d=data_all.groupby('BL').sum().reset_index().set_index('BL')"
   ]
  },
  {
   "cell_type": "code",
   "execution_count": 28,
   "metadata": {},
   "outputs": [
    {
     "data": {
      "text/html": [
       "<div>\n",
       "<style scoped>\n",
       "    .dataframe tbody tr th:only-of-type {\n",
       "        vertical-align: middle;\n",
       "    }\n",
       "\n",
       "    .dataframe tbody tr th {\n",
       "        vertical-align: top;\n",
       "    }\n",
       "\n",
       "    .dataframe thead th {\n",
       "        text-align: right;\n",
       "    }\n",
       "</style>\n",
       "<table border=\"1\" class=\"dataframe\">\n",
       "  <thead>\n",
       "    <tr style=\"text-align: right;\">\n",
       "      <th></th>\n",
       "      <th>year</th>\n",
       "      <th>PE</th>\n",
       "      <th>ID Nr.</th>\n",
       "    </tr>\n",
       "    <tr>\n",
       "      <th>BL</th>\n",
       "      <th></th>\n",
       "      <th></th>\n",
       "      <th></th>\n",
       "    </tr>\n",
       "  </thead>\n",
       "  <tbody>\n",
       "    <tr>\n",
       "      <th>Burgenland</th>\n",
       "      <td>44267</td>\n",
       "      <td>948</td>\n",
       "      <td>3594</td>\n",
       "    </tr>\n",
       "    <tr>\n",
       "      <th>Carintia</th>\n",
       "      <td>14480596</td>\n",
       "      <td>100001</td>\n",
       "      <td>0</td>\n",
       "    </tr>\n",
       "    <tr>\n",
       "      <th>Lower-Austria</th>\n",
       "      <td>10078725</td>\n",
       "      <td>132674</td>\n",
       "      <td>0</td>\n",
       "    </tr>\n",
       "    <tr>\n",
       "      <th>Salzburg</th>\n",
       "      <td>3454175</td>\n",
       "      <td>30222</td>\n",
       "      <td>0</td>\n",
       "    </tr>\n",
       "    <tr>\n",
       "      <th>Stirya</th>\n",
       "      <td>21058799</td>\n",
       "      <td>90558</td>\n",
       "      <td>0</td>\n",
       "    </tr>\n",
       "    <tr>\n",
       "      <th>Tirol</th>\n",
       "      <td>2576060</td>\n",
       "      <td>32359</td>\n",
       "      <td>0</td>\n",
       "    </tr>\n",
       "    <tr>\n",
       "      <th>Upper-Austria</th>\n",
       "      <td>5253862</td>\n",
       "      <td>48172</td>\n",
       "      <td>0</td>\n",
       "    </tr>\n",
       "    <tr>\n",
       "      <th>Vienna</th>\n",
       "      <td>49719</td>\n",
       "      <td>1550</td>\n",
       "      <td>0</td>\n",
       "    </tr>\n",
       "    <tr>\n",
       "      <th>Vorarlberg</th>\n",
       "      <td>313206</td>\n",
       "      <td>5703</td>\n",
       "      <td>0</td>\n",
       "    </tr>\n",
       "  </tbody>\n",
       "</table>\n",
       "</div>"
      ],
      "text/plain": [
       "                   year      PE  ID Nr.\n",
       "BL                                     \n",
       "Burgenland        44267     948    3594\n",
       "Carintia       14480596  100001       0\n",
       "Lower-Austria  10078725  132674       0\n",
       "Salzburg        3454175   30222       0\n",
       "Stirya         21058799   90558       0\n",
       "Tirol           2576060   32359       0\n",
       "Upper-Austria   5253862   48172       0\n",
       "Vienna            49719    1550       0\n",
       "Vorarlberg       313206    5703       0"
      ]
     },
     "execution_count": 28,
     "metadata": {},
     "output_type": "execute_result"
    }
   ],
   "source": [
    "db"
   ]
  },
  {
   "cell_type": "code",
   "execution_count": 29,
   "metadata": {},
   "outputs": [
    {
     "data": {
      "text/html": [
       "<div>\n",
       "<style scoped>\n",
       "    .dataframe tbody tr th:only-of-type {\n",
       "        vertical-align: middle;\n",
       "    }\n",
       "\n",
       "    .dataframe tbody tr th {\n",
       "        vertical-align: top;\n",
       "    }\n",
       "\n",
       "    .dataframe thead th {\n",
       "        text-align: right;\n",
       "    }\n",
       "</style>\n",
       "<table border=\"1\" class=\"dataframe\">\n",
       "  <thead>\n",
       "    <tr style=\"text-align: right;\">\n",
       "      <th></th>\n",
       "      <th>year</th>\n",
       "      <th>PE</th>\n",
       "      <th>ID Nr.</th>\n",
       "      <th>%PE_nonitri</th>\n",
       "      <th>%before_reg</th>\n",
       "      <th>%no_nitri</th>\n",
       "      <th>GKZ</th>\n",
       "      <th>PE_nonitri</th>\n",
       "      <th>before_reg</th>\n",
       "      <th>freq</th>\n",
       "      <th>mean_year</th>\n",
       "      <th>no_nitri</th>\n",
       "      <th>sum_PE</th>\n",
       "      <th>diff</th>\n",
       "    </tr>\n",
       "    <tr>\n",
       "      <th>BL</th>\n",
       "      <th></th>\n",
       "      <th></th>\n",
       "      <th></th>\n",
       "      <th></th>\n",
       "      <th></th>\n",
       "      <th></th>\n",
       "      <th></th>\n",
       "      <th></th>\n",
       "      <th></th>\n",
       "      <th></th>\n",
       "      <th></th>\n",
       "      <th></th>\n",
       "      <th></th>\n",
       "      <th></th>\n",
       "    </tr>\n",
       "  </thead>\n",
       "  <tbody>\n",
       "    <tr>\n",
       "      <th>Burgenland</th>\n",
       "      <td>44267</td>\n",
       "      <td>948</td>\n",
       "      <td>3594</td>\n",
       "      <td>0.000000</td>\n",
       "      <td>0.000000</td>\n",
       "      <td>0.000000</td>\n",
       "      <td>0.0</td>\n",
       "      <td>0.000000</td>\n",
       "      <td>0.0</td>\n",
       "      <td>0.0</td>\n",
       "      <td>0.0</td>\n",
       "      <td>0.0</td>\n",
       "      <td>0.000000</td>\n",
       "      <td>100.000000</td>\n",
       "    </tr>\n",
       "    <tr>\n",
       "      <th>Carintia</th>\n",
       "      <td>14480596</td>\n",
       "      <td>100001</td>\n",
       "      <td>0</td>\n",
       "      <td>21577.956706</td>\n",
       "      <td>24978.283457</td>\n",
       "      <td>22053.547821</td>\n",
       "      <td>13906191.0</td>\n",
       "      <td>39658.733333</td>\n",
       "      <td>2577.0</td>\n",
       "      <td>7052.0</td>\n",
       "      <td>1338321.0</td>\n",
       "      <td>2335.0</td>\n",
       "      <td>97832.559817</td>\n",
       "      <td>2.168418</td>\n",
       "    </tr>\n",
       "    <tr>\n",
       "      <th>Lower-Austria</th>\n",
       "      <td>10078725</td>\n",
       "      <td>132674</td>\n",
       "      <td>0</td>\n",
       "      <td>11460.041745</td>\n",
       "      <td>19316.379513</td>\n",
       "      <td>11662.872493</td>\n",
       "      <td>40170236.0</td>\n",
       "      <td>8625.000000</td>\n",
       "      <td>551.0</td>\n",
       "      <td>4313.0</td>\n",
       "      <td>2544418.0</td>\n",
       "      <td>380.0</td>\n",
       "      <td>124026.000000</td>\n",
       "      <td>6.518233</td>\n",
       "    </tr>\n",
       "    <tr>\n",
       "      <th>Salzburg</th>\n",
       "      <td>3454175</td>\n",
       "      <td>30222</td>\n",
       "      <td>0</td>\n",
       "      <td>4447.797708</td>\n",
       "      <td>346.007969</td>\n",
       "      <td>5554.005042</td>\n",
       "      <td>14468651.0</td>\n",
       "      <td>4312.000000</td>\n",
       "      <td>15.0</td>\n",
       "      <td>1708.0</td>\n",
       "      <td>572299.0</td>\n",
       "      <td>308.0</td>\n",
       "      <td>30336.960000</td>\n",
       "      <td>-0.380385</td>\n",
       "    </tr>\n",
       "    <tr>\n",
       "      <th>Stirya</th>\n",
       "      <td>21058799</td>\n",
       "      <td>90558</td>\n",
       "      <td>0</td>\n",
       "      <td>22920.534970</td>\n",
       "      <td>33273.464291</td>\n",
       "      <td>30728.417298</td>\n",
       "      <td>76257947.0</td>\n",
       "      <td>15498.000000</td>\n",
       "      <td>2294.0</td>\n",
       "      <td>10173.0</td>\n",
       "      <td>2476407.0</td>\n",
       "      <td>2103.0</td>\n",
       "      <td>84977.000000</td>\n",
       "      <td>6.162901</td>\n",
       "    </tr>\n",
       "    <tr>\n",
       "      <th>Tirol</th>\n",
       "      <td>2576060</td>\n",
       "      <td>32359</td>\n",
       "      <td>0</td>\n",
       "      <td>8509.671424</td>\n",
       "      <td>11409.906950</td>\n",
       "      <td>14261.520052</td>\n",
       "      <td>18845149.0</td>\n",
       "      <td>8348.733333</td>\n",
       "      <td>533.0</td>\n",
       "      <td>1294.0</td>\n",
       "      <td>531659.0</td>\n",
       "      <td>709.0</td>\n",
       "      <td>32385.226667</td>\n",
       "      <td>-0.081049</td>\n",
       "    </tr>\n",
       "    <tr>\n",
       "      <th>Upper-Austria</th>\n",
       "      <td>5253862</td>\n",
       "      <td>48172</td>\n",
       "      <td>0</td>\n",
       "      <td>7172.474979</td>\n",
       "      <td>8908.741933</td>\n",
       "      <td>8458.990129</td>\n",
       "      <td>27021586.0</td>\n",
       "      <td>2889.000000</td>\n",
       "      <td>381.0</td>\n",
       "      <td>2633.0</td>\n",
       "      <td>1311567.0</td>\n",
       "      <td>368.0</td>\n",
       "      <td>48172.000000</td>\n",
       "      <td>0.000000</td>\n",
       "    </tr>\n",
       "    <tr>\n",
       "      <th>Vienna</th>\n",
       "      <td>49719</td>\n",
       "      <td>1550</td>\n",
       "      <td>0</td>\n",
       "      <td>0.000000</td>\n",
       "      <td>0.000000</td>\n",
       "      <td>0.000000</td>\n",
       "      <td>0.0</td>\n",
       "      <td>0.000000</td>\n",
       "      <td>0.0</td>\n",
       "      <td>0.0</td>\n",
       "      <td>0.0</td>\n",
       "      <td>0.0</td>\n",
       "      <td>0.000000</td>\n",
       "      <td>100.000000</td>\n",
       "    </tr>\n",
       "    <tr>\n",
       "      <th>Vorarlberg</th>\n",
       "      <td>313206</td>\n",
       "      <td>5703</td>\n",
       "      <td>0</td>\n",
       "      <td>0.000000</td>\n",
       "      <td>0.000000</td>\n",
       "      <td>0.000000</td>\n",
       "      <td>0.0</td>\n",
       "      <td>0.000000</td>\n",
       "      <td>0.0</td>\n",
       "      <td>0.0</td>\n",
       "      <td>0.0</td>\n",
       "      <td>0.0</td>\n",
       "      <td>0.000000</td>\n",
       "      <td>100.000000</td>\n",
       "    </tr>\n",
       "  </tbody>\n",
       "</table>\n",
       "</div>"
      ],
      "text/plain": [
       "                   year      PE  ID Nr.   %PE_nonitri   %before_reg  \\\n",
       "BL                                                                    \n",
       "Burgenland        44267     948    3594      0.000000      0.000000   \n",
       "Carintia       14480596  100001       0  21577.956706  24978.283457   \n",
       "Lower-Austria  10078725  132674       0  11460.041745  19316.379513   \n",
       "Salzburg        3454175   30222       0   4447.797708    346.007969   \n",
       "Stirya         21058799   90558       0  22920.534970  33273.464291   \n",
       "Tirol           2576060   32359       0   8509.671424  11409.906950   \n",
       "Upper-Austria   5253862   48172       0   7172.474979   8908.741933   \n",
       "Vienna            49719    1550       0      0.000000      0.000000   \n",
       "Vorarlberg       313206    5703       0      0.000000      0.000000   \n",
       "\n",
       "                  %no_nitri         GKZ    PE_nonitri  before_reg     freq  \\\n",
       "BL                                                                           \n",
       "Burgenland         0.000000         0.0      0.000000         0.0      0.0   \n",
       "Carintia       22053.547821  13906191.0  39658.733333      2577.0   7052.0   \n",
       "Lower-Austria  11662.872493  40170236.0   8625.000000       551.0   4313.0   \n",
       "Salzburg        5554.005042  14468651.0   4312.000000        15.0   1708.0   \n",
       "Stirya         30728.417298  76257947.0  15498.000000      2294.0  10173.0   \n",
       "Tirol          14261.520052  18845149.0   8348.733333       533.0   1294.0   \n",
       "Upper-Austria   8458.990129  27021586.0   2889.000000       381.0   2633.0   \n",
       "Vienna             0.000000         0.0      0.000000         0.0      0.0   \n",
       "Vorarlberg         0.000000         0.0      0.000000         0.0      0.0   \n",
       "\n",
       "               mean_year  no_nitri         sum_PE        diff  \n",
       "BL                                                             \n",
       "Burgenland           0.0       0.0       0.000000  100.000000  \n",
       "Carintia       1338321.0    2335.0   97832.559817    2.168418  \n",
       "Lower-Austria  2544418.0     380.0  124026.000000    6.518233  \n",
       "Salzburg        572299.0     308.0   30336.960000   -0.380385  \n",
       "Stirya         2476407.0    2103.0   84977.000000    6.162901  \n",
       "Tirol           531659.0     709.0   32385.226667   -0.081049  \n",
       "Upper-Austria  1311567.0     368.0   48172.000000    0.000000  \n",
       "Vienna               0.0       0.0       0.000000  100.000000  \n",
       "Vorarlberg           0.0       0.0       0.000000  100.000000  "
      ]
     },
     "execution_count": 29,
     "metadata": {},
     "output_type": "execute_result"
    }
   ],
   "source": [
    "#x=pd.merge(db,d, left_index=True, right_index=True)[['PE','sum_PE']].astype(int)\n",
    "#x['diff']=(x.PE-x.sum_PE)/x.PE*100\n",
    "\n",
    "x=db.join(d).fillna(0)\n",
    "x['diff']=(x.PE-x.sum_PE)/x.PE*100\n",
    "x"
   ]
  },
  {
   "cell_type": "code",
   "execution_count": 30,
   "metadata": {},
   "outputs": [
    {
     "data": {
      "text/plain": [
       "5.53097524711982"
      ]
     },
     "execution_count": 30,
     "metadata": {},
     "output_type": "execute_result"
    }
   ],
   "source": [
    "#all in all difeerence\n",
    "(x.PE.sum()-x.sum_PE.sum())/x.PE.sum()*100"
   ]
  },
  {
   "cell_type": "code",
   "execution_count": 31,
   "metadata": {},
   "outputs": [],
   "source": [
    "excluded_states=x.loc['Carintia':'Upper-Austria',:]"
   ]
  },
  {
   "cell_type": "markdown",
   "metadata": {},
   "source": [
    "# loss when referencing to spatial: database Vs spatial"
   ]
  },
  {
   "cell_type": "code",
   "execution_count": 32,
   "metadata": {},
   "outputs": [
    {
     "data": {
      "image/png": "[encoded data removed]",
      "text/plain": [
       "<Figure size 432x288 with 1 Axes>"
      ]
     },
     "metadata": {
      "needs_background": "light"
     },
     "output_type": "display_data"
    }
   ],
   "source": [
    "# add % difference!\n",
    "fig,ax=plt.subplots()\n",
    "x.sort_values('BL').plot.bar(y=['sum_PE','PE'],ax=ax)\n",
    "\n",
    "which=[9,10,11,12,13,14,15,16,17]\n",
    "values=[x for x in x.sort_values('BL')['diff'].round(1).abs()]\n",
    "#values[5]=4.3\n",
    "\n",
    "ax.legend(['spatial data','database'])\n",
    "plt.suptitle('Amount of PEs by federal state')\n",
    "ax.set_title('difference in % on bar top')\n",
    "\n",
    "\n",
    "#which=range(len(ax.patches))\n",
    "#which=[6,7,8,9,10,11]\n",
    "#which=[0,1,2,3,4,5]\n",
    "n=0\n",
    "for index, rect in enumerate(ax.patches):\n",
    "    if index in which:\n",
    "        \n",
    "        height = rect.get_height()\n",
    "        ax.text(rect.get_x()-0.13 + rect.get_width() / 2, height+150 , values[n],\n",
    "                ha='center', va='bottom', fontsize='medium', fontstretch='condensed')\n",
    "        n=n+1\n",
    "plt.savefig('graphs/spatial_precision.png', bbox_inches='tight')\n"
   ]
  },
  {
   "cell_type": "code",
   "execution_count": 41,
   "metadata": {},
   "outputs": [
    {
     "data": {
      "image/png": "[encoded data removed]",
      "text/plain": [
       "<Figure size 720x504 with 2 Axes>"
      ]
     },
     "metadata": {
      "needs_background": "light"
     },
     "output_type": "display_data"
    }
   ],
   "source": [
    "# add % difference!\n",
    "fig,ax=plt.subplots(1,2, figsize=(10,7))\n",
    "\n",
    "#spatial with control\n",
    "control_df.sort_index().plot.bar(y=['control_freq_all','freq_all'],ax=ax[0])\n",
    "which=[9,10,11,12,13,14,15,16,17]\n",
    "values=[x for x in control_df.sort_index()      ['div'].round(1)]\n",
    "#values[5]=4.3\n",
    "ax[0].legend(['control','spatial data'])\n",
    "plt.suptitle('Monitoring the data loss due to spatial referencing ')\n",
    "ax[0].set_title('comparing control and spatial \\n by number of WWTPs')\n",
    "which=[0,1,2,3,4,5,6,7,8]\n",
    "n=0\n",
    "for index, rect in enumerate(ax[0].patches):\n",
    "    if index in which:\n",
    "        \n",
    "        height = rect.get_height()\n",
    "        ax[0].text(rect.get_x()+0.13 + rect.get_width() / 2, height+150 , values[n],\n",
    "                ha='center', va='bottom', fontsize='medium', fontstretch='condensed')\n",
    "        n=n+1\n",
    "\n",
    "\n",
    "#second ax\n",
    "x.plot.bar(y=['PE','sum_PE'],ax=ax[1])\n",
    "which=[0,1,2,3,4,5,6,7,8]\n",
    "\n",
    "values=[x for x in x['diff'].round(1).abs()]\n",
    "ax[1].legend(['database','spatial data'])\n",
    "ax[1].set_title('comparing the database and spatial data\\n  by number of PEs')\n",
    "\n",
    "n=0\n",
    "for index, rect in enumerate(ax[1].patches):\n",
    "    if index in which:\n",
    "        \n",
    "        height = rect.get_height()\n",
    "        ax[1].text(rect.get_x()+0.13 + rect.get_width() / 2, height+250 , values[n],\n",
    "                ha='center', va='bottom', fontsize='medium', fontstretch='condensed')\n",
    "        n=n+1\n",
    "\n",
    "overall_freq=(control_df.control_freq_all.sum()-control_df.freq_all.sum())/control_df.control_freq_all.sum()*100\n",
    "#add text\n",
    "props = dict(boxstyle='round', facecolor='wheat', alpha=0.5)\n",
    "fig.text(0.39, -0.1, 'difference in % on bar top', fontsize=14,\n",
    "        verticalalignment='top',bbox=props)\n",
    "props = dict(boxstyle='round', facecolor='tomato', alpha=0.5)\n",
    "ax[0].text(5.1, 9700, 'overall loss :\\n       {}%'.format(overall_freq.round(1)), fontsize=14,\n",
    "        verticalalignment='top',bbox=props)\n",
    "\n",
    "overall_PE=(x.PE.sum()-x.sum_PE.sum())/x.PE.sum()*100\n",
    "#add text2\n",
    "ax[1].text(5.1, 120000, 'overall loss :\\n       {}%'.format(overall_PE.round(1)), fontsize=14,\n",
    "        verticalalignment='top',bbox=props)\n",
    "plt.savefig('graphs/spatial_precision.png', bbox_inches='tight')"
   ]
  },
  {
   "cell_type": "markdown",
   "metadata": {},
   "source": [
    "# result : \n",
    "    > very good. minimal difference\n",
    "    > we can say : because control and datbase are same, overall data loss with spatial is 5.5%"
   ]
  }
 ],
 "metadata": {
  "interpreter": {
   "hash": "d4a4f80f0852bbaf4e4f090cf7fb2ba0e283c9764699a540eedc0c1ab340cdd7"
  },
  "kernelspec": {
   "display_name": "Python 3.8.11 64-bit ('geo': conda)",
   "language": "python",
   "name": "python3"
  },
  "language_info": {
   "codemirror_mode": {
    "name": "ipython",
    "version": 3
   },
   "file_extension": ".py",
   "mimetype": "text/x-python",
   "name": "python",
   "nbconvert_exporter": "python",
   "pygments_lexer": "ipython3",
   "version": "3.8.11"
  },
  "orig_nbformat": 4
 },
 "nbformat": 4,
 "nbformat_minor": 2
}
