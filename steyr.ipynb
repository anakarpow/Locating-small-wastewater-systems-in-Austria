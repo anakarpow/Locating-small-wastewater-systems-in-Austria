{
 "cells": [
  {
   "cell_type": "code",
   "execution_count": 1,
   "metadata": {},
   "outputs": [],
   "source": [
    "import pandas as pd\n",
    "import numpy as np\n",
    "from functions import *\n",
    "import matplotlib.pyplot as plt\n",
    "\n",
    "d = r'C:/Users/fabrizio/Documents/R_data/PROJECTS/MASTER/DATA/KKA STMK NEU DE.xlsx'\n",
    "\n",
    "data, trial = reader(d, 'Data Stmk', header=18, test=False)\n",
    "data.dropna(how='all', axis=1,inplace=True)\n",
    "data=cleaner(data,['Unnamed: 0', 'ID','Typ','Subtyp','Gewässer','Unnamed: 7','lfd.Nr.'])\n"
   ]
  },
  {
   "cell_type": "code",
   "execution_count": 2,
   "metadata": {},
   "outputs": [],
   "source": [
    "data=data[~data.KG.isna()]\n",
    "data=data.fillna(0)"
   ]
  },
  {
   "cell_type": "code",
   "execution_count": 3,
   "metadata": {},
   "outputs": [],
   "source": [
    "conditions_tech = [\n",
    "    data[\"Unbek.\"] == 1,\n",
    "    data[\"Mehr-kammer\"] == 1,\n",
    "    data[\"Durchl.\"] == 1, #\n",
    "    data[\"SBR\"] == 1,\n",
    "    data[\"MBR\"] == 1,\n",
    "    data[\"Tropf\"] == 1,\n",
    "    data[\"Fest\"] == 1,\n",
    "    data[\"BKF\"] == 1,\n",
    "    data[\"PKA\"] == 1,\n",
    "    data[\"Tauch\"] == 1,\n",
    "    data[\"Andere\"] == 1,\n",
    "]\n",
    "\n",
    "\n",
    "outcome_tech = ['Unbekannt', '3-k', 'Bel.', 'SBR', 'MBR', \n",
    "                'Tropf', 'Fest',  'BKF', 'PKA',\n",
    "                'Tauch', 'Andere']\n",
    "\n",
    "\n"
   ]
  },
  {
   "cell_type": "code",
   "execution_count": 4,
   "metadata": {},
   "outputs": [],
   "source": [
    "data=logical_column(conditions_tech,outcome_tech,data,'tech_type')"
   ]
  },
  {
   "cell_type": "code",
   "execution_count": 5,
   "metadata": {},
   "outputs": [
    {
     "data": {
      "text/plain": [
       "<AxesSubplot:>"
      ]
     },
     "execution_count": 5,
     "metadata": {},
     "output_type": "execute_result"
    },
    {
     "data": {
      "image/png": "[encoded data removed]",
      "text/plain": [
       "<Figure size 432x288 with 1 Axes>"
      ]
     },
     "metadata": {
      "needs_background": "light"
     },
     "output_type": "display_data"
    }
   ],
   "source": [
    "data.tech_type.value_counts().plot.bar()"
   ]
  },
  {
   "cell_type": "code",
   "execution_count": 6,
   "metadata": {},
   "outputs": [],
   "source": [
    "conditions_bau = [\n",
    "    data[\"Unbek.\"] == 1,\n",
    "    data[\"Mechan.\"] == 1,\n",
    "    data[\"Biolog\"] == 1,\n",
    "    data[\"Andere\"] == 1,\n",
    "    (data[\"Biolog\"] == 1) & (data[\"Mechan.\"] == 1)\n",
    "]\n",
    "\n",
    "outcomes_bau = [\n",
    "    \"Unbekannt\", \"Mech\", \"Bio\", \"Andere\", \"Bio\"\n",
    "]"
   ]
  },
  {
   "cell_type": "code",
   "execution_count": 7,
   "metadata": {},
   "outputs": [],
   "source": [
    "data=logical_column(conditions_bau,outcomes_bau,data,'bautyp')\n",
    "tech_type=data[['Mehr-kammer', 'Durchl.',\n",
    "       'SBR', 'MBR', 'Tropf', 'Tauch', 'Fest', 'PKA', 'BKF']]\n",
    "\n",
    "\n",
    "bautyp=data[['Mechan.', 'Biolog', 'Andere', 'Unbek.',]]\n",
    "data=col_dropper(data,tech_type,bautyp)"
   ]
  },
  {
   "cell_type": "code",
   "execution_count": 8,
   "metadata": {},
   "outputs": [
    {
     "data": {
      "text/plain": [
       "<AxesSubplot:>"
      ]
     },
     "execution_count": 8,
     "metadata": {},
     "output_type": "execute_result"
    },
    {
     "data": {
      "image/png": "[encoded data removed]",
      "text/plain": [
       "<Figure size 432x288 with 1 Axes>"
      ]
     },
     "metadata": {
      "needs_background": "light"
     },
     "output_type": "display_data"
    }
   ],
   "source": [
    "data.bautyp.value_counts().plot.bar()\n"
   ]
  },
  {
   "cell_type": "code",
   "execution_count": null,
   "metadata": {},
   "outputs": [],
   "source": []
  },
  {
   "cell_type": "code",
   "execution_count": 9,
   "metadata": {},
   "outputs": [
    {
     "data": {
      "text/plain": [
       "PKA          3283\n",
       "Bel.         2525\n",
       "3-k          2093\n",
       "SBR          1044\n",
       "Tropf         381\n",
       "BKF           367\n",
       "Fest          334\n",
       "Unbekannt     218\n",
       "Tauch          44\n",
       "0              36\n",
       "Andere         11\n",
       "MBR             2\n",
       "Name: tech_type, dtype: int64"
      ]
     },
     "execution_count": 9,
     "metadata": {},
     "output_type": "execute_result"
    }
   ],
   "source": [
    "data.tech_type.value_counts()\n"
   ]
  },
  {
   "cell_type": "code",
   "execution_count": 14,
   "metadata": {},
   "outputs": [],
   "source": [
    "data['KG_NR']=data.KG.str.split().str[0]\n",
    "data['KG_name']=data.KG.str.split().str[1]\n",
    "\n",
    "\n",
    "\n",
    "data.drop(columns=['KG'],inplace=True)"
   ]
  },
  {
   "cell_type": "code",
   "execution_count": 13,
   "metadata": {},
   "outputs": [],
   "source": [
    "data.to_excel('output/Steyr.xlsx',index=False)"
   ]
  }
 ],
 "metadata": {
  "interpreter": {
   "hash": "d4a4f80f0852bbaf4e4f090cf7fb2ba0e283c9764699a540eedc0c1ab340cdd7"
  },
  "kernelspec": {
   "display_name": "Python 3.8.11 64-bit ('geo': conda)",
   "name": "python3"
  },
  "language_info": {
   "codemirror_mode": {
    "name": "ipython",
    "version": 3
   },
   "file_extension": ".py",
   "mimetype": "text/x-python",
   "name": "python",
   "nbconvert_exporter": "python",
   "pygments_lexer": "ipython3",
   "version": "3.8.11"
  },
  "orig_nbformat": 4
 },
 "nbformat": 4,
 "nbformat_minor": 2
}
