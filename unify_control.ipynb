{
 "cells": [
  {
   "cell_type": "markdown",
   "metadata": {},
   "source": [
    "# read half-way files, concat together and compare total values with Langergraber values"
   ]
  },
  {
   "cell_type": "code",
   "execution_count": 167,
   "metadata": {},
   "outputs": [],
   "source": [
    "import pandas as pd\n",
    "import numpy as np\n",
    "import geopandas\n",
    "import matplotlib.pyplot as plt\n",
    "from pandas.io.parsers import read_csv\n",
    "from gis_functions import *"
   ]
  },
  {
   "cell_type": "code",
   "execution_count": 194,
   "metadata": {},
   "outputs": [],
   "source": [
    "sbg=pd.read_excel('half-way/'+'sbg'+'.xlsx')\n",
    "sbg=sbg.loc[:,['year','PE','tech_type']]\n",
    "sbg['BL']='Salzburg'"
   ]
  },
  {
   "cell_type": "code",
   "execution_count": 168,
   "metadata": {},
   "outputs": [],
   "source": [
    "karn=pd.read_excel('half-way/'+'karn'+'.xlsx')\n",
    "karn=karn.loc[:,['year','PE','tech_type']]\n",
    "karn['BL']='Carintia'"
   ]
  },
  {
   "cell_type": "code",
   "execution_count": 174,
   "metadata": {},
   "outputs": [],
   "source": [
    "noe=pd.read_excel('half-way/'+'noe'+'.xlsx')\n",
    "noe=noe.loc[:,['INBETRIEBNAHME','EW60','tech_type']]\n",
    "noe.rename(columns={'INBETRIEBNAHME':'year','EW60':'PE' },inplace=True)\n",
    "noe['BL']='Lower-Austria'"
   ]
  },
  {
   "cell_type": "code",
   "execution_count": 178,
   "metadata": {},
   "outputs": [],
   "source": [
    "tirol=pd.read_excel('half-way/'+'tirol'+'.xlsx')\n",
    "tirol=tirol.loc[:,['year','PE','tech_type']]\n",
    "tirol['BL']='Tirol'"
   ]
  },
  {
   "cell_type": "code",
   "execution_count": 180,
   "metadata": {},
   "outputs": [],
   "source": [
    "steyr=pd.read_excel('half-way/'+'steyr'+'.xlsx')\n",
    "steyr=steyr.loc[:,['year','PE','tech_type']]\n",
    "steyr['BL']='Stirya'"
   ]
  },
  {
   "cell_type": "code",
   "execution_count": 182,
   "metadata": {},
   "outputs": [],
   "source": [
    "oebo=pd.read_excel('half-way/'+'oebo'+'.xlsx')\n",
    "oebo=oebo.loc[:,['INBETRIEBNAHME','EW60','Verfahren']]\n",
    "oebo['BL']='Upper-Austria'\n",
    "oebo.rename(columns={'INBETRIEBNAHME':'year','EW60':'PE','Verfahren':'tech_type'},inplace=True)"
   ]
  },
  {
   "cell_type": "code",
   "execution_count": 195,
   "metadata": {},
   "outputs": [],
   "source": [
    "files=[karn,steyr, noe,tirol,oebo,sbg]"
   ]
  },
  {
   "cell_type": "code",
   "execution_count": 196,
   "metadata": {},
   "outputs": [],
   "source": [
    "data=pd.concat(files)"
   ]
  },
  {
   "cell_type": "code",
   "execution_count": 197,
   "metadata": {},
   "outputs": [
    {
     "data": {
      "text/plain": [
       "BL\n",
       "Carintia          7276\n",
       "Lower-Austria     5026\n",
       "Salzburg          1732\n",
       "Stirya           10338\n",
       "Tirol             1294\n",
       "Upper-Austria     2522\n",
       "Name: PE, dtype: int64"
      ]
     },
     "execution_count": 197,
     "metadata": {},
     "output_type": "execute_result"
    }
   ],
   "source": [
    "#number of alnage per BL\n",
    "#looks good. control with Tab.2 in Langergraber. \n",
    "data.groupby('BL').count()['PE']"
   ]
  },
  {
   "cell_type": "code",
   "execution_count": 205,
   "metadata": {},
   "outputs": [
    {
     "data": {
      "text/plain": [
       "BL             tech_type \n",
       "Carintia       3-k           2429\n",
       "               BKF            309\n",
       "               Bel.          3145\n",
       "               Fest            55\n",
       "               PKA            563\n",
       "                             ... \n",
       "Upper-Austria  PF             540\n",
       "               SBR            573\n",
       "               SBR +          289\n",
       "               Sonstig        128\n",
       "               mechanisch     310\n",
       "Name: PE, Length: 64, dtype: int64"
      ]
     },
     "execution_count": 205,
     "metadata": {},
     "output_type": "execute_result"
    }
   ],
   "source": [
    "#anlage per tech_type per BL\n",
    "grouped=data.groupby(['BL','tech_type']).count().reset_index()\n",
    "#grouped[grouped.BL=='Salzburg']\n",
    "#looks allright\n",
    "data.groupby(['BL','tech_type']).count()['PE']\n",
    "#stiria and tirol have 0 as techtype category. substitute\n",
    "#UpperA has different category. anyway pattern matches. standardize categories for final file. also data has neen cropped to <50"
   ]
  },
  {
   "cell_type": "code",
   "execution_count": 206,
   "metadata": {},
   "outputs": [
    {
     "data": {
      "text/plain": [
       "BL\n",
       "Carintia         101207.226484\n",
       "Lower-Austria    132674.000000\n",
       "Salzburg          30601.626667\n",
       "Stirya            86895.000000\n",
       "Tirol             32385.226667\n",
       "Upper-Austria     30880.000000\n",
       "Name: PE, dtype: float64"
      ]
     },
     "execution_count": 206,
     "metadata": {},
     "output_type": "execute_result"
    }
   ],
   "source": [
    "#total PE per BL\n",
    "#this definitely shows some inconsistencies. go back and look at PE procedure\n",
    "data.groupby('BL').sum()['PE']\n",
    "#UpperA and Stirya arefine. other are way too high"
   ]
  },
  {
   "cell_type": "code",
   "execution_count": 191,
   "metadata": {},
   "outputs": [
    {
     "data": {
      "text/plain": [
       "26459"
      ]
     },
     "execution_count": 191,
     "metadata": {},
     "output_type": "execute_result"
    }
   ],
   "source": [
    "#this is fine. total AUstria should be about 27.000 to 28.000\n",
    "len(data)"
   ]
  }
 ],
 "metadata": {
  "interpreter": {
   "hash": "d4a4f80f0852bbaf4e4f090cf7fb2ba0e283c9764699a540eedc0c1ab340cdd7"
  },
  "kernelspec": {
   "display_name": "Python 3.8.11 64-bit ('geo': conda)",
   "language": "python",
   "name": "python3"
  },
  "language_info": {
   "codemirror_mode": {
    "name": "ipython",
    "version": 3
   },
   "file_extension": ".py",
   "mimetype": "text/x-python",
   "name": "python",
   "nbconvert_exporter": "python",
   "pygments_lexer": "ipython3",
   "version": "3.8.11"
  },
  "orig_nbformat": 4
 },
 "nbformat": 4,
 "nbformat_minor": 2
}
