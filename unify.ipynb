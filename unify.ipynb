{
 "cells": [
  {
   "cell_type": "code",
   "execution_count": null,
   "metadata": {},
   "outputs": [],
   "source": [
    "\n",
    "#import data and packages\n",
    "import geopandas\n",
    "import pandas as pd\n",
    "import matplotlib.pyplot as plt\n",
    "from functions import *\n",
    "from gis_functions import *\n",
    "from plot_functions import *\n",
    "\n",
    "\n",
    "data=geopandas.read_file('final/complete.geojson')\n"
   ]
  },
  {
   "cell_type": "code",
   "execution_count": null,
   "metadata": {},
   "outputs": [],
   "source": [
    "data"
   ]
  },
  {
   "cell_type": "code",
   "execution_count": null,
   "metadata": {},
   "outputs": [],
   "source": [
    "#why do i still  get comma values in legend?\n",
    "data.sum_PE=data.sum_PE.astype('int')\n"
   ]
  },
  {
   "cell_type": "code",
   "execution_count": null,
   "metadata": {},
   "outputs": [],
   "source": [
    "data.mean_year.max()\n",
    "data.sort_values('mean_year')\n",
    "data[data.mean_year==0].BL.unique() ##### all 0s come from steiermark\n",
    "data[data.mean_year>2020].BL.unique() ### all wrongs come from Salzburg\n",
    "data[data.mean_year<1800].BL.unique() ### karnten and salzburg has \n",
    "data[data.mean_year<1800] ### something very wrong with steiermark years\n"
   ]
  },
  {
   "cell_type": "code",
   "execution_count": null,
   "metadata": {},
   "outputs": [],
   "source": [
    "data.plot()"
   ]
  },
  {
   "cell_type": "code",
   "execution_count": null,
   "metadata": {},
   "outputs": [],
   "source": [
    "#prepare basemaps\n",
    "basemap=geopandas.read_file('DATA/shp_new/Oesterreich_BEV_VGD_LAM.shp')\n",
    "basemap.KG_NR=basemap.KG_NR.astype(int)\n",
    "basemap.to_crs(epsg=4326,inplace=True)\n",
    "\n",
    "#isolate BL\n",
    "#oebo_base =basemap[basemap.BL.isin(['Oberösterreich','Niederösterreich']) ] # each BL needs own boundary. for BL in list isolate\n",
    "\n",
    "#unify polygons\n",
    "#BL=oebo_base.geometry.unary_union\n",
    "#BL=geopandas.GeoDataFrame(geometry=[BL], crs=oebo_base.crs)\n"
   ]
  },
  {
   "cell_type": "code",
   "execution_count": null,
   "metadata": {},
   "outputs": [],
   "source": [
    "kwargs={'loc': 'upper left', 'shadow': 'True', 'ncol':2} \n",
    "plot(data,basemap,'PE sum per KG','sum_PE', **kwargs)"
   ]
  },
  {
   "cell_type": "code",
   "execution_count": null,
   "metadata": {},
   "outputs": [],
   "source": [
    "plot(data,basemap,'non-nitrifying','no_nitri' )"
   ]
  },
  {
   "cell_type": "code",
   "execution_count": null,
   "metadata": {},
   "outputs": [],
   "source": [
    "#plot for PE\n",
    "fig,ax=plt.subplots(1,figsize=(20,30))\n",
    "#basemap.plot(ax=ax, alpha=0.3)\n",
    "ax.set_title('PE sum per KG', fontsize=15)\n",
    "data.plot(column='sum_PE',cmap='cividis', ax=ax, legend=True, scheme='EqualInterval', k=10,                          # EqualInterval is good\n",
    "           legend_kwds={'loc': 'upper left','ncol':2, 'shadow': 'True', 'title': 'PE sum'})                            # cividis good\n",
    "\n",
    "#plot KG boundaries\n",
    "#oebo_base.geometry.boundary.plot(edgecolor='k', linewidth=0.1, ax=ax)\n",
    "\n",
    "#print BL boundary\n",
    "#BL.exterior.plot(edgecolor='k', linewidth=1, ax=ax)\n",
    "\n",
    "#get tot extent of data and zoom in to figure\n",
    "#minx, miny, maxx, maxy=oebo_base.total_bounds\n",
    "#ax.set_xlim(minx-0.01,maxx+0.01)\n",
    "#ax.set_ylim(miny-0.01,maxy+0.01)\n",
    "\n",
    "#only label first 5 bezirke \n",
    "#unify.sort_values('sum_PE', inplace=True, ascending=False)\n",
    "#unify.head().apply(lambda x: ax.annotate(text=x.KG, xy=x.geometry.centroid.coords[0], ha='center',fontsize='large', fontstyle='oblique', color='black'), axis=1)\n"
   ]
  },
  {
   "cell_type": "code",
   "execution_count": null,
   "metadata": {},
   "outputs": [],
   "source": [
    "#plot for age\n",
    "fig,ax=plt.subplots(1,figsize=(20,30))\n",
    "basemap.plot(ax=ax, alpha=0.3)\n",
    "data.plot(column='mean_year', ax=ax, legend=True, legend_kwds={ 'orientation':'horizontal'}  )\n",
    "ax.set_title('Austria: mean age of infrastructure', fontsize=20)\n",
    "\n"
   ]
  },
  {
   "cell_type": "code",
   "execution_count": null,
   "metadata": {},
   "outputs": [],
   "source": [
    "#plot for old infrastructure density. % of non nitrifying palnts per KG\n",
    "fig,ax=plt.subplots(1,figsize=(20,30))\n",
    "basemap.plot(ax=ax, alpha=0.3)\n",
    "data.plot(column='%no_nitri', ax=ax,legend=True,scheme='equal_interval',cmap='cividis', k=10, legend_kwds={'loc':'lower left', 'shadow':'True','title':'% on total number'})\n",
    "ax.set_title(' % of non nitrifying plants', fontsize=20)\n",
    "\n",
    "\n",
    "\n"
   ]
  },
  {
   "cell_type": "code",
   "execution_count": null,
   "metadata": {},
   "outputs": [],
   "source": [
    "#plot for old infrastructure density. how many have been built before 1991?\n",
    "fig,ax=plt.subplots(1,figsize=(10,15))\n",
    "basemap.plot(ax=ax, alpha=0.3)\n",
    "data.plot(column='%before_reg', ax=ax,legend=True,scheme='equal_interval', k=10, legend_kwds={'loc':'lower left', 'shadow':'True','title':'% on total number'})\n",
    "ax.set_title(' Built before 1991', fontsize=20)\n",
    "\n"
   ]
  },
  {
   "cell_type": "code",
   "execution_count": null,
   "metadata": {},
   "outputs": [],
   "source": [
    "fig,ax=plt.subplots(1,2,figsize=(30,20))\n",
    "basemap.plot(ax=ax[0], alpha=0.3)\n",
    "basemap.plot(ax=ax[1], alpha=0.3)\n",
    "\n",
    "\n",
    "ax[0].set_title(' % of non nitrifying plants', fontsize=15)\n",
    "data.plot(column='%no_nitri', ax=ax[0],legend=True,scheme='equal_interval', k=10, legend_kwds={'loc':'lower left', 'shadow':'True','title':'% on total number'})\n",
    "\n",
    "\n",
    "#plot 2\n",
    "ax[1].set_title('Infrastructure density per KG', fontsize=15)\n",
    "data.plot(column='freq', ax=ax[1],legend=True,scheme='equal_interval', k=10, legend_kwds={'loc':'lower left', 'shadow':'True','title':'count'})\n"
   ]
  },
  {
   "cell_type": "markdown",
   "metadata": {},
   "source": [
    "there is unexpected high number of KG with high % of non-nitifying. compared to infra desnity it is quite unallarming. low density indeed.\n",
    "hot to make one graph out of these two ?\n",
    "\n"
   ]
  }
 ],
 "metadata": {
  "interpreter": {
   "hash": "d4a4f80f0852bbaf4e4f090cf7fb2ba0e283c9764699a540eedc0c1ab340cdd7"
  },
  "kernelspec": {
   "display_name": "Python 3.8.11 64-bit ('geo': conda)",
   "language": "python",
   "name": "python3"
  },
  "language_info": {
   "codemirror_mode": {
    "name": "ipython",
    "version": 3
   },
   "file_extension": ".py",
   "mimetype": "text/x-python",
   "name": "python",
   "nbconvert_exporter": "python",
   "pygments_lexer": "ipython3",
   "version": "3.8.11"
  },
  "orig_nbformat": 4
 },
 "nbformat": 4,
 "nbformat_minor": 2
}
