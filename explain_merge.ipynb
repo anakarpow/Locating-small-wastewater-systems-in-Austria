{
 "cells": [
  {
   "cell_type": "markdown",
   "source": [
    "contains the explanation for the merging process\r\n",
    "in fact the raw data has unintelligible geometries"
   ],
   "metadata": {}
  },
  {
   "cell_type": "code",
   "execution_count": null,
   "source": [
    "import geopandas \r\n",
    "import pandas as pd\r\n",
    "#get basemap\r\n",
    "world = geopandas.read_file(geopandas.datasets.get_path('naturalearth_lowres'))\r\n",
    "austria=world[world['name']=='Austria']\r\n",
    "data=geopandas.read_file(r'C:\\Users\\fabrizio\\Documents\\repos\\MSC\\DATA\\Sacken\\shp\\Anlagendaten.shp')\r\n",
    "data.crs\r\n",
    "#data=data.head()\r\n",
    "data\r\n",
    "\r\n",
    "data.crs\r\n",
    "data=data.dropna(how='any', subset=['geometry'])\r\n",
    "data=data.iloc[:,-9:]"
   ],
   "outputs": [],
   "metadata": {}
  },
  {
   "cell_type": "code",
   "execution_count": null,
   "source": [
    "#the gemoetry of shp is correct. it uses col Longitude as x and col KOORDX as y. the system is GKM31. \r\n",
    "#this of course is quite confusing\r\n",
    "\r\n",
    "data.head()"
   ],
   "outputs": [],
   "metadata": {}
  },
  {
   "cell_type": "code",
   "execution_count": null,
   "source": [
    "d='DATA/Sacken/Anlagendaten.xlsx'\r\n",
    "\r\n",
    "data=pd.read_excel(d)\r\n",
    "\r\n",
    "data=data.dropna(how='any', subset= ['Longitude'])\r\n",
    "data=data.iloc[:,-9:]\r\n",
    "data.head()"
   ],
   "outputs": [],
   "metadata": {}
  },
  {
   "cell_type": "code",
   "execution_count": null,
   "source": [
    "#the coordinates in raw_data are wrongly marked. \r\n",
    "#in fact, KOORDX can be used as y axes. when projected has same height of austria. \r\n",
    "#but KOORDY is completely out of place. it may have a different coord system beacuse it is completely somewhere else\r\n",
    "d = 'C:/Users/fabrizio/Documents/repos/MSC/DATA/Sacken/raw_data.xlsx'\r\n",
    "df=pd.read_excel(d, sheet_name='Rohdaten ARA 500 EW')\r\n",
    "df=df.iloc[:,-4:]\r\n",
    "df.head()\r\n",
    "\r\n",
    "#for furter demonstartion compare single items for shp to items of raw data. \r\n",
    "#gemetries don't match"
   ],
   "outputs": [],
   "metadata": {}
  },
  {
   "cell_type": "code",
   "execution_count": null,
   "source": [
    "#so to obtain a dataset, containing geo information and technical faetures,\r\n",
    "#like technology type etc., two sets are merged together using their \r\n",
    "#Bundesnummer(unique id) as key"
   ],
   "outputs": [],
   "metadata": {}
  }
 ],
 "metadata": {
  "orig_nbformat": 4,
  "language_info": {
   "name": "python",
   "version": "3.8.11",
   "mimetype": "text/x-python",
   "codemirror_mode": {
    "name": "ipython",
    "version": 3
   },
   "pygments_lexer": "ipython3",
   "nbconvert_exporter": "python",
   "file_extension": ".py"
  },
  "kernelspec": {
   "name": "python3",
   "display_name": "Python 3.8.11 64-bit ('geo': conda)"
  },
  "interpreter": {
   "hash": "d4a4f80f0852bbaf4e4f090cf7fb2ba0e283c9764699a540eedc0c1ab340cdd7"
  }
 },
 "nbformat": 4,
 "nbformat_minor": 2
}