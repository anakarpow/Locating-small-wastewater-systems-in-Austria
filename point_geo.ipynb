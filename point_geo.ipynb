{
 "cells": [
  {
   "cell_type": "code",
   "execution_count": 111,
   "metadata": {},
   "outputs": [],
   "source": [
    "import pandas as pd\n",
    "import geopandas as gpd\n",
    "from functions import logical_column\n"
   ]
  },
  {
   "cell_type": "code",
   "execution_count": 112,
   "metadata": {},
   "outputs": [],
   "source": [
    "data=pd.read_excel('half-way/noe.xlsx')\n",
    "no_geo=data=data[data.RECHTSWERT.isna()]\n",
    "data=data[~data.RECHTSWERT.isna()]"
   ]
  },
  {
   "cell_type": "code",
   "execution_count": 113,
   "metadata": {},
   "outputs": [],
   "source": [
    "#get gdf. this combi is the correct one\n",
    "gdf=gpd.GeoDataFrame(data, geometry=gpd.points_from_xy((data['RECHTSWERT']), data['HOCHWERT'], crs='GKM34'))\n",
    "#gdf.drop(columns=['Unnamed: 0', 'Unnamed: 0.1','RECHTSWERT', 'HOCHWERT', ],inplace=True)\n",
    "gdf.to_crs(epsg=4326,inplace=True)\n",
    "gdf.rename(columns={'EW60':'PE','INBETRIEBNAHME':'year'},inplace=True)\n"
   ]
  },
  {
   "cell_type": "code",
   "execution_count": 114,
   "metadata": {},
   "outputs": [],
   "source": [
    "rep={'Kompost':'CMPST','Wirbel':'Andere','0':'Unbekannt'}\n",
    "rep2={'Andere':'Other','Unbekannt':'n.d.'}"
   ]
  },
  {
   "cell_type": "code",
   "execution_count": 115,
   "metadata": {},
   "outputs": [],
   "source": [
    "gdf.tech_type=gdf.tech_type.replace(rep)\n",
    "gdf.tech_type=gdf.tech_type.replace(rep2)"
   ]
  },
  {
   "cell_type": "code",
   "execution_count": 116,
   "metadata": {},
   "outputs": [],
   "source": [
    "gdf=gdf[['BEZIRK', 'NAME', 'PE', 'year','bautyp', 'tech_type', 'no_nitri','geometry']].reset_index(drop=True)\n"
   ]
  },
  {
   "cell_type": "code",
   "execution_count": 160,
   "metadata": {},
   "outputs": [
    {
     "data": {
      "text/html": [
       "<div>\n",
       "<style scoped>\n",
       "    .dataframe tbody tr th:only-of-type {\n",
       "        vertical-align: middle;\n",
       "    }\n",
       "\n",
       "    .dataframe tbody tr th {\n",
       "        vertical-align: top;\n",
       "    }\n",
       "\n",
       "    .dataframe thead th {\n",
       "        text-align: right;\n",
       "    }\n",
       "</style>\n",
       "<table border=\"1\" class=\"dataframe\">\n",
       "  <thead>\n",
       "    <tr style=\"text-align: right;\">\n",
       "      <th></th>\n",
       "      <th>geometry</th>\n",
       "      <th>BL</th>\n",
       "      <th>NAME</th>\n",
       "      <th>PE</th>\n",
       "      <th>year</th>\n",
       "      <th>nitri</th>\n",
       "      <th>no_nitri</th>\n",
       "      <th>bautyp</th>\n",
       "      <th>new</th>\n",
       "    </tr>\n",
       "    <tr>\n",
       "      <th>tech_type</th>\n",
       "      <th></th>\n",
       "      <th></th>\n",
       "      <th></th>\n",
       "      <th></th>\n",
       "      <th></th>\n",
       "      <th></th>\n",
       "      <th></th>\n",
       "      <th></th>\n",
       "      <th></th>\n",
       "    </tr>\n",
       "  </thead>\n",
       "  <tbody>\n",
       "    <tr>\n",
       "      <th>ASP</th>\n",
       "      <td>692</td>\n",
       "      <td>692</td>\n",
       "      <td>692</td>\n",
       "      <td>692</td>\n",
       "      <td>692</td>\n",
       "      <td>692</td>\n",
       "      <td>692</td>\n",
       "      <td>692</td>\n",
       "      <td>692</td>\n",
       "    </tr>\n",
       "    <tr>\n",
       "      <th>CW</th>\n",
       "      <td>555</td>\n",
       "      <td>555</td>\n",
       "      <td>555</td>\n",
       "      <td>555</td>\n",
       "      <td>555</td>\n",
       "      <td>555</td>\n",
       "      <td>555</td>\n",
       "      <td>555</td>\n",
       "      <td>555</td>\n",
       "    </tr>\n",
       "    <tr>\n",
       "      <th>Filtration</th>\n",
       "      <td>24</td>\n",
       "      <td>24</td>\n",
       "      <td>24</td>\n",
       "      <td>24</td>\n",
       "      <td>24</td>\n",
       "      <td>24</td>\n",
       "      <td>24</td>\n",
       "      <td>0</td>\n",
       "      <td>24</td>\n",
       "    </tr>\n",
       "    <tr>\n",
       "      <th>Other</th>\n",
       "      <td>132</td>\n",
       "      <td>132</td>\n",
       "      <td>132</td>\n",
       "      <td>132</td>\n",
       "      <td>132</td>\n",
       "      <td>132</td>\n",
       "      <td>132</td>\n",
       "      <td>0</td>\n",
       "      <td>132</td>\n",
       "    </tr>\n",
       "    <tr>\n",
       "      <th>Primary</th>\n",
       "      <td>310</td>\n",
       "      <td>310</td>\n",
       "      <td>310</td>\n",
       "      <td>310</td>\n",
       "      <td>310</td>\n",
       "      <td>310</td>\n",
       "      <td>310</td>\n",
       "      <td>310</td>\n",
       "      <td>310</td>\n",
       "    </tr>\n",
       "    <tr>\n",
       "      <th>SBR</th>\n",
       "      <td>920</td>\n",
       "      <td>920</td>\n",
       "      <td>920</td>\n",
       "      <td>920</td>\n",
       "      <td>920</td>\n",
       "      <td>920</td>\n",
       "      <td>920</td>\n",
       "      <td>920</td>\n",
       "      <td>920</td>\n",
       "    </tr>\n",
       "  </tbody>\n",
       "</table>\n",
       "</div>"
      ],
      "text/plain": [
       "            geometry   BL  NAME   PE  year  nitri  no_nitri  bautyp  new\n",
       "tech_type                                                               \n",
       "ASP              692  692   692  692   692    692       692     692  692\n",
       "CW               555  555   555  555   555    555       555     555  555\n",
       "Filtration        24   24    24   24    24     24        24       0   24\n",
       "Other            132  132   132  132   132    132       132       0  132\n",
       "Primary          310  310   310  310   310    310       310     310  310\n",
       "SBR              920  920   920  920   920    920       920     920  920"
      ]
     },
     "execution_count": 160,
     "metadata": {},
     "output_type": "execute_result"
    }
   ],
   "source": [
    "data.groupby(['tech_type']).count()"
   ]
  },
  {
   "cell_type": "markdown",
   "metadata": {},
   "source": [
    "# check those "
   ]
  },
  {
   "cell_type": "code",
   "execution_count": 118,
   "metadata": {},
   "outputs": [
    {
     "data": {
      "text/html": [
       "<div>\n",
       "<style scoped>\n",
       "    .dataframe tbody tr th:only-of-type {\n",
       "        vertical-align: middle;\n",
       "    }\n",
       "\n",
       "    .dataframe tbody tr th {\n",
       "        vertical-align: top;\n",
       "    }\n",
       "\n",
       "    .dataframe thead th {\n",
       "        text-align: right;\n",
       "    }\n",
       "</style>\n",
       "<table border=\"1\" class=\"dataframe\">\n",
       "  <thead>\n",
       "    <tr style=\"text-align: right;\">\n",
       "      <th></th>\n",
       "      <th>BEZIRK</th>\n",
       "      <th>NAME</th>\n",
       "      <th>PE</th>\n",
       "      <th>year</th>\n",
       "      <th>bautyp</th>\n",
       "      <th>tech_type</th>\n",
       "      <th>no_nitri</th>\n",
       "      <th>geometry</th>\n",
       "    </tr>\n",
       "  </thead>\n",
       "  <tbody>\n",
       "  </tbody>\n",
       "</table>\n",
       "</div>"
      ],
      "text/plain": [
       "Empty GeoDataFrame\n",
       "Columns: [BEZIRK, NAME, PE, year, bautyp, tech_type, no_nitri, geometry]\n",
       "Index: []"
      ]
     },
     "execution_count": 118,
     "metadata": {},
     "output_type": "execute_result"
    }
   ],
   "source": [
    "gdf[(gdf.no_nitri==True)&(gdf.year>1990)]"
   ]
  },
  {
   "cell_type": "markdown",
   "metadata": {},
   "source": [
    "# correction after checking WIS"
   ]
  },
  {
   "cell_type": "code",
   "execution_count": 119,
   "metadata": {},
   "outputs": [],
   "source": [
    "gdf.loc[gdf['NAME'].str.contains('Busatis'),['no_nitri']]=False\n",
    "gdf.loc[gdf['NAME'].str.contains('Umspannwerk Bisamberg, Oberfl'),['no_nitri']]=False\n",
    "\n",
    "\n"
   ]
  },
  {
   "cell_type": "code",
   "execution_count": 120,
   "metadata": {},
   "outputs": [],
   "source": [
    "with open('final/noe_points.shp', 'w') as f:\n",
    "    f.write(gdf.to_json())"
   ]
  },
  {
   "cell_type": "code",
   "execution_count": 121,
   "metadata": {},
   "outputs": [],
   "source": [
    "#data=gpd.read_file('half-way/oebo.gpkg')\n",
    "data=gpd.read_file('half-way/oebo.shp')\n"
   ]
  },
  {
   "cell_type": "code",
   "execution_count": 122,
   "metadata": {},
   "outputs": [],
   "source": [
    "rep={'ANLAGENAME':'NAME','NITRIFIZIERUNG':'nitri','Verfahren':'tech_type'}"
   ]
  },
  {
   "cell_type": "code",
   "execution_count": 123,
   "metadata": {},
   "outputs": [],
   "source": [
    "data.rename(columns={'EW60':'PE','INBETRIEBN':'year','ANLAGENAME':'NAME','NITRIFIZIE':'nitri','Verfahren':'tech_type'},inplace=True)\n"
   ]
  },
  {
   "cell_type": "code",
   "execution_count": 124,
   "metadata": {},
   "outputs": [
    {
     "data": {
      "text/plain": [
       "Index(['NAME', 'PE', 'year', 'VERFAHRENS', 'REINIGUNG', 'C-ENTFERNU', 'nitri',\n",
       "       'N-ENTFERNU', 'P-ENTFERNU', 'Tonne TM', 'tech_type', 'Typ',\n",
       "       'before_reg', 'geometry'],\n",
       "      dtype='object')"
      ]
     },
     "execution_count": 124,
     "metadata": {},
     "output_type": "execute_result"
    }
   ],
   "source": [
    "data.columns"
   ]
  },
  {
   "cell_type": "code",
   "execution_count": 125,
   "metadata": {},
   "outputs": [],
   "source": [
    "data=data[['NAME', 'PE', 'year','tech_type','nitri', 'geometry']]"
   ]
  },
  {
   "cell_type": "code",
   "execution_count": 126,
   "metadata": {},
   "outputs": [],
   "source": [
    "rep={'mechanisch':'Primary','Sonstig':'Other','SBR +':'SBR','Belebung +':'Belebung'}"
   ]
  },
  {
   "cell_type": "code",
   "execution_count": 127,
   "metadata": {},
   "outputs": [],
   "source": [
    "data.tech_type=data.tech_type.replace(rep)"
   ]
  },
  {
   "cell_type": "code",
   "execution_count": 128,
   "metadata": {},
   "outputs": [],
   "source": [
    "conditions=[\n",
    "    data.tech_type=='Belebung',\n",
    "    data.tech_type=='Filtration',\n",
    "    data.tech_type=='Other',\n",
    "    data.tech_type=='PF',\n",
    "    data.tech_type=='Primary',\n",
    "    data.tech_type=='SBR']\n",
    "outcome=['False','True','nd','False','True','False']\n",
    "\n",
    "data=logical_column(conditions,outcome,data,'no_nitri')"
   ]
  },
  {
   "cell_type": "code",
   "execution_count": 129,
   "metadata": {},
   "outputs": [
    {
     "data": {
      "text/plain": [
       "tech_type   no_nitri\n",
       "SBR         False       920\n",
       "Belebung    False       692\n",
       "PF          False       555\n",
       "Primary     True        310\n",
       "Other       nd          132\n",
       "Filtration  True         24\n",
       "dtype: int64"
      ]
     },
     "execution_count": 129,
     "metadata": {},
     "output_type": "execute_result"
    }
   ],
   "source": [
    "data[['tech_type','no_nitri']].value_counts()"
   ]
  },
  {
   "cell_type": "code",
   "execution_count": 130,
   "metadata": {},
   "outputs": [
    {
     "data": {
      "text/plain": [
       "False    2167\n",
       "True      334\n",
       "nd        132\n",
       "Name: no_nitri, dtype: int64"
      ]
     },
     "execution_count": 130,
     "metadata": {},
     "output_type": "execute_result"
    }
   ],
   "source": [
    "data.no_nitri.value_counts()"
   ]
  },
  {
   "cell_type": "code",
   "execution_count": 131,
   "metadata": {},
   "outputs": [],
   "source": [
    "gdf=gpd.GeoDataFrame(data)"
   ]
  },
  {
   "cell_type": "code",
   "execution_count": 132,
   "metadata": {},
   "outputs": [
    {
     "data": {
      "text/plain": [
       "<AxesSubplot:>"
      ]
     },
     "execution_count": 132,
     "metadata": {},
     "output_type": "execute_result"
    },
    {
     "data": {
      "image/png": "[encoded data removed]",
      "text/plain": [
       "<Figure size 432x288 with 1 Axes>"
      ]
     },
     "metadata": {
      "needs_background": "light"
     },
     "output_type": "display_data"
    }
   ],
   "source": [
    "gdf.plot(column='tech_type',legend=True)"
   ]
  },
  {
   "cell_type": "code",
   "execution_count": 133,
   "metadata": {},
   "outputs": [],
   "source": [
    "with open('final/oebo_points.shp', 'w') as f:\n",
    "    f.write(gdf.to_json())"
   ]
  },
  {
   "cell_type": "markdown",
   "metadata": {},
   "source": [
    "# unify "
   ]
  },
  {
   "cell_type": "code",
   "execution_count": 134,
   "metadata": {},
   "outputs": [],
   "source": [
    "oebo=gdf"
   ]
  },
  {
   "cell_type": "code",
   "execution_count": 135,
   "metadata": {},
   "outputs": [],
   "source": [
    "noe=gpd.read_file('final/noe_points.shp')\n"
   ]
  },
  {
   "cell_type": "code",
   "execution_count": 136,
   "metadata": {},
   "outputs": [
    {
     "data": {
      "text/html": [
       "<div>\n",
       "<style scoped>\n",
       "    .dataframe tbody tr th:only-of-type {\n",
       "        vertical-align: middle;\n",
       "    }\n",
       "\n",
       "    .dataframe tbody tr th {\n",
       "        vertical-align: top;\n",
       "    }\n",
       "\n",
       "    .dataframe thead th {\n",
       "        text-align: right;\n",
       "    }\n",
       "</style>\n",
       "<table border=\"1\" class=\"dataframe\">\n",
       "  <thead>\n",
       "    <tr style=\"text-align: right;\">\n",
       "      <th></th>\n",
       "      <th>geometry</th>\n",
       "    </tr>\n",
       "  </thead>\n",
       "  <tbody>\n",
       "  </tbody>\n",
       "</table>\n",
       "</div>"
      ],
      "text/plain": [
       "Empty GeoDataFrame\n",
       "Columns: [geometry]\n",
       "Index: []"
      ]
     },
     "execution_count": 136,
     "metadata": {},
     "output_type": "execute_result"
    }
   ],
   "source": [
    "noe.reset_index(drop=True)"
   ]
  },
  {
   "cell_type": "code",
   "execution_count": 137,
   "metadata": {},
   "outputs": [],
   "source": [
    "noe['BL']='Lower-Austria'\n",
    "oebo['BL']='Upper-Austria'"
   ]
  },
  {
   "cell_type": "code",
   "execution_count": 138,
   "metadata": {},
   "outputs": [],
   "source": [
    "gdf_list=[noe,oebo]\n",
    "both= gpd.GeoDataFrame(pd.concat(gdf_list, ignore_index=True), crs=gdf_list[0].crs)"
   ]
  },
  {
   "cell_type": "code",
   "execution_count": 139,
   "metadata": {},
   "outputs": [],
   "source": [
    "data=both"
   ]
  },
  {
   "cell_type": "code",
   "execution_count": 140,
   "metadata": {},
   "outputs": [
    {
     "data": {
      "text/plain": [
       "tech_type   no_nitri\n",
       "SBR         False       920\n",
       "Belebung    False       692\n",
       "PF          False       555\n",
       "Primary     True        310\n",
       "Other       nd          132\n",
       "Filtration  True         24\n",
       "dtype: int64"
      ]
     },
     "execution_count": 140,
     "metadata": {},
     "output_type": "execute_result"
    }
   ],
   "source": [
    "data[['tech_type','no_nitri']].value_counts()"
   ]
  },
  {
   "cell_type": "code",
   "execution_count": 141,
   "metadata": {},
   "outputs": [],
   "source": [
    "#data.value_counts(['bautyp','tech_type'])\n",
    "#data.value_counts(['tech_type','bautyp'])"
   ]
  },
  {
   "cell_type": "code",
   "execution_count": null,
   "metadata": {},
   "outputs": [],
   "source": []
  },
  {
   "cell_type": "code",
   "execution_count": 142,
   "metadata": {},
   "outputs": [],
   "source": [
    "rep={'Bel.':'Belebung','n.d.':'nd','n.d.':'nd',}"
   ]
  },
  {
   "cell_type": "code",
   "execution_count": 143,
   "metadata": {},
   "outputs": [],
   "source": [
    "data.tech_type=data.tech_type.replace(rep)"
   ]
  },
  {
   "cell_type": "code",
   "execution_count": 144,
   "metadata": {},
   "outputs": [],
   "source": [
    "rep={'Belebung':'ASP','Tropf':'TRF','PF':'CW','PKA':'CW','Filtration':'FLTR'}\n",
    "data.tech_type=data.tech_type.replace(rep)\n"
   ]
  },
  {
   "cell_type": "code",
   "execution_count": 145,
   "metadata": {},
   "outputs": [],
   "source": [
    "#data=data[['id', 'BEZIRK', 'NAME', 'PE', 'bautyp','tech_type','no_nitri', 'year',\n",
    "       #'geometry','BL']]"
   ]
  },
  {
   "cell_type": "code",
   "execution_count": 146,
   "metadata": {},
   "outputs": [
    {
     "data": {
      "text/html": [
       "<div>\n",
       "<style scoped>\n",
       "    .dataframe tbody tr th:only-of-type {\n",
       "        vertical-align: middle;\n",
       "    }\n",
       "\n",
       "    .dataframe tbody tr th {\n",
       "        vertical-align: top;\n",
       "    }\n",
       "\n",
       "    .dataframe thead th {\n",
       "        text-align: right;\n",
       "    }\n",
       "</style>\n",
       "<table border=\"1\" class=\"dataframe\">\n",
       "  <thead>\n",
       "    <tr style=\"text-align: right;\">\n",
       "      <th></th>\n",
       "      <th>geometry</th>\n",
       "      <th>BL</th>\n",
       "      <th>NAME</th>\n",
       "      <th>PE</th>\n",
       "      <th>year</th>\n",
       "      <th>tech_type</th>\n",
       "      <th>nitri</th>\n",
       "    </tr>\n",
       "    <tr>\n",
       "      <th>no_nitri</th>\n",
       "      <th></th>\n",
       "      <th></th>\n",
       "      <th></th>\n",
       "      <th></th>\n",
       "      <th></th>\n",
       "      <th></th>\n",
       "      <th></th>\n",
       "    </tr>\n",
       "  </thead>\n",
       "  <tbody>\n",
       "    <tr>\n",
       "      <th>False</th>\n",
       "      <td>2167</td>\n",
       "      <td>2167</td>\n",
       "      <td>2167</td>\n",
       "      <td>2167</td>\n",
       "      <td>2167</td>\n",
       "      <td>2167</td>\n",
       "      <td>2167</td>\n",
       "    </tr>\n",
       "    <tr>\n",
       "      <th>True</th>\n",
       "      <td>334</td>\n",
       "      <td>334</td>\n",
       "      <td>334</td>\n",
       "      <td>334</td>\n",
       "      <td>334</td>\n",
       "      <td>334</td>\n",
       "      <td>334</td>\n",
       "    </tr>\n",
       "    <tr>\n",
       "      <th>nd</th>\n",
       "      <td>132</td>\n",
       "      <td>132</td>\n",
       "      <td>132</td>\n",
       "      <td>132</td>\n",
       "      <td>132</td>\n",
       "      <td>132</td>\n",
       "      <td>132</td>\n",
       "    </tr>\n",
       "  </tbody>\n",
       "</table>\n",
       "</div>"
      ],
      "text/plain": [
       "          geometry    BL  NAME    PE  year  tech_type  nitri\n",
       "no_nitri                                                    \n",
       "False         2167  2167  2167  2167  2167       2167   2167\n",
       "True           334   334   334   334   334        334    334\n",
       "nd             132   132   132   132   132        132    132"
      ]
     },
     "execution_count": 146,
     "metadata": {},
     "output_type": "execute_result"
    }
   ],
   "source": [
    "\n",
    "data.groupby('no_nitri').count()"
   ]
  },
  {
   "cell_type": "code",
   "execution_count": 147,
   "metadata": {},
   "outputs": [],
   "source": [
    "data.replace({'True':True,'False':False},inplace=True)"
   ]
  },
  {
   "cell_type": "code",
   "execution_count": 148,
   "metadata": {},
   "outputs": [],
   "source": [
    "data.loc[data.tech_type == 'Primary' , 'bautyp'] = 'Mech'\n",
    "data.loc[data.tech_type == 'SBR' , 'bautyp'] = 'Bio'\n",
    "data.loc[data.tech_type == 'CW' , 'bautyp'] = 'Bio'\n",
    "data.loc[data.tech_type == 'RBC', 'bautyp'] = 'Bio'\n",
    "data.loc[data.tech_type == 'BKF', 'bautyp'] = 'Bio'\n",
    "data.loc[data.tech_type == 'TRF', 'bautyp'] = 'Bio'\n",
    "data.loc[data.tech_type == 'ASP', 'bautyp'] = 'Bio'"
   ]
  },
  {
   "cell_type": "code",
   "execution_count": 149,
   "metadata": {},
   "outputs": [
    {
     "data": {
      "text/plain": [
       "False    2167\n",
       "True      334\n",
       "nd        132\n",
       "Name: no_nitri, dtype: int64"
      ]
     },
     "execution_count": 149,
     "metadata": {},
     "output_type": "execute_result"
    }
   ],
   "source": [
    "data.no_nitri.value_counts()"
   ]
  },
  {
   "cell_type": "code",
   "execution_count": 150,
   "metadata": {},
   "outputs": [],
   "source": [
    "#data[['tech_type','bautyp']].value_counts()\n",
    "#data[['bautyp','no_nitri']].value_counts()"
   ]
  },
  {
   "cell_type": "code",
   "execution_count": 151,
   "metadata": {},
   "outputs": [],
   "source": [
    "# replace FLTR and CMPST with extra cetegory\n",
    "data.loc[data.no_nitri == 'False', 'no_nitri'] = False\n",
    "data.loc[data.no_nitri == 'True', 'no_nitri'] = True\n",
    "data.loc[data.tech_type == 'FLTR', 'tech_type'] = 'Filtration'\n",
    "\n"
   ]
  },
  {
   "cell_type": "code",
   "execution_count": 152,
   "metadata": {},
   "outputs": [],
   "source": [
    "data.loc[data.tech_type == 'TRF', 'no_nitri'] = True\n",
    "data.loc[data.tech_type == 'Primary', 'no_nitri'] = True\n",
    "data.loc[data.bautyp == 'Mech', 'no_nitri'] = True\n",
    "data.loc[data.bautyp == 'Bio', 'no_nitri'] = False"
   ]
  },
  {
   "cell_type": "code",
   "execution_count": 153,
   "metadata": {},
   "outputs": [],
   "source": [
    "with open('final/noe_oebo_points2.geojson', 'w') as f:\n",
    "    f.write(data.to_json())"
   ]
  },
  {
   "cell_type": "code",
   "execution_count": 154,
   "metadata": {},
   "outputs": [
    {
     "data": {
      "text/plain": [
       "<AxesSubplot:>"
      ]
     },
     "execution_count": 154,
     "metadata": {},
     "output_type": "execute_result"
    },
    {
     "data": {
      "image/png": "[encoded data removed]",
      "text/plain": [
       "<Figure size 432x288 with 1 Axes>"
      ]
     },
     "metadata": {
      "needs_background": "light"
     },
     "output_type": "display_data"
    }
   ],
   "source": [
    "data.plot()"
   ]
  },
  {
   "cell_type": "code",
   "execution_count": 155,
   "metadata": {},
   "outputs": [
    {
     "data": {
      "text/html": [
       "<div>\n",
       "<style scoped>\n",
       "    .dataframe tbody tr th:only-of-type {\n",
       "        vertical-align: middle;\n",
       "    }\n",
       "\n",
       "    .dataframe tbody tr th {\n",
       "        vertical-align: top;\n",
       "    }\n",
       "\n",
       "    .dataframe thead th {\n",
       "        text-align: right;\n",
       "    }\n",
       "</style>\n",
       "<table border=\"1\" class=\"dataframe\">\n",
       "  <thead>\n",
       "    <tr style=\"text-align: right;\">\n",
       "      <th></th>\n",
       "      <th>geometry</th>\n",
       "      <th>BL</th>\n",
       "      <th>NAME</th>\n",
       "      <th>PE</th>\n",
       "      <th>year</th>\n",
       "      <th>tech_type</th>\n",
       "      <th>nitri</th>\n",
       "      <th>no_nitri</th>\n",
       "      <th>bautyp</th>\n",
       "    </tr>\n",
       "  </thead>\n",
       "  <tbody>\n",
       "    <tr>\n",
       "      <th>255</th>\n",
       "      <td>POINT (14.13154 47.80530)</td>\n",
       "      <td>Upper-Austria</td>\n",
       "      <td>LAWOG Steyrling I</td>\n",
       "      <td>36.0</td>\n",
       "      <td>1995.0</td>\n",
       "      <td>Filtration</td>\n",
       "      <td>1.0</td>\n",
       "      <td>True</td>\n",
       "      <td>NaN</td>\n",
       "    </tr>\n",
       "    <tr>\n",
       "      <th>516</th>\n",
       "      <td>POINT (14.02401 48.40281)</td>\n",
       "      <td>Upper-Austria</td>\n",
       "      <td>Rechberger Willnauer</td>\n",
       "      <td>20.0</td>\n",
       "      <td>2015.0</td>\n",
       "      <td>Primary</td>\n",
       "      <td>1.0</td>\n",
       "      <td>True</td>\n",
       "      <td>Mech</td>\n",
       "    </tr>\n",
       "    <tr>\n",
       "      <th>541</th>\n",
       "      <td>POINT (14.49629 47.99453)</td>\n",
       "      <td>Upper-Austria</td>\n",
       "      <td>Badhofer</td>\n",
       "      <td>20.0</td>\n",
       "      <td>1992.0</td>\n",
       "      <td>Filtration</td>\n",
       "      <td>1.0</td>\n",
       "      <td>True</td>\n",
       "      <td>NaN</td>\n",
       "    </tr>\n",
       "    <tr>\n",
       "      <th>1031</th>\n",
       "      <td>POINT (14.12581 47.95666)</td>\n",
       "      <td>Upper-Austria</td>\n",
       "      <td>Vierthaler Bernhard und Margarete</td>\n",
       "      <td>10.0</td>\n",
       "      <td>1995.0</td>\n",
       "      <td>Filtration</td>\n",
       "      <td>1.0</td>\n",
       "      <td>True</td>\n",
       "      <td>NaN</td>\n",
       "    </tr>\n",
       "    <tr>\n",
       "      <th>1344</th>\n",
       "      <td>POINT (14.11456 48.01685)</td>\n",
       "      <td>Upper-Austria</td>\n",
       "      <td>Gruber Alois und Theresia</td>\n",
       "      <td>8.0</td>\n",
       "      <td>1991.0</td>\n",
       "      <td>Filtration</td>\n",
       "      <td>0.0</td>\n",
       "      <td>True</td>\n",
       "      <td>NaN</td>\n",
       "    </tr>\n",
       "    <tr>\n",
       "      <th>1646</th>\n",
       "      <td>POINT (14.49827 47.99021)</td>\n",
       "      <td>Upper-Austria</td>\n",
       "      <td>Badhofer Susanne</td>\n",
       "      <td>8.0</td>\n",
       "      <td>2019.0</td>\n",
       "      <td>Primary</td>\n",
       "      <td>0.0</td>\n",
       "      <td>True</td>\n",
       "      <td>Mech</td>\n",
       "    </tr>\n",
       "    <tr>\n",
       "      <th>1766</th>\n",
       "      <td>POINT (14.55770 48.43298)</td>\n",
       "      <td>Upper-Austria</td>\n",
       "      <td>Hofreiter Günter</td>\n",
       "      <td>6.0</td>\n",
       "      <td>2017.0</td>\n",
       "      <td>Primary</td>\n",
       "      <td>1.0</td>\n",
       "      <td>True</td>\n",
       "      <td>Mech</td>\n",
       "    </tr>\n",
       "    <tr>\n",
       "      <th>1835</th>\n",
       "      <td>POINT (14.04539 47.96642)</td>\n",
       "      <td>Upper-Austria</td>\n",
       "      <td>Brunmair Karl u. Ilse</td>\n",
       "      <td>6.0</td>\n",
       "      <td>1991.0</td>\n",
       "      <td>Primary</td>\n",
       "      <td>0.0</td>\n",
       "      <td>True</td>\n",
       "      <td>Mech</td>\n",
       "    </tr>\n",
       "    <tr>\n",
       "      <th>1997</th>\n",
       "      <td>POINT (14.45226 48.09501)</td>\n",
       "      <td>Upper-Austria</td>\n",
       "      <td>Schartlmüller Anton und Edith</td>\n",
       "      <td>6.0</td>\n",
       "      <td>2005.0</td>\n",
       "      <td>Filtration</td>\n",
       "      <td>1.0</td>\n",
       "      <td>True</td>\n",
       "      <td>NaN</td>\n",
       "    </tr>\n",
       "    <tr>\n",
       "      <th>2006</th>\n",
       "      <td>POINT (14.56191 47.90195)</td>\n",
       "      <td>Upper-Austria</td>\n",
       "      <td>Großauer Christina und Rupert</td>\n",
       "      <td>6.0</td>\n",
       "      <td>2017.0</td>\n",
       "      <td>Primary</td>\n",
       "      <td>1.0</td>\n",
       "      <td>True</td>\n",
       "      <td>Mech</td>\n",
       "    </tr>\n",
       "    <tr>\n",
       "      <th>2078</th>\n",
       "      <td>POINT (13.96919 48.12718)</td>\n",
       "      <td>Upper-Austria</td>\n",
       "      <td>Schmidsberger Rosemarie</td>\n",
       "      <td>5.0</td>\n",
       "      <td>2016.0</td>\n",
       "      <td>Primary</td>\n",
       "      <td>1.0</td>\n",
       "      <td>True</td>\n",
       "      <td>Mech</td>\n",
       "    </tr>\n",
       "    <tr>\n",
       "      <th>2081</th>\n",
       "      <td>POINT (13.08411 48.06009)</td>\n",
       "      <td>Upper-Austria</td>\n",
       "      <td>Ebner Franz und Michaela bewfr</td>\n",
       "      <td>5.0</td>\n",
       "      <td>2001.0</td>\n",
       "      <td>Filtration</td>\n",
       "      <td>1.0</td>\n",
       "      <td>True</td>\n",
       "      <td>NaN</td>\n",
       "    </tr>\n",
       "    <tr>\n",
       "      <th>2083</th>\n",
       "      <td>POINT (13.27655 47.99966)</td>\n",
       "      <td>Upper-Austria</td>\n",
       "      <td>Zechleitner Josef</td>\n",
       "      <td>5.0</td>\n",
       "      <td>2019.0</td>\n",
       "      <td>Primary</td>\n",
       "      <td>1.0</td>\n",
       "      <td>True</td>\n",
       "      <td>Mech</td>\n",
       "    </tr>\n",
       "    <tr>\n",
       "      <th>2142</th>\n",
       "      <td>POINT (13.88437 48.27515)</td>\n",
       "      <td>Upper-Austria</td>\n",
       "      <td>Wenzelhuemer Josef</td>\n",
       "      <td>5.0</td>\n",
       "      <td>1992.0</td>\n",
       "      <td>Primary</td>\n",
       "      <td>0.0</td>\n",
       "      <td>True</td>\n",
       "      <td>Mech</td>\n",
       "    </tr>\n",
       "    <tr>\n",
       "      <th>2288</th>\n",
       "      <td>POINT (13.50016 48.27020)</td>\n",
       "      <td>Upper-Austria</td>\n",
       "      <td>Streif Walter und Elfriede</td>\n",
       "      <td>5.0</td>\n",
       "      <td>1991.0</td>\n",
       "      <td>Primary</td>\n",
       "      <td>0.0</td>\n",
       "      <td>True</td>\n",
       "      <td>Mech</td>\n",
       "    </tr>\n",
       "    <tr>\n",
       "      <th>2292</th>\n",
       "      <td>POINT (13.44746 48.24508)</td>\n",
       "      <td>Upper-Austria</td>\n",
       "      <td>Oder Berta und Stefan</td>\n",
       "      <td>5.0</td>\n",
       "      <td>1992.0</td>\n",
       "      <td>Primary</td>\n",
       "      <td>0.0</td>\n",
       "      <td>True</td>\n",
       "      <td>Mech</td>\n",
       "    </tr>\n",
       "    <tr>\n",
       "      <th>2327</th>\n",
       "      <td>POINT (13.59000 48.29274)</td>\n",
       "      <td>Upper-Austria</td>\n",
       "      <td>Petershofer Norbert und Theresia</td>\n",
       "      <td>5.0</td>\n",
       "      <td>1992.0</td>\n",
       "      <td>Primary</td>\n",
       "      <td>0.0</td>\n",
       "      <td>True</td>\n",
       "      <td>Mech</td>\n",
       "    </tr>\n",
       "    <tr>\n",
       "      <th>2423</th>\n",
       "      <td>POINT (14.49499 47.98404)</td>\n",
       "      <td>Upper-Austria</td>\n",
       "      <td>Gmainer Maria und Franz</td>\n",
       "      <td>5.0</td>\n",
       "      <td>1992.0</td>\n",
       "      <td>Filtration</td>\n",
       "      <td>1.0</td>\n",
       "      <td>True</td>\n",
       "      <td>NaN</td>\n",
       "    </tr>\n",
       "    <tr>\n",
       "      <th>2454</th>\n",
       "      <td>POINT (14.65228 47.78323)</td>\n",
       "      <td>Upper-Austria</td>\n",
       "      <td>Buschmann Dietrich</td>\n",
       "      <td>5.0</td>\n",
       "      <td>2020.0</td>\n",
       "      <td>Primary</td>\n",
       "      <td>1.0</td>\n",
       "      <td>True</td>\n",
       "      <td>Mech</td>\n",
       "    </tr>\n",
       "    <tr>\n",
       "      <th>2490</th>\n",
       "      <td>POINT (13.20105 48.20888)</td>\n",
       "      <td>Upper-Austria</td>\n",
       "      <td>Hölzl Maria</td>\n",
       "      <td>4.0</td>\n",
       "      <td>2018.0</td>\n",
       "      <td>Primary</td>\n",
       "      <td>1.0</td>\n",
       "      <td>True</td>\n",
       "      <td>Mech</td>\n",
       "    </tr>\n",
       "    <tr>\n",
       "      <th>2565</th>\n",
       "      <td>POINT (13.31536 48.25317)</td>\n",
       "      <td>Upper-Austria</td>\n",
       "      <td>Frauscher Ingrid</td>\n",
       "      <td>4.0</td>\n",
       "      <td>1992.0</td>\n",
       "      <td>Primary</td>\n",
       "      <td>0.0</td>\n",
       "      <td>True</td>\n",
       "      <td>Mech</td>\n",
       "    </tr>\n",
       "    <tr>\n",
       "      <th>2589</th>\n",
       "      <td>POINT (14.41216 47.96247)</td>\n",
       "      <td>Upper-Austria</td>\n",
       "      <td>Ramsner Reinhard</td>\n",
       "      <td>4.0</td>\n",
       "      <td>1994.0</td>\n",
       "      <td>Filtration</td>\n",
       "      <td>1.0</td>\n",
       "      <td>True</td>\n",
       "      <td>NaN</td>\n",
       "    </tr>\n",
       "  </tbody>\n",
       "</table>\n",
       "</div>"
      ],
      "text/plain": [
       "                       geometry             BL  \\\n",
       "255   POINT (14.13154 47.80530)  Upper-Austria   \n",
       "516   POINT (14.02401 48.40281)  Upper-Austria   \n",
       "541   POINT (14.49629 47.99453)  Upper-Austria   \n",
       "1031  POINT (14.12581 47.95666)  Upper-Austria   \n",
       "1344  POINT (14.11456 48.01685)  Upper-Austria   \n",
       "1646  POINT (14.49827 47.99021)  Upper-Austria   \n",
       "1766  POINT (14.55770 48.43298)  Upper-Austria   \n",
       "1835  POINT (14.04539 47.96642)  Upper-Austria   \n",
       "1997  POINT (14.45226 48.09501)  Upper-Austria   \n",
       "2006  POINT (14.56191 47.90195)  Upper-Austria   \n",
       "2078  POINT (13.96919 48.12718)  Upper-Austria   \n",
       "2081  POINT (13.08411 48.06009)  Upper-Austria   \n",
       "2083  POINT (13.27655 47.99966)  Upper-Austria   \n",
       "2142  POINT (13.88437 48.27515)  Upper-Austria   \n",
       "2288  POINT (13.50016 48.27020)  Upper-Austria   \n",
       "2292  POINT (13.44746 48.24508)  Upper-Austria   \n",
       "2327  POINT (13.59000 48.29274)  Upper-Austria   \n",
       "2423  POINT (14.49499 47.98404)  Upper-Austria   \n",
       "2454  POINT (14.65228 47.78323)  Upper-Austria   \n",
       "2490  POINT (13.20105 48.20888)  Upper-Austria   \n",
       "2565  POINT (13.31536 48.25317)  Upper-Austria   \n",
       "2589  POINT (14.41216 47.96247)  Upper-Austria   \n",
       "\n",
       "                                   NAME    PE    year   tech_type  nitri  \\\n",
       "255                   LAWOG Steyrling I  36.0  1995.0  Filtration    1.0   \n",
       "516                Rechberger Willnauer  20.0  2015.0     Primary    1.0   \n",
       "541                            Badhofer  20.0  1992.0  Filtration    1.0   \n",
       "1031  Vierthaler Bernhard und Margarete  10.0  1995.0  Filtration    1.0   \n",
       "1344          Gruber Alois und Theresia   8.0  1991.0  Filtration    0.0   \n",
       "1646                   Badhofer Susanne   8.0  2019.0     Primary    0.0   \n",
       "1766                   Hofreiter Günter   6.0  2017.0     Primary    1.0   \n",
       "1835              Brunmair Karl u. Ilse   6.0  1991.0     Primary    0.0   \n",
       "1997      Schartlmüller Anton und Edith   6.0  2005.0  Filtration    1.0   \n",
       "2006      Großauer Christina und Rupert   6.0  2017.0     Primary    1.0   \n",
       "2078            Schmidsberger Rosemarie   5.0  2016.0     Primary    1.0   \n",
       "2081     Ebner Franz und Michaela bewfr   5.0  2001.0  Filtration    1.0   \n",
       "2083                  Zechleitner Josef   5.0  2019.0     Primary    1.0   \n",
       "2142                 Wenzelhuemer Josef   5.0  1992.0     Primary    0.0   \n",
       "2288         Streif Walter und Elfriede   5.0  1991.0     Primary    0.0   \n",
       "2292              Oder Berta und Stefan   5.0  1992.0     Primary    0.0   \n",
       "2327   Petershofer Norbert und Theresia   5.0  1992.0     Primary    0.0   \n",
       "2423            Gmainer Maria und Franz   5.0  1992.0  Filtration    1.0   \n",
       "2454                 Buschmann Dietrich   5.0  2020.0     Primary    1.0   \n",
       "2490                        Hölzl Maria   4.0  2018.0     Primary    1.0   \n",
       "2565                   Frauscher Ingrid   4.0  1992.0     Primary    0.0   \n",
       "2589                   Ramsner Reinhard   4.0  1994.0  Filtration    1.0   \n",
       "\n",
       "     no_nitri bautyp  \n",
       "255      True    NaN  \n",
       "516      True   Mech  \n",
       "541      True    NaN  \n",
       "1031     True    NaN  \n",
       "1344     True    NaN  \n",
       "1646     True   Mech  \n",
       "1766     True   Mech  \n",
       "1835     True   Mech  \n",
       "1997     True    NaN  \n",
       "2006     True   Mech  \n",
       "2078     True   Mech  \n",
       "2081     True    NaN  \n",
       "2083     True   Mech  \n",
       "2142     True   Mech  \n",
       "2288     True   Mech  \n",
       "2292     True   Mech  \n",
       "2327     True   Mech  \n",
       "2423     True    NaN  \n",
       "2454     True   Mech  \n",
       "2490     True   Mech  \n",
       "2565     True   Mech  \n",
       "2589     True    NaN  "
      ]
     },
     "execution_count": 155,
     "metadata": {},
     "output_type": "execute_result"
    }
   ],
   "source": [
    "data[(data.no_nitri==True)&(data.year>1990)]"
   ]
  },
  {
   "cell_type": "code",
   "execution_count": 156,
   "metadata": {},
   "outputs": [],
   "source": [
    "from functions import logical_column\n",
    "conditions=[\n",
    "    data.tech_type=='SBR',\n",
    "    data.tech_type=='PKA',\n",
    "    data.tech_type=='Belebung',\n",
    "    data.tech_type=='PF',\n",
    "    data.tech_type=='Primary',\n",
    "    data.tech_type=='nd',\n",
    "    data.tech_type=='Other',\n",
    "    data.tech_type=='BKF',\n",
    "    data.tech_type=='Tropf',\n",
    "    data.tech_type=='Filtration',\n",
    "    data.tech_type=='Fest',\n",
    "    data.tech_type=='RBC',\n",
    "    data.tech_type=='MBR',\n",
    "\n",
    "\n",
    "]\n",
    "\n",
    "outcome=[False,False,False,False,True,'nd',False,False,False,True,False,False,False]\n",
    "data=logical_column(conditions,outcome,data,'new')\n",
    "\n",
    "nd=data[data.tech_type=='nd']\n",
    "data=data[data.tech_type!='nd']\n",
    "nd.loc[nd.bautyp=='Bio', 'no_nitri'] = False\n",
    "nd.loc[nd.bautyp=='Mech', 'no_nitri'] = True\n"
   ]
  },
  {
   "cell_type": "markdown",
   "metadata": {},
   "source": [
    "# what had no coordinates?"
   ]
  },
  {
   "cell_type": "code",
   "execution_count": 157,
   "metadata": {},
   "outputs": [
    {
     "data": {
      "text/html": [
       "<div>\n",
       "<style scoped>\n",
       "    .dataframe tbody tr th:only-of-type {\n",
       "        vertical-align: middle;\n",
       "    }\n",
       "\n",
       "    .dataframe tbody tr th {\n",
       "        vertical-align: top;\n",
       "    }\n",
       "\n",
       "    .dataframe thead th {\n",
       "        text-align: right;\n",
       "    }\n",
       "</style>\n",
       "<table border=\"1\" class=\"dataframe\">\n",
       "  <thead>\n",
       "    <tr style=\"text-align: right;\">\n",
       "      <th></th>\n",
       "      <th>Unnamed: 0</th>\n",
       "      <th>NAME</th>\n",
       "      <th>EW60</th>\n",
       "      <th>INBETRIEBNAHME</th>\n",
       "      <th>RECHTSWERT</th>\n",
       "      <th>HOCHWERT</th>\n",
       "      <th>bautyp</th>\n",
       "      <th>tech_type</th>\n",
       "      <th>activity</th>\n",
       "      <th>before_reg</th>\n",
       "      <th>no_nitri</th>\n",
       "    </tr>\n",
       "    <tr>\n",
       "      <th>BEZIRK</th>\n",
       "      <th></th>\n",
       "      <th></th>\n",
       "      <th></th>\n",
       "      <th></th>\n",
       "      <th></th>\n",
       "      <th></th>\n",
       "      <th></th>\n",
       "      <th></th>\n",
       "      <th></th>\n",
       "      <th></th>\n",
       "      <th></th>\n",
       "    </tr>\n",
       "  </thead>\n",
       "  <tbody>\n",
       "    <tr>\n",
       "      <th>Amstetten</th>\n",
       "      <td>704</td>\n",
       "      <td>704</td>\n",
       "      <td>704</td>\n",
       "      <td>704</td>\n",
       "      <td>0</td>\n",
       "      <td>0</td>\n",
       "      <td>704</td>\n",
       "      <td>704</td>\n",
       "      <td>704</td>\n",
       "      <td>704</td>\n",
       "      <td>704</td>\n",
       "    </tr>\n",
       "  </tbody>\n",
       "</table>\n",
       "</div>"
      ],
      "text/plain": [
       "           Unnamed: 0  NAME  EW60  INBETRIEBNAHME  RECHTSWERT  HOCHWERT  \\\n",
       "BEZIRK                                                                    \n",
       "Amstetten         704   704   704             704           0         0   \n",
       "\n",
       "           bautyp  tech_type  activity  before_reg  no_nitri  \n",
       "BEZIRK                                                        \n",
       "Amstetten     704        704       704         704       704  "
      ]
     },
     "execution_count": 157,
     "metadata": {},
     "output_type": "execute_result"
    }
   ],
   "source": [
    "no_geo.groupby('bautyp').count()\n",
    "no_geo.groupby('tech_type').count()\n",
    "no_geo.groupby('BEZIRK').count()"
   ]
  }
 ],
 "metadata": {
  "interpreter": {
   "hash": "46b023be3b543629ebc72123c4a9ee6613b0d6970e9059aae9a054971a6a41c6"
  },
  "kernelspec": {
   "display_name": "Python 3.8.11 ('geo')",
   "language": "python",
   "name": "python3"
  },
  "language_info": {
   "codemirror_mode": {
    "name": "ipython",
    "version": 3
   },
   "file_extension": ".py",
   "mimetype": "text/x-python",
   "name": "python",
   "nbconvert_exporter": "python",
   "pygments_lexer": "ipython3",
   "version": "3.8.11"
  },
  "orig_nbformat": 4
 },
 "nbformat": 4,
 "nbformat_minor": 2
}
