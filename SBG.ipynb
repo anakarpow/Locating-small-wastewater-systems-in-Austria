{
 "cells": [
  {
   "cell_type": "code",
   "execution_count": 50,
   "metadata": {},
   "outputs": [],
   "source": [
    "import pandas as pd\n",
    "import numpy as np\n",
    "from functions import *\n",
    "import matplotlib.pyplot as plt\n",
    "\n",
    "d = r'C:/Users/fabrizio/Documents/R_data/PROJECTS/MASTER/DATA/KKA SBG NEU.xlsx'\n",
    "data, trial = reader(d, 'Daten SBG', header=11, test=False)\n",
    "conditions_tech=[\n",
    "    data['Kat'] == 1,\n",
    "    data['Kat'] == 2,\n",
    "    data['Kat']== 3,\n",
    "    data['Kat'] == 4,\n",
    "    data['Kat'] == 5,\n",
    "    data['Kat'] == 6,\n",
    "    data['Kat'] == 7,\n",
    "    data['Kat']== 8,\n",
    "    data['Kat']== 9,\n",
    "    data['Kat']== 10,\n",
    "    data['Kat']== 11,\n",
    "    data['Kat']== 12,\n",
    "    data['Kat']== 13\n",
    "]\n",
    "\n",
    "outcome_tech = ['3-k', 'Filtersack','Kompost', 'Bel.', 'SBR', 'MBR', 'Tropf', 'RBC', \n",
    "                    'Fest', 'Wirbel', 'BKF', 'PKA','Unbekannt']\n",
    "\n",
    "data=logical_column(conditions_tech,outcome_tech,data, 'tech_type')\n",
    "drop_col=[ 'Unnamed: 0','Unnamed: 1','Unnamed: 8','mech.','biol. ',\n",
    "'chem.','Urkunde','Unnamed: 13','Lageplan','Bautyp', 'Anmerkungen','Kat',\n",
    "1,2,3,4,5,6,7,8,9,10,11,12,13,'12.1','Bepflanzter Bodenfilter (Pflanzenkläranlage)']\n",
    "\n",
    "\n",
    "\n",
    "data=cleaner(data,drop_col)\n",
    "data.rename(columns={'Unnamed: 6':'KG_name'},inplace=True)\n",
    "data.replace({'?':'0'},inplace=True)\n",
    "data.fillna(0,inplace=True)"
   ]
  },
  {
   "cell_type": "code",
   "execution_count": 51,
   "metadata": {},
   "outputs": [],
   "source": [
    "data.to_excel('output/SBG.xlsx',index=False)"
   ]
  }
 ],
 "metadata": {
  "interpreter": {
   "hash": "d4a4f80f0852bbaf4e4f090cf7fb2ba0e283c9764699a540eedc0c1ab340cdd7"
  },
  "kernelspec": {
   "display_name": "Python 3.8.11 64-bit ('geo': conda)",
   "name": "python3"
  },
  "language_info": {
   "codemirror_mode": {
    "name": "ipython",
    "version": 3
   },
   "file_extension": ".py",
   "mimetype": "text/x-python",
   "name": "python",
   "nbconvert_exporter": "python",
   "pygments_lexer": "ipython3",
   "version": "3.8.11"
  },
  "orig_nbformat": 4
 },
 "nbformat": 4,
 "nbformat_minor": 2
}
