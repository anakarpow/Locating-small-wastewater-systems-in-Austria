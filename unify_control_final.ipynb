{
 "cells": [
  {
   "cell_type": "markdown",
   "metadata": {},
   "source": [
    "# read final files and compare with half-way"
   ]
  },
  {
   "cell_type": "code",
   "execution_count": 1,
   "metadata": {},
   "outputs": [],
   "source": [
    "import pandas as pd\n",
    "import numpy as np\n",
    "import geopandas\n",
    "import matplotlib.pyplot as plt\n",
    "from pandas.io.parsers import read_csv\n",
    "from gis_functions import *\n",
    "\n"
   ]
  },
  {
   "cell_type": "code",
   "execution_count": 4,
   "metadata": {},
   "outputs": [],
   "source": [
    "steyr=geopandas.read_file('final/steyr.geojson')\n",
    "karn=geopandas.read_file('final/karn.geojson')\n",
    "tirol=geopandas.read_file('final/tirol.geojson')\n",
    "oebo=geopandas.read_file('final/oebo.geojson')\n",
    "sbg=geopandas.read_file('final/sbg.geojson')\n",
    "noe=geopandas.read_file('final/noe.geojson')\n",
    "\n"
   ]
  },
  {
   "cell_type": "code",
   "execution_count": 20,
   "metadata": {},
   "outputs": [],
   "source": [
    "steyr=steyr.loc[:,['BL','freq','sum_PE']]\n",
    "karn=karn.loc[:,['BL','freq','sum_PE']]\n",
    "tirol=tirol.loc[:,['BL','freq','sum_PE']]\n",
    "oebo=oebo.loc[:,['BL','freq','sum_PE']]\n",
    "sbg=sbg.loc[:,['BL','freq','sum_PE']]\n",
    "noe=noe.loc[:,['BL','freq','sum_PE']]\n",
    "\n",
    "files=[steyr,karn, tirol,oebo,sbg,noe]"
   ]
  },
  {
   "cell_type": "code",
   "execution_count": 35,
   "metadata": {},
   "outputs": [
    {
     "name": "stdout",
     "output_type": "stream",
     "text": [
      "Index(['BL', 'freq', 'sum_PE'], dtype='object')\n",
      "Index(['BL', 'freq', 'sum_PE'], dtype='object')\n",
      "Index(['BL', 'freq', 'sum_PE'], dtype='object')\n",
      "Index(['BL', 'freq', 'sum_PE'], dtype='object')\n",
      "Index(['BL', 'freq', 'sum_PE'], dtype='object')\n",
      "Index(['BL', 'freq', 'sum_PE'], dtype='object')\n"
     ]
    }
   ],
   "source": [
    "for file in files:\n",
    "    print(file.columns)"
   ]
  },
  {
   "cell_type": "code",
   "execution_count": 36,
   "metadata": {},
   "outputs": [],
   "source": [
    "data=pd.concat(files)"
   ]
  },
  {
   "cell_type": "code",
   "execution_count": 40,
   "metadata": {},
   "outputs": [
    {
     "data": {
      "text/plain": [
       "27227"
      ]
     },
     "execution_count": 40,
     "metadata": {},
     "output_type": "execute_result"
    }
   ],
   "source": [
    "#looks good. should be about 27.000. \n",
    "data.sum()['freq']\n"
   ]
  },
  {
   "cell_type": "code",
   "execution_count": 37,
   "metadata": {},
   "outputs": [
    {
     "data": {
      "text/plain": [
       "BL\n",
       "Kärnten              7052\n",
       "Niederösterreich     4313\n",
       "Oberösterreich       2522\n",
       "Salzburg             1708\n",
       "Steiermark          10338\n",
       "Tirol                1294\n",
       "Name: freq, dtype: int64"
      ]
     },
     "execution_count": 37,
     "metadata": {},
     "output_type": "execute_result"
    }
   ],
   "source": [
    "#number of alnage per BL\n",
    "data.groupby('BL').sum()['freq']\n",
    "#looks fine"
   ]
  },
  {
   "cell_type": "code",
   "execution_count": 38,
   "metadata": {},
   "outputs": [
    {
     "data": {
      "text/plain": [
       "402355.7464840183"
      ]
     },
     "execution_count": 38,
     "metadata": {},
     "output_type": "execute_result"
    }
   ],
   "source": [
    "#total PE\n",
    "#looks bad. should be 260.000\n",
    "data.sum_PE.sum()"
   ]
  },
  {
   "cell_type": "code",
   "execution_count": 39,
   "metadata": {},
   "outputs": [
    {
     "data": {
      "text/plain": [
       "BL\n",
       "Kärnten              97832.559817\n",
       "Niederösterreich    124026.000000\n",
       "Oberösterreich       30880.000000\n",
       "Salzburg             30336.960000\n",
       "Steiermark           86895.000000\n",
       "Tirol                32385.226667\n",
       "Name: sum_PE, dtype: float64"
      ]
     },
     "execution_count": 39,
     "metadata": {},
     "output_type": "execute_result"
    }
   ],
   "source": [
    "#total PE per BL\n",
    "#looks bad \n",
    "data.groupby('BL').sum()['sum_PE']\n"
   ]
  },
  {
   "cell_type": "markdown",
   "metadata": {},
   "source": [
    "### Observtions\n",
    "# from half-way to final only minor differences. mostly good match. KArn only one changing. \n",
    "    > not all rows have been merged using KG_NR. see controlling.py\n",
    "# total PE is very different from Gunters. only steyr shows similar number. \n",
    "    > carintia had so many from beginning. and the others ? "
   ]
  },
  {
   "cell_type": "markdown",
   "metadata": {},
   "source": [
    "### TO DOs\n",
    "# check other BLs, what was original PE ?"
   ]
  }
 ],
 "metadata": {
  "interpreter": {
   "hash": "d4a4f80f0852bbaf4e4f090cf7fb2ba0e283c9764699a540eedc0c1ab340cdd7"
  },
  "kernelspec": {
   "display_name": "Python 3.8.11 64-bit ('geo': conda)",
   "language": "python",
   "name": "python3"
  },
  "language_info": {
   "codemirror_mode": {
    "name": "ipython",
    "version": 3
   },
   "file_extension": ".py",
   "mimetype": "text/x-python",
   "name": "python",
   "nbconvert_exporter": "python",
   "pygments_lexer": "ipython3",
   "version": "3.8.11"
  },
  "orig_nbformat": 4
 },
 "nbformat": 4,
 "nbformat_minor": 2
}
