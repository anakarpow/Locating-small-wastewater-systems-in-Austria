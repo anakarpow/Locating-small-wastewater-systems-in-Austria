{
 "cells": [
  {
   "cell_type": "markdown",
   "metadata": {},
   "source": [
    "# answer question originated from unifying process"
   ]
  },
  {
   "cell_type": "code",
   "execution_count": 1,
   "metadata": {},
   "outputs": [],
   "source": [
    "import pandas as pd\n",
    "import numpy as np\n",
    "import geopandas\n",
    "import matplotlib.pyplot as plt\n",
    "from pandas.io.parsers import read_csv\n",
    "from gis_functions import *\n",
    "from functions import *\n",
    "\n"
   ]
  },
  {
   "cell_type": "markdown",
   "metadata": {},
   "source": [
    "# check original PE\n",
    "## compare original data with half-way"
   ]
  },
  {
   "cell_type": "code",
   "execution_count": null,
   "metadata": {},
   "outputs": [],
   "source": [
    "# why has karn so much Pe in plus?\n",
    "import functions\n",
    "d = r'C:/Users/fabrizio/Documents/R_data/PROJECTS/MASTER/DATA/KKA Kärnten NEU.xlsx'\n",
    "\n",
    "data, trial = functions.reader(d, 'Data K', header=15, test=False)\n",
    "data['EW 60']=data['EW 60'].replace('?', 0)\n",
    "data['EW 60']=data['EW 60'].astype(str)\n",
    "data.loc[data['EW 60'].str.contains('Bew'), 'EW 60']='0'\n",
    "data.loc[data['EW 60'].str.contains('Bescheid'), 'EW 60']='0'\n",
    "data.loc[data['EW 60'].str.contains('m³'), 'EW 60']='0'\n",
    "data.loc[data['EW 60'].str.contains('Liter'), 'EW 60']='0'\n",
    "data.loc[data['EW 60'].str.contains('nan'), 'EW 60']='0'\n",
    "\n",
    "#perfect match. carintia had from beginning so many PEs\n",
    "data['EW 60'].astype(float).sum()"
   ]
  },
  {
   "cell_type": "code",
   "execution_count": null,
   "metadata": {},
   "outputs": [],
   "source": [
    "sub=data[['Bautyp','EW 60']]\n",
    "sub['EW 60']=sub['EW 60'].astype(float).round().astype(int)\n",
    "sub[sub['EW 60']<50].sum()"
   ]
  },
  {
   "cell_type": "code",
   "execution_count": null,
   "metadata": {},
   "outputs": [],
   "source": [
    "halfway=pd.read_excel('half-way/SBG.xlsx')\n"
   ]
  },
  {
   "cell_type": "code",
   "execution_count": null,
   "metadata": {},
   "outputs": [],
   "source": [
    "halfway\n",
    "halfway[halfway.PE<50].PE.sum()\n",
    "#halfway[halfway.EW60<50].EW60.sum()"
   ]
  },
  {
   "cell_type": "code",
   "execution_count": null,
   "metadata": {},
   "outputs": [],
   "source": [
    "#check original PE for LowerA\n",
    "d = r'C:/Users/fabrizio/Documents/R_data/PROJECTS/MASTER/DATA/KKA NÖ NEU DE final.xlsx'\n",
    "data, trial = functions.reader(d, 'Data NÖ (Technol)', header=5, test=False)\n",
    "\n",
    "#again, perfect match\n",
    "data['EW60_BEWILLIGT'].astype(float).sum()"
   ]
  },
  {
   "cell_type": "markdown",
   "metadata": {},
   "source": [
    "# check the unmerged \n",
    "## why some rows have not been merged?"
   ]
  },
  {
   "cell_type": "code",
   "execution_count": null,
   "metadata": {},
   "outputs": [],
   "source": [
    "# check the not merged of KArn\n",
    "data=pd.read_excel('final/not_merged_karn.xlsx')"
   ]
  },
  {
   "cell_type": "code",
   "execution_count": null,
   "metadata": {},
   "outputs": [],
   "source": [
    "#zoom on merge key\n",
    "data.loc[:,['KG', 'KG_NR']]\n",
    "#one KG , and the rest is 0 that used to be NAs\n",
    "#OK, differenced between half-way and final are explained"
   ]
  },
  {
   "cell_type": "code",
   "execution_count": null,
   "metadata": {},
   "outputs": [],
   "source": [
    "#all 0 except one\n",
    "data=pd.read_excel('final/not_merged_sbg.xlsx')\n",
    "data.loc[:,['KG', 'KG_NR']]\n"
   ]
  },
  {
   "cell_type": "markdown",
   "metadata": {},
   "source": [
    "# unify OEBO"
   ]
  },
  {
   "cell_type": "code",
   "execution_count": null,
   "metadata": {},
   "outputs": [],
   "source": [
    "oebo=geopandas.read_file('final/oebo.geojson')\n"
   ]
  },
  {
   "cell_type": "code",
   "execution_count": null,
   "metadata": {},
   "outputs": [],
   "source": [
    "oebo['no_nitri']=oebo.freq-oebo.NITRIFIZIERUNG"
   ]
  },
  {
   "cell_type": "markdown",
   "metadata": {},
   "source": [
    "# what the fuck happened with mean_age steiermark?"
   ]
  },
  {
   "cell_type": "code",
   "execution_count": null,
   "metadata": {},
   "outputs": [],
   "source": [
    "steyr=pd.read_excel('half-way/steyr.xlsx')"
   ]
  },
  {
   "cell_type": "code",
   "execution_count": null,
   "metadata": {},
   "outputs": [],
   "source": [
    "steyr.sort_values('year', ascending=True)## 2077\n",
    "#steyr[steyr.sort_values('year', ascending=True).year>0]## \n"
   ]
  },
  {
   "cell_type": "code",
   "execution_count": null,
   "metadata": {},
   "outputs": [],
   "source": [
    "data=geopandas.read_file('final/steyr.geojson')\n"
   ]
  },
  {
   "cell_type": "code",
   "execution_count": null,
   "metadata": {},
   "outputs": [],
   "source": [
    "data[data.sort_values('mean_year', ascending=True).mean_year>0]## \n"
   ]
  },
  {
   "cell_type": "markdown",
   "metadata": {},
   "source": [
    "# alle the 0s disturb the mean value!! where do 0 come from ? NAs"
   ]
  },
  {
   "cell_type": "markdown",
   "metadata": {},
   "source": [
    "# inserting new function : sumPE_nonitri"
   ]
  },
  {
   "cell_type": "code",
   "execution_count": null,
   "metadata": {},
   "outputs": [],
   "source": [
    "data=geopandas.read_file('final/noe.geojson')\n",
    "\n"
   ]
  },
  {
   "cell_type": "code",
   "execution_count": null,
   "metadata": {},
   "outputs": [],
   "source": [
    "data.columns"
   ]
  },
  {
   "cell_type": "code",
   "execution_count": null,
   "metadata": {},
   "outputs": [],
   "source": [
    "data"
   ]
  },
  {
   "cell_type": "code",
   "execution_count": null,
   "metadata": {},
   "outputs": [],
   "source": [
    "\n",
    "data[['PE_nonitri', 'freq','no_nitri', 'sum_PE']].sort_values('PE_nonitri',ascending=False)"
   ]
  },
  {
   "cell_type": "code",
   "execution_count": null,
   "metadata": {},
   "outputs": [],
   "source": [
    "\n",
    "data[['PE_nonitri_y', 'freq','no_nitri', 'sum_PE']].sort_values('PE_nonitri_y',ascending=False)"
   ]
  },
  {
   "cell_type": "markdown",
   "metadata": {},
   "source": [
    "# check why so many NAs in LOWER austria tech_type"
   ]
  },
  {
   "cell_type": "code",
   "execution_count": 25,
   "metadata": {},
   "outputs": [
    {
     "data": {
      "text/html": [
       "<div>\n",
       "<style scoped>\n",
       "    .dataframe tbody tr th:only-of-type {\n",
       "        vertical-align: middle;\n",
       "    }\n",
       "\n",
       "    .dataframe tbody tr th {\n",
       "        vertical-align: top;\n",
       "    }\n",
       "\n",
       "    .dataframe thead th {\n",
       "        text-align: right;\n",
       "    }\n",
       "</style>\n",
       "<table border=\"1\" class=\"dataframe\">\n",
       "  <thead>\n",
       "    <tr style=\"text-align: right;\">\n",
       "      <th></th>\n",
       "      <th>BEZIRK</th>\n",
       "      <th>NAME</th>\n",
       "      <th>EW60_BEWILLIGT</th>\n",
       "      <th>BEWILLIGUNGSJAHR</th>\n",
       "      <th>RECHTSWERT</th>\n",
       "      <th>HOCHWERT</th>\n",
       "      <th>Betrieb</th>\n",
       "      <th>Stillgelegt</th>\n",
       "      <th>Unbek</th>\n",
       "      <th>3-k</th>\n",
       "      <th>...</th>\n",
       "      <th>RBC</th>\n",
       "      <th>Fest</th>\n",
       "      <th>Wirbel</th>\n",
       "      <th>BKF</th>\n",
       "      <th>PKA</th>\n",
       "      <th>Filtersack</th>\n",
       "      <th>Kompost</th>\n",
       "      <th>Andere</th>\n",
       "      <th>Unbekannt</th>\n",
       "      <th>bautyp</th>\n",
       "    </tr>\n",
       "  </thead>\n",
       "  <tbody>\n",
       "    <tr>\n",
       "      <th>0</th>\n",
       "      <td>Amstetten</td>\n",
       "      <td>ARA Wohnhaus Pankratz Mag. arch. Oskar und Bri...</td>\n",
       "      <td>4.0</td>\n",
       "      <td>2010</td>\n",
       "      <td>NaN</td>\n",
       "      <td>NaN</td>\n",
       "      <td>1.0</td>\n",
       "      <td>NaN</td>\n",
       "      <td>NaN</td>\n",
       "      <td>NaN</td>\n",
       "      <td>...</td>\n",
       "      <td>NaN</td>\n",
       "      <td>NaN</td>\n",
       "      <td>NaN</td>\n",
       "      <td>NaN</td>\n",
       "      <td>1.0</td>\n",
       "      <td>NaN</td>\n",
       "      <td>NaN</td>\n",
       "      <td>NaN</td>\n",
       "      <td>NaN</td>\n",
       "      <td>Bio</td>\n",
       "    </tr>\n",
       "    <tr>\n",
       "      <th>1</th>\n",
       "      <td>Lilienfeld</td>\n",
       "      <td>ARA Wohnhaus Eberl KG Kerschenbach 1572 LF</td>\n",
       "      <td>4.0</td>\n",
       "      <td>1983</td>\n",
       "      <td>700050.0</td>\n",
       "      <td>323594.0</td>\n",
       "      <td>NaN</td>\n",
       "      <td>NaN</td>\n",
       "      <td>1.0</td>\n",
       "      <td>1.0</td>\n",
       "      <td>...</td>\n",
       "      <td>NaN</td>\n",
       "      <td>NaN</td>\n",
       "      <td>NaN</td>\n",
       "      <td>NaN</td>\n",
       "      <td>NaN</td>\n",
       "      <td>NaN</td>\n",
       "      <td>NaN</td>\n",
       "      <td>NaN</td>\n",
       "      <td>1.0</td>\n",
       "      <td>Unbekannt</td>\n",
       "    </tr>\n",
       "    <tr>\n",
       "      <th>2</th>\n",
       "      <td>Amstetten</td>\n",
       "      <td>ARA Fa. Rauscher und Söhne KG Mauer bei Amstet...</td>\n",
       "      <td>100.0</td>\n",
       "      <td>1941</td>\n",
       "      <td>NaN</td>\n",
       "      <td>NaN</td>\n",
       "      <td>1.0</td>\n",
       "      <td>NaN</td>\n",
       "      <td>NaN</td>\n",
       "      <td>NaN</td>\n",
       "      <td>...</td>\n",
       "      <td>NaN</td>\n",
       "      <td>NaN</td>\n",
       "      <td>NaN</td>\n",
       "      <td>NaN</td>\n",
       "      <td>NaN</td>\n",
       "      <td>NaN</td>\n",
       "      <td>NaN</td>\n",
       "      <td>NaN</td>\n",
       "      <td>1.0</td>\n",
       "      <td>Mech</td>\n",
       "    </tr>\n",
       "    <tr>\n",
       "      <th>3</th>\n",
       "      <td>Amstetten</td>\n",
       "      <td>ARA Wohnhaus Vogelmayer Alois KG Seitenstetten...</td>\n",
       "      <td>10.0</td>\n",
       "      <td>1962</td>\n",
       "      <td>NaN</td>\n",
       "      <td>NaN</td>\n",
       "      <td>NaN</td>\n",
       "      <td>1.0</td>\n",
       "      <td>NaN</td>\n",
       "      <td>NaN</td>\n",
       "      <td>...</td>\n",
       "      <td>NaN</td>\n",
       "      <td>NaN</td>\n",
       "      <td>NaN</td>\n",
       "      <td>NaN</td>\n",
       "      <td>NaN</td>\n",
       "      <td>NaN</td>\n",
       "      <td>NaN</td>\n",
       "      <td>NaN</td>\n",
       "      <td>1.0</td>\n",
       "      <td>Mech</td>\n",
       "    </tr>\n",
       "    <tr>\n",
       "      <th>4</th>\n",
       "      <td>Amstetten</td>\n",
       "      <td>ARA Raiffeisenlagerhaus KG Haag Stadt 2043 AM</td>\n",
       "      <td>8.0</td>\n",
       "      <td>1996</td>\n",
       "      <td>NaN</td>\n",
       "      <td>NaN</td>\n",
       "      <td>NaN</td>\n",
       "      <td>NaN</td>\n",
       "      <td>1.0</td>\n",
       "      <td>NaN</td>\n",
       "      <td>...</td>\n",
       "      <td>NaN</td>\n",
       "      <td>NaN</td>\n",
       "      <td>NaN</td>\n",
       "      <td>NaN</td>\n",
       "      <td>NaN</td>\n",
       "      <td>NaN</td>\n",
       "      <td>NaN</td>\n",
       "      <td>NaN</td>\n",
       "      <td>1.0</td>\n",
       "      <td>Unbekannt</td>\n",
       "    </tr>\n",
       "    <tr>\n",
       "      <th>...</th>\n",
       "      <td>...</td>\n",
       "      <td>...</td>\n",
       "      <td>...</td>\n",
       "      <td>...</td>\n",
       "      <td>...</td>\n",
       "      <td>...</td>\n",
       "      <td>...</td>\n",
       "      <td>...</td>\n",
       "      <td>...</td>\n",
       "      <td>...</td>\n",
       "      <td>...</td>\n",
       "      <td>...</td>\n",
       "      <td>...</td>\n",
       "      <td>...</td>\n",
       "      <td>...</td>\n",
       "      <td>...</td>\n",
       "      <td>...</td>\n",
       "      <td>...</td>\n",
       "      <td>...</td>\n",
       "      <td>...</td>\n",
       "      <td>...</td>\n",
       "    </tr>\n",
       "    <tr>\n",
       "      <th>5024</th>\n",
       "      <td>Wr. Neustadt-Land</td>\n",
       "      <td>ARA Eysank Lukas KG Hollenthon 4071 WB</td>\n",
       "      <td>8.0</td>\n",
       "      <td>2013</td>\n",
       "      <td>746822.0</td>\n",
       "      <td>268272.0</td>\n",
       "      <td>1.0</td>\n",
       "      <td>NaN</td>\n",
       "      <td>NaN</td>\n",
       "      <td>NaN</td>\n",
       "      <td>...</td>\n",
       "      <td>NaN</td>\n",
       "      <td>NaN</td>\n",
       "      <td>1.0</td>\n",
       "      <td>NaN</td>\n",
       "      <td>NaN</td>\n",
       "      <td>NaN</td>\n",
       "      <td>NaN</td>\n",
       "      <td>NaN</td>\n",
       "      <td>NaN</td>\n",
       "      <td>Bio</td>\n",
       "    </tr>\n",
       "    <tr>\n",
       "      <th>5025</th>\n",
       "      <td>Wr. Neustadt-Land</td>\n",
       "      <td>ARA Schwartz Hermann jun. 3015 WB</td>\n",
       "      <td>52.0</td>\n",
       "      <td>1961</td>\n",
       "      <td>739182.0</td>\n",
       "      <td>293314.0</td>\n",
       "      <td>NaN</td>\n",
       "      <td>1.0</td>\n",
       "      <td>NaN</td>\n",
       "      <td>NaN</td>\n",
       "      <td>...</td>\n",
       "      <td>NaN</td>\n",
       "      <td>NaN</td>\n",
       "      <td>NaN</td>\n",
       "      <td>NaN</td>\n",
       "      <td>NaN</td>\n",
       "      <td>NaN</td>\n",
       "      <td>NaN</td>\n",
       "      <td>1.0</td>\n",
       "      <td>NaN</td>\n",
       "      <td>Mech</td>\n",
       "    </tr>\n",
       "    <tr>\n",
       "      <th>5026</th>\n",
       "      <td>Zwettl</td>\n",
       "      <td>ARA Gretz KG Perndorf 4035 ZT</td>\n",
       "      <td>8.0</td>\n",
       "      <td>2003</td>\n",
       "      <td>658687.0</td>\n",
       "      <td>392714.0</td>\n",
       "      <td>NaN</td>\n",
       "      <td>NaN</td>\n",
       "      <td>1.0</td>\n",
       "      <td>NaN</td>\n",
       "      <td>...</td>\n",
       "      <td>NaN</td>\n",
       "      <td>NaN</td>\n",
       "      <td>1.0</td>\n",
       "      <td>NaN</td>\n",
       "      <td>NaN</td>\n",
       "      <td>NaN</td>\n",
       "      <td>NaN</td>\n",
       "      <td>NaN</td>\n",
       "      <td>NaN</td>\n",
       "      <td>Bio</td>\n",
       "    </tr>\n",
       "    <tr>\n",
       "      <th>5027</th>\n",
       "      <td>Zwettl</td>\n",
       "      <td>ARA Böck KG Waldhausen 4908 ZT</td>\n",
       "      <td>10.0</td>\n",
       "      <td>2004</td>\n",
       "      <td>670487.0</td>\n",
       "      <td>376068.0</td>\n",
       "      <td>1.0</td>\n",
       "      <td>NaN</td>\n",
       "      <td>NaN</td>\n",
       "      <td>NaN</td>\n",
       "      <td>...</td>\n",
       "      <td>NaN</td>\n",
       "      <td>NaN</td>\n",
       "      <td>NaN</td>\n",
       "      <td>NaN</td>\n",
       "      <td>NaN</td>\n",
       "      <td>NaN</td>\n",
       "      <td>NaN</td>\n",
       "      <td>1.0</td>\n",
       "      <td>NaN</td>\n",
       "      <td>Bio</td>\n",
       "    </tr>\n",
       "    <tr>\n",
       "      <th>5028</th>\n",
       "      <td>Zwettl</td>\n",
       "      <td>ARA Hausleitner KG Oed 4953 ZT</td>\n",
       "      <td>10.0</td>\n",
       "      <td>2004</td>\n",
       "      <td>660269.0</td>\n",
       "      <td>360890.0</td>\n",
       "      <td>1.0</td>\n",
       "      <td>NaN</td>\n",
       "      <td>NaN</td>\n",
       "      <td>NaN</td>\n",
       "      <td>...</td>\n",
       "      <td>NaN</td>\n",
       "      <td>NaN</td>\n",
       "      <td>NaN</td>\n",
       "      <td>NaN</td>\n",
       "      <td>NaN</td>\n",
       "      <td>NaN</td>\n",
       "      <td>NaN</td>\n",
       "      <td>1.0</td>\n",
       "      <td>NaN</td>\n",
       "      <td>Bio</td>\n",
       "    </tr>\n",
       "  </tbody>\n",
       "</table>\n",
       "<p>5029 rows × 24 columns</p>\n",
       "</div>"
      ],
      "text/plain": [
       "                 BEZIRK                                               NAME  \\\n",
       "0             Amstetten  ARA Wohnhaus Pankratz Mag. arch. Oskar und Bri...   \n",
       "1            Lilienfeld         ARA Wohnhaus Eberl KG Kerschenbach 1572 LF   \n",
       "2             Amstetten  ARA Fa. Rauscher und Söhne KG Mauer bei Amstet...   \n",
       "3             Amstetten  ARA Wohnhaus Vogelmayer Alois KG Seitenstetten...   \n",
       "4             Amstetten      ARA Raiffeisenlagerhaus KG Haag Stadt 2043 AM   \n",
       "...                 ...                                                ...   \n",
       "5024  Wr. Neustadt-Land             ARA Eysank Lukas KG Hollenthon 4071 WB   \n",
       "5025  Wr. Neustadt-Land                  ARA Schwartz Hermann jun. 3015 WB   \n",
       "5026             Zwettl                      ARA Gretz KG Perndorf 4035 ZT   \n",
       "5027             Zwettl                     ARA Böck KG Waldhausen 4908 ZT   \n",
       "5028             Zwettl                     ARA Hausleitner KG Oed 4953 ZT   \n",
       "\n",
       "      EW60_BEWILLIGT  BEWILLIGUNGSJAHR  RECHTSWERT  HOCHWERT  Betrieb  \\\n",
       "0                4.0              2010         NaN       NaN      1.0   \n",
       "1                4.0              1983    700050.0  323594.0      NaN   \n",
       "2              100.0              1941         NaN       NaN      1.0   \n",
       "3               10.0              1962         NaN       NaN      NaN   \n",
       "4                8.0              1996         NaN       NaN      NaN   \n",
       "...              ...               ...         ...       ...      ...   \n",
       "5024             8.0              2013    746822.0  268272.0      1.0   \n",
       "5025            52.0              1961    739182.0  293314.0      NaN   \n",
       "5026             8.0              2003    658687.0  392714.0      NaN   \n",
       "5027            10.0              2004    670487.0  376068.0      1.0   \n",
       "5028            10.0              2004    660269.0  360890.0      1.0   \n",
       "\n",
       "      Stillgelegt  Unbek  3-k  ...  RBC  Fest  Wirbel  BKF  PKA  Filtersack  \\\n",
       "0             NaN    NaN  NaN  ...  NaN   NaN     NaN  NaN  1.0         NaN   \n",
       "1             NaN    1.0  1.0  ...  NaN   NaN     NaN  NaN  NaN         NaN   \n",
       "2             NaN    NaN  NaN  ...  NaN   NaN     NaN  NaN  NaN         NaN   \n",
       "3             1.0    NaN  NaN  ...  NaN   NaN     NaN  NaN  NaN         NaN   \n",
       "4             NaN    1.0  NaN  ...  NaN   NaN     NaN  NaN  NaN         NaN   \n",
       "...           ...    ...  ...  ...  ...   ...     ...  ...  ...         ...   \n",
       "5024          NaN    NaN  NaN  ...  NaN   NaN     1.0  NaN  NaN         NaN   \n",
       "5025          1.0    NaN  NaN  ...  NaN   NaN     NaN  NaN  NaN         NaN   \n",
       "5026          NaN    1.0  NaN  ...  NaN   NaN     1.0  NaN  NaN         NaN   \n",
       "5027          NaN    NaN  NaN  ...  NaN   NaN     NaN  NaN  NaN         NaN   \n",
       "5028          NaN    NaN  NaN  ...  NaN   NaN     NaN  NaN  NaN         NaN   \n",
       "\n",
       "      Kompost  Andere  Unbekannt     bautyp  \n",
       "0         NaN     NaN        NaN        Bio  \n",
       "1         NaN     NaN        1.0  Unbekannt  \n",
       "2         NaN     NaN        1.0       Mech  \n",
       "3         NaN     NaN        1.0       Mech  \n",
       "4         NaN     NaN        1.0  Unbekannt  \n",
       "...       ...     ...        ...        ...  \n",
       "5024      NaN     NaN        NaN        Bio  \n",
       "5025      NaN     1.0        NaN       Mech  \n",
       "5026      NaN     NaN        NaN        Bio  \n",
       "5027      NaN     1.0        NaN        Bio  \n",
       "5028      NaN     1.0        NaN        Bio  \n",
       "\n",
       "[5029 rows x 24 columns]"
      ]
     },
     "execution_count": 25,
     "metadata": {},
     "output_type": "execute_result"
    }
   ],
   "source": [
    "#check original PE for LowerA\n",
    "d = r'C:/Users/fabrizio/Documents/R_data/PROJECTS/MASTER/DATA/KKA NÖ NEU DE final.xlsx'\n",
    "data, trial = reader(d, 'Data NÖ (Technol)', header=5, test=False)\n",
    "\n",
    "data = cleaner(data, [\"Unnamed: 0\", \"Unnamed: 28\",\n",
    "               \"Unnamed: 29\", \"Unnamed: 30\"])\n",
    "\n",
    "#work on bautyp\n",
    "bautyp = data[[\"Mechan.\", \"Biolog.\", \"Chemisch\", \"Unbek.\"]]\n",
    "conditions_bau = [\n",
    "    data[\"Unbek.\"] == 1,\n",
    "    data[\"Mechan.\"] == 1,\n",
    "    data[\"Biolog.\"] == 1,\n",
    "    data[\"Chemisch\"] == 1,\n",
    "    (data[\"Biolog.\"] == 1) & (data[\"Mechan.\"] == 1)\n",
    "]\n",
    "\n",
    "outcomes_bau = [\n",
    "    \"Unbekannt\", \"Mech\", \"Bio\", \"Chem\", \"Bio\"\n",
    "]\n",
    "\n",
    "data = logical_column(conditions_bau, outcomes_bau, data, 'bautyp')\n",
    "data=col_dropper(data, bautyp)\n",
    "data\n",
    "\n",
    "#work on tech_type\n",
    "col_list = ['3-k', 'Bel.', 'SBR', 'MBR', 'Tropf', 'RBC', 'Fest', 'Wirbel', 'BKF', 'PKA', 'Filtersack',\n",
    "         'Kompost', 'Andere', 'Unbekannt']\n",
    "\n",
    "\n",
    "\n",
    "change_colname_index(9, data,col_list)"
   ]
  },
  {
   "cell_type": "code",
   "execution_count": 26,
   "metadata": {},
   "outputs": [],
   "source": [
    "data=data.reset_index()\n",
    "#data=data[data['EW60_BEWILLIGT']<=50]"
   ]
  },
  {
   "cell_type": "code",
   "execution_count": 27,
   "metadata": {},
   "outputs": [
    {
     "data": {
      "text/plain": [
       "1290"
      ]
     },
     "execution_count": 27,
     "metadata": {},
     "output_type": "execute_result"
    }
   ],
   "source": [
    "#same as from excel\n",
    "len(data[data['Unbekannt']==1])"
   ]
  },
  {
   "cell_type": "code",
   "execution_count": 28,
   "metadata": {},
   "outputs": [
    {
     "data": {
      "text/plain": [
       "38112.0"
      ]
     },
     "execution_count": 28,
     "metadata": {},
     "output_type": "execute_result"
    }
   ],
   "source": [
    "#same as later\n",
    "data[data['Unbekannt']==1]['EW60_BEWILLIGT'].sum()"
   ]
  },
  {
   "cell_type": "markdown",
   "metadata": {},
   "source": [
    "# high nmber from beginning"
   ]
  },
  {
   "cell_type": "code",
   "execution_count": 20,
   "metadata": {},
   "outputs": [],
   "source": [
    "#check original PE for LowerA\n",
    "d = r'C:/Users/fabrizio/Documents/R_data/PROJECTS/MASTER/DATA/KKA NÖ NEU DE final.xlsx'\n",
    "data, trial = reader(d, 'Data NÖ (KKA) (Technol)', header=5, test=False)\n"
   ]
  },
  {
   "cell_type": "code",
   "execution_count": 21,
   "metadata": {},
   "outputs": [
    {
     "data": {
      "text/html": [
       "<div>\n",
       "<style scoped>\n",
       "    .dataframe tbody tr th:only-of-type {\n",
       "        vertical-align: middle;\n",
       "    }\n",
       "\n",
       "    .dataframe tbody tr th {\n",
       "        vertical-align: top;\n",
       "    }\n",
       "\n",
       "    .dataframe thead th {\n",
       "        text-align: right;\n",
       "    }\n",
       "</style>\n",
       "<table border=\"1\" class=\"dataframe\">\n",
       "  <thead>\n",
       "    <tr style=\"text-align: right;\">\n",
       "      <th></th>\n",
       "      <th>BEZIRK</th>\n",
       "      <th>NAME</th>\n",
       "      <th>EW60_BEWILLIGT</th>\n",
       "      <th>BEWILLIGUNGSJAHR</th>\n",
       "      <th>RECHTSWERT</th>\n",
       "      <th>HOCHWERT</th>\n",
       "      <th>Betrieb</th>\n",
       "      <th>Stillgelegt</th>\n",
       "      <th>Unbek</th>\n",
       "      <th>3-k</th>\n",
       "      <th>...</th>\n",
       "      <th>Unnamed: 45</th>\n",
       "      <th>Unnamed: 46</th>\n",
       "      <th>Unnamed: 47</th>\n",
       "      <th>Unnamed: 48</th>\n",
       "      <th>Unnamed: 49</th>\n",
       "      <th>Unnamed: 50</th>\n",
       "      <th>Unnamed: 51</th>\n",
       "      <th>Unnamed: 52</th>\n",
       "      <th>Unnamed: 53</th>\n",
       "      <th>bautyp</th>\n",
       "    </tr>\n",
       "  </thead>\n",
       "  <tbody>\n",
       "    <tr>\n",
       "      <th>0</th>\n",
       "      <td>Lilienfeld</td>\n",
       "      <td>ARA Wohnhaus Eberl KG Kerschenbach 1572 LF</td>\n",
       "      <td>4</td>\n",
       "      <td>1983</td>\n",
       "      <td>700050.0</td>\n",
       "      <td>323594.0</td>\n",
       "      <td>NaN</td>\n",
       "      <td>NaN</td>\n",
       "      <td>1.0</td>\n",
       "      <td>1.0</td>\n",
       "      <td>...</td>\n",
       "      <td>NaN</td>\n",
       "      <td>NaN</td>\n",
       "      <td>NaN</td>\n",
       "      <td>NaN</td>\n",
       "      <td>NaN</td>\n",
       "      <td></td>\n",
       "      <td></td>\n",
       "      <td></td>\n",
       "      <td></td>\n",
       "      <td>Unbekannt</td>\n",
       "    </tr>\n",
       "    <tr>\n",
       "      <th>1</th>\n",
       "      <td>Amstetten</td>\n",
       "      <td>ARA Wohnhaus Melcher Kurt KG Ertl 2479 AM</td>\n",
       "      <td>3</td>\n",
       "      <td>1975</td>\n",
       "      <td>NaN</td>\n",
       "      <td>NaN</td>\n",
       "      <td>1.0</td>\n",
       "      <td>NaN</td>\n",
       "      <td>NaN</td>\n",
       "      <td>NaN</td>\n",
       "      <td>...</td>\n",
       "      <td>NaN</td>\n",
       "      <td>NaN</td>\n",
       "      <td>NaN</td>\n",
       "      <td>NaN</td>\n",
       "      <td>NaN</td>\n",
       "      <td></td>\n",
       "      <td></td>\n",
       "      <td></td>\n",
       "      <td></td>\n",
       "      <td>Mech</td>\n",
       "    </tr>\n",
       "    <tr>\n",
       "      <th>2</th>\n",
       "      <td>Amstetten</td>\n",
       "      <td>ARA Wohnhaus Steiner KG Sonntagberg 2786 AM</td>\n",
       "      <td>4</td>\n",
       "      <td>1985</td>\n",
       "      <td>NaN</td>\n",
       "      <td>NaN</td>\n",
       "      <td>NaN</td>\n",
       "      <td>1.0</td>\n",
       "      <td>NaN</td>\n",
       "      <td>NaN</td>\n",
       "      <td>...</td>\n",
       "      <td>NaN</td>\n",
       "      <td>NaN</td>\n",
       "      <td>NaN</td>\n",
       "      <td>NaN</td>\n",
       "      <td>NaN</td>\n",
       "      <td></td>\n",
       "      <td></td>\n",
       "      <td></td>\n",
       "      <td></td>\n",
       "      <td>Bio</td>\n",
       "    </tr>\n",
       "    <tr>\n",
       "      <th>3</th>\n",
       "      <td>Amstetten</td>\n",
       "      <td>ARA Raiffeisenlagerhaus KG Haag Stadt 2043 AM</td>\n",
       "      <td>8</td>\n",
       "      <td>1996</td>\n",
       "      <td>NaN</td>\n",
       "      <td>NaN</td>\n",
       "      <td>NaN</td>\n",
       "      <td>NaN</td>\n",
       "      <td>1.0</td>\n",
       "      <td>NaN</td>\n",
       "      <td>...</td>\n",
       "      <td>NaN</td>\n",
       "      <td>NaN</td>\n",
       "      <td>NaN</td>\n",
       "      <td>NaN</td>\n",
       "      <td>NaN</td>\n",
       "      <td></td>\n",
       "      <td></td>\n",
       "      <td></td>\n",
       "      <td></td>\n",
       "      <td>Unbekannt</td>\n",
       "    </tr>\n",
       "    <tr>\n",
       "      <th>4</th>\n",
       "      <td>Amstetten</td>\n",
       "      <td>ARA Bachler Herbert 2120 AM</td>\n",
       "      <td>8</td>\n",
       "      <td>1966</td>\n",
       "      <td>NaN</td>\n",
       "      <td>NaN</td>\n",
       "      <td>NaN</td>\n",
       "      <td>1.0</td>\n",
       "      <td>NaN</td>\n",
       "      <td>NaN</td>\n",
       "      <td>...</td>\n",
       "      <td>NaN</td>\n",
       "      <td>NaN</td>\n",
       "      <td>NaN</td>\n",
       "      <td>NaN</td>\n",
       "      <td>NaN</td>\n",
       "      <td></td>\n",
       "      <td></td>\n",
       "      <td></td>\n",
       "      <td></td>\n",
       "      <td>Mech</td>\n",
       "    </tr>\n",
       "    <tr>\n",
       "      <th>...</th>\n",
       "      <td>...</td>\n",
       "      <td>...</td>\n",
       "      <td>...</td>\n",
       "      <td>...</td>\n",
       "      <td>...</td>\n",
       "      <td>...</td>\n",
       "      <td>...</td>\n",
       "      <td>...</td>\n",
       "      <td>...</td>\n",
       "      <td>...</td>\n",
       "      <td>...</td>\n",
       "      <td>...</td>\n",
       "      <td>...</td>\n",
       "      <td>...</td>\n",
       "      <td>...</td>\n",
       "      <td>...</td>\n",
       "      <td>...</td>\n",
       "      <td>...</td>\n",
       "      <td>...</td>\n",
       "      <td>...</td>\n",
       "      <td>...</td>\n",
       "    </tr>\n",
       "    <tr>\n",
       "      <th>4536</th>\n",
       "      <td>Wien Umgebung</td>\n",
       "      <td>ARA Withalm Hans 670 WU</td>\n",
       "      <td>20</td>\n",
       "      <td>1962</td>\n",
       "      <td>739782.0</td>\n",
       "      <td>345622.0</td>\n",
       "      <td>1.0</td>\n",
       "      <td>NaN</td>\n",
       "      <td>NaN</td>\n",
       "      <td>NaN</td>\n",
       "      <td>...</td>\n",
       "      <td>NaN</td>\n",
       "      <td>NaN</td>\n",
       "      <td>NaN</td>\n",
       "      <td>NaN</td>\n",
       "      <td>NaN</td>\n",
       "      <td>NaN</td>\n",
       "      <td>NaN</td>\n",
       "      <td>NaN</td>\n",
       "      <td>NaN</td>\n",
       "      <td>Mech</td>\n",
       "    </tr>\n",
       "    <tr>\n",
       "      <th>4537</th>\n",
       "      <td>Wr. Neustadt-Land</td>\n",
       "      <td>ARA Eysank Lukas KG Hollenthon 4071 WB</td>\n",
       "      <td>8</td>\n",
       "      <td>2013</td>\n",
       "      <td>746822.0</td>\n",
       "      <td>268272.0</td>\n",
       "      <td>1.0</td>\n",
       "      <td>NaN</td>\n",
       "      <td>NaN</td>\n",
       "      <td>NaN</td>\n",
       "      <td>...</td>\n",
       "      <td>NaN</td>\n",
       "      <td>NaN</td>\n",
       "      <td>NaN</td>\n",
       "      <td>NaN</td>\n",
       "      <td>NaN</td>\n",
       "      <td>NaN</td>\n",
       "      <td>NaN</td>\n",
       "      <td>NaN</td>\n",
       "      <td>NaN</td>\n",
       "      <td>Bio</td>\n",
       "    </tr>\n",
       "    <tr>\n",
       "      <th>4538</th>\n",
       "      <td>Zwettl</td>\n",
       "      <td>ARA Gretz KG Perndorf 4035 ZT</td>\n",
       "      <td>8</td>\n",
       "      <td>2003</td>\n",
       "      <td>658687.0</td>\n",
       "      <td>392714.0</td>\n",
       "      <td>NaN</td>\n",
       "      <td>NaN</td>\n",
       "      <td>1.0</td>\n",
       "      <td>NaN</td>\n",
       "      <td>...</td>\n",
       "      <td>NaN</td>\n",
       "      <td>NaN</td>\n",
       "      <td>NaN</td>\n",
       "      <td>NaN</td>\n",
       "      <td>NaN</td>\n",
       "      <td>NaN</td>\n",
       "      <td>NaN</td>\n",
       "      <td>NaN</td>\n",
       "      <td>NaN</td>\n",
       "      <td>Bio</td>\n",
       "    </tr>\n",
       "    <tr>\n",
       "      <th>4539</th>\n",
       "      <td>Zwettl</td>\n",
       "      <td>ARA Böck KG Waldhausen 4908 ZT</td>\n",
       "      <td>10</td>\n",
       "      <td>2004</td>\n",
       "      <td>670487.0</td>\n",
       "      <td>376068.0</td>\n",
       "      <td>1.0</td>\n",
       "      <td>NaN</td>\n",
       "      <td>NaN</td>\n",
       "      <td>NaN</td>\n",
       "      <td>...</td>\n",
       "      <td>NaN</td>\n",
       "      <td>NaN</td>\n",
       "      <td>NaN</td>\n",
       "      <td>NaN</td>\n",
       "      <td>NaN</td>\n",
       "      <td>NaN</td>\n",
       "      <td>NaN</td>\n",
       "      <td>NaN</td>\n",
       "      <td>NaN</td>\n",
       "      <td>Bio</td>\n",
       "    </tr>\n",
       "    <tr>\n",
       "      <th>4540</th>\n",
       "      <td>Zwettl</td>\n",
       "      <td>ARA Hausleitner KG Oed 4953 ZT</td>\n",
       "      <td>10</td>\n",
       "      <td>2004</td>\n",
       "      <td>660269.0</td>\n",
       "      <td>360890.0</td>\n",
       "      <td>1.0</td>\n",
       "      <td>NaN</td>\n",
       "      <td>NaN</td>\n",
       "      <td>NaN</td>\n",
       "      <td>...</td>\n",
       "      <td>NaN</td>\n",
       "      <td>NaN</td>\n",
       "      <td>NaN</td>\n",
       "      <td>NaN</td>\n",
       "      <td>NaN</td>\n",
       "      <td>NaN</td>\n",
       "      <td>NaN</td>\n",
       "      <td>NaN</td>\n",
       "      <td>NaN</td>\n",
       "      <td>Bio</td>\n",
       "    </tr>\n",
       "  </tbody>\n",
       "</table>\n",
       "<p>4541 rows × 47 columns</p>\n",
       "</div>"
      ],
      "text/plain": [
       "                 BEZIRK                                           NAME  \\\n",
       "0            Lilienfeld     ARA Wohnhaus Eberl KG Kerschenbach 1572 LF   \n",
       "1             Amstetten      ARA Wohnhaus Melcher Kurt KG Ertl 2479 AM   \n",
       "2             Amstetten    ARA Wohnhaus Steiner KG Sonntagberg 2786 AM   \n",
       "3             Amstetten  ARA Raiffeisenlagerhaus KG Haag Stadt 2043 AM   \n",
       "4             Amstetten                    ARA Bachler Herbert 2120 AM   \n",
       "...                 ...                                            ...   \n",
       "4536      Wien Umgebung                        ARA Withalm Hans 670 WU   \n",
       "4537  Wr. Neustadt-Land         ARA Eysank Lukas KG Hollenthon 4071 WB   \n",
       "4538             Zwettl                  ARA Gretz KG Perndorf 4035 ZT   \n",
       "4539             Zwettl                 ARA Böck KG Waldhausen 4908 ZT   \n",
       "4540             Zwettl                 ARA Hausleitner KG Oed 4953 ZT   \n",
       "\n",
       "      EW60_BEWILLIGT  BEWILLIGUNGSJAHR  RECHTSWERT  HOCHWERT  Betrieb  \\\n",
       "0                  4              1983    700050.0  323594.0      NaN   \n",
       "1                  3              1975         NaN       NaN      1.0   \n",
       "2                  4              1985         NaN       NaN      NaN   \n",
       "3                  8              1996         NaN       NaN      NaN   \n",
       "4                  8              1966         NaN       NaN      NaN   \n",
       "...              ...               ...         ...       ...      ...   \n",
       "4536              20              1962    739782.0  345622.0      1.0   \n",
       "4537               8              2013    746822.0  268272.0      1.0   \n",
       "4538               8              2003    658687.0  392714.0      NaN   \n",
       "4539              10              2004    670487.0  376068.0      1.0   \n",
       "4540              10              2004    660269.0  360890.0      1.0   \n",
       "\n",
       "      Stillgelegt  Unbek  3-k  ...  Unnamed: 45  Unnamed: 46  Unnamed: 47  \\\n",
       "0             NaN    1.0  1.0  ...          NaN          NaN          NaN   \n",
       "1             NaN    NaN  NaN  ...          NaN          NaN          NaN   \n",
       "2             1.0    NaN  NaN  ...          NaN          NaN          NaN   \n",
       "3             NaN    1.0  NaN  ...          NaN          NaN          NaN   \n",
       "4             1.0    NaN  NaN  ...          NaN          NaN          NaN   \n",
       "...           ...    ...  ...  ...          ...          ...          ...   \n",
       "4536          NaN    NaN  NaN  ...          NaN          NaN          NaN   \n",
       "4537          NaN    NaN  NaN  ...          NaN          NaN          NaN   \n",
       "4538          NaN    1.0  NaN  ...          NaN          NaN          NaN   \n",
       "4539          NaN    NaN  NaN  ...          NaN          NaN          NaN   \n",
       "4540          NaN    NaN  NaN  ...          NaN          NaN          NaN   \n",
       "\n",
       "      Unnamed: 48  Unnamed: 49  Unnamed: 50  Unnamed: 51  Unnamed: 52  \\\n",
       "0             NaN          NaN                                          \n",
       "1             NaN          NaN                                          \n",
       "2             NaN          NaN                                          \n",
       "3             NaN          NaN                                          \n",
       "4             NaN          NaN                                          \n",
       "...           ...          ...          ...          ...          ...   \n",
       "4536          NaN          NaN          NaN          NaN          NaN   \n",
       "4537          NaN          NaN          NaN          NaN          NaN   \n",
       "4538          NaN          NaN          NaN          NaN          NaN   \n",
       "4539          NaN          NaN          NaN          NaN          NaN   \n",
       "4540          NaN          NaN          NaN          NaN          NaN   \n",
       "\n",
       "      Unnamed: 53     bautyp  \n",
       "0                  Unbekannt  \n",
       "1                       Mech  \n",
       "2                        Bio  \n",
       "3                  Unbekannt  \n",
       "4                       Mech  \n",
       "...           ...        ...  \n",
       "4536          NaN       Mech  \n",
       "4537          NaN        Bio  \n",
       "4538          NaN        Bio  \n",
       "4539          NaN        Bio  \n",
       "4540          NaN        Bio  \n",
       "\n",
       "[4541 rows x 47 columns]"
      ]
     },
     "execution_count": 21,
     "metadata": {},
     "output_type": "execute_result"
    }
   ],
   "source": [
    "data = cleaner(data, [\"Unnamed: 0\", \"Unnamed: 28\",\n",
    "               \"Unnamed: 29\", \"Unnamed: 30\"])\n",
    "\n",
    "#work on bautyp\n",
    "bautyp = data[[\"Mechan.\", \"Biolog.\", \"Chemisch\", \"Unbek.\"]]\n",
    "conditions_bau = [\n",
    "    data[\"Unbek.\"] == 1,\n",
    "    data[\"Mechan.\"] == 1,\n",
    "    data[\"Biolog.\"] == 1,\n",
    "    data[\"Chemisch\"] == 1,\n",
    "    (data[\"Biolog.\"] == 1) & (data[\"Mechan.\"] == 1)\n",
    "]\n",
    "\n",
    "outcomes_bau = [\n",
    "    \"Unbekannt\", \"Mech\", \"Bio\", \"Chem\", \"Bio\"\n",
    "]\n",
    "\n",
    "data = logical_column(conditions_bau, outcomes_bau, data, 'bautyp')\n",
    "data=col_dropper(data, bautyp)\n",
    "data\n",
    "\n",
    "#work on tech_type\n",
    "col_list = ['3-k', 'Bel.', 'SBR', 'MBR', 'Tropf', 'RBC', 'Fest', 'Wirbel', 'BKF', 'PKA', 'Filtersack',\n",
    "         'Kompost', 'Andere', 'Unbekannt']\n",
    "\n",
    "\n",
    "\n",
    "change_colname_index(9, data,col_list)"
   ]
  },
  {
   "cell_type": "code",
   "execution_count": 24,
   "metadata": {},
   "outputs": [
    {
     "data": {
      "text/plain": [
       "1142"
      ]
     },
     "execution_count": 24,
     "metadata": {},
     "output_type": "execute_result"
    }
   ],
   "source": [
    "len(data[data['Unbekannt']==1])"
   ]
  },
  {
   "cell_type": "code",
   "execution_count": 22,
   "metadata": {},
   "outputs": [
    {
     "data": {
      "text/plain": [
       "12763"
      ]
     },
     "execution_count": 22,
     "metadata": {},
     "output_type": "execute_result"
    }
   ],
   "source": [
    "#same as later\n",
    "data[data['Unbekannt']==1]['EW60_BEWILLIGT'].sum()"
   ]
  },
  {
   "cell_type": "code",
   "execution_count": 30,
   "metadata": {},
   "outputs": [
    {
     "data": {
      "text/plain": [
       "4112.0"
      ]
     },
     "execution_count": 30,
     "metadata": {},
     "output_type": "execute_result"
    }
   ],
   "source": [
    "data[data['Unbek']==1]['EW60_BEWILLIGT'].sum()"
   ]
  },
  {
   "cell_type": "code",
   "execution_count": 36,
   "metadata": {},
   "outputs": [],
   "source": [
    "d = r'C:/Users/fabrizio/Documents/R_data/PROJECTS/MASTER/DATA/KKA STMK NEU DE.xlsx'\n",
    "\n",
    "data_steyr, trial = reader(d, 'Data Stmk', header=18, test=False)\n",
    "data_steyr.dropna(how='all', axis=1,inplace=True)\n",
    "data_steyr=cleaner(data_steyr,['Unnamed: 0', 'ID','Typ','Subtyp','Gewässer','Unnamed: 7','lfd.Nr.'])\n"
   ]
  },
  {
   "cell_type": "code",
   "execution_count": 37,
   "metadata": {},
   "outputs": [
    {
     "data": {
      "text/plain": [
       "Index(['Name', 'Status', 'Gemeinde', 'KG', 'Berechtigter', 'Postzahl',\n",
       "       'Kläranlagen-Hauptsystem', 'Typbezeichnung der Anlage', 'EW', 'Jahr',\n",
       "       'Mechan.', 'Biolog', 'Andere', 'Unbek.', 'Mehr-kammer', 'Durchl.',\n",
       "       'SBR', 'MBR', 'Tropf', 'Tauch', 'Fest', 'PKA', 'BKF'],\n",
       "      dtype='object')"
      ]
     },
     "execution_count": 37,
     "metadata": {},
     "output_type": "execute_result"
    }
   ],
   "source": [
    "data_steyr.columns"
   ]
  },
  {
   "cell_type": "code",
   "execution_count": 39,
   "metadata": {},
   "outputs": [
    {
     "data": {
      "text/plain": [
       "236"
      ]
     },
     "execution_count": 39,
     "metadata": {},
     "output_type": "execute_result"
    }
   ],
   "source": [
    "len(data_steyr[data_steyr['Unbek.']==1])"
   ]
  },
  {
   "cell_type": "code",
   "execution_count": 50,
   "metadata": {},
   "outputs": [],
   "source": [
    "data_steyr=data_steyr.fillna(0)\n",
    "data_steyr.EW.replace(' ',0, inplace=True)  #about 1000 rows are 0 for column PE\n",
    "data_steyr.EW=data_steyr.EW.astype(int)\n",
    "\n"
   ]
  },
  {
   "cell_type": "code",
   "execution_count": 51,
   "metadata": {},
   "outputs": [
    {
     "data": {
      "text/plain": [
       "90558"
      ]
     },
     "execution_count": 51,
     "metadata": {},
     "output_type": "execute_result"
    }
   ],
   "source": [
    "data_steyr.EW.sum()"
   ]
  },
  {
   "cell_type": "code",
   "execution_count": 53,
   "metadata": {},
   "outputs": [
    {
     "data": {
      "text/plain": [
       "132"
      ]
     },
     "execution_count": 53,
     "metadata": {},
     "output_type": "execute_result"
    }
   ],
   "source": [
    "data_steyr[data_steyr['Unbek.']==1].EW.sum()"
   ]
  },
  {
   "cell_type": "markdown",
   "metadata": {},
   "source": [
    "# smae here using KKA sheet\n"
   ]
  },
  {
   "cell_type": "markdown",
   "metadata": {},
   "source": [
    "# investigate tech type!"
   ]
  },
  {
   "cell_type": "markdown",
   "metadata": {},
   "source": [
    "# worse categories :\n",
    "    > unkown\n",
    "    > lower austria in general\n",
    "    > Vorarlberg mechanisch and Bel."
   ]
  },
  {
   "cell_type": "markdown",
   "metadata": {},
   "source": [
    "# start from biggest : unknown Lowe-Austria"
   ]
  },
  {
   "cell_type": "markdown",
   "metadata": {},
   "source": [
    "## demonstarted that :\n",
    "    > in excel  (up to 500 PE) 1290 rows are marked unknown. corresponding to 38112 PE\n",
    "    > in excel (up to 50 PE ) 1142  rows are marked unknwon. corresponding to 12763 PE \n"
   ]
  },
  {
   "cell_type": "markdown",
   "metadata": {},
   "source": [
    "# hypothesis\n",
    "    > for control source the column Unbek instead of Unbekannt was used. Unbek refers to the activity of the WWTPS (in betrieb, stillgelegt, unbek). \n",
    "    > sum of PE marked as Unbek is 4112. way more similar than other value"
   ]
  },
  {
   "cell_type": "code",
   "execution_count": 32,
   "metadata": {},
   "outputs": [
    {
     "data": {
      "text/plain": [
       "4112.0"
      ]
     },
     "execution_count": 32,
     "metadata": {},
     "output_type": "execute_result"
    }
   ],
   "source": [
    "data[data['Unbek']==1]['EW60_BEWILLIGT'].sum()"
   ]
  },
  {
   "cell_type": "markdown",
   "metadata": {},
   "source": [
    "# Steyr\n",
    "## most of WWTPs marked as unknown dont have PEs. means unknown PEs are way more than calculated.\n",
    "    > i checked tech_type per freq: steyr was nearly perfect !! \n",
    "    > did gunther use another source for his work ???\n"
   ]
  },
  {
   "cell_type": "markdown",
   "metadata": {},
   "source": [
    "# VBG\n",
    "# checked that my results are confirmed in excel :\n",
    "    > VBG mechanic in excel KKA are 59 and not 138.\n",
    "    > there are no unknown in VBG KKA. \n",
    "    > "
   ]
  },
  {
   "cell_type": "code",
   "execution_count": null,
   "metadata": {},
   "outputs": [],
   "source": []
  },
  {
   "cell_type": "code",
   "execution_count": 3,
   "metadata": {},
   "outputs": [],
   "source": [
    "data=geopandas.read_file('final/SBG.geojson')"
   ]
  },
  {
   "cell_type": "code",
   "execution_count": 4,
   "metadata": {},
   "outputs": [
    {
     "data": {
      "text/plain": [
       "<AxesSubplot:>"
      ]
     },
     "execution_count": 4,
     "metadata": {},
     "output_type": "execute_result"
    },
    {
     "data": {
      "image/png": "[encoded data removed]",
      "text/plain": [
       "<Figure size 432x288 with 1 Axes>"
      ]
     },
     "metadata": {
      "needs_background": "light"
     },
     "output_type": "display_data"
    }
   ],
   "source": [
    "data.plot()"
   ]
  }
 ],
 "metadata": {
  "interpreter": {
   "hash": "d4a4f80f0852bbaf4e4f090cf7fb2ba0e283c9764699a540eedc0c1ab340cdd7"
  },
  "kernelspec": {
   "display_name": "Python 3.8.11 64-bit ('geo': conda)",
   "language": "python",
   "name": "python3"
  },
  "language_info": {
   "codemirror_mode": {
    "name": "ipython",
    "version": 3
   },
   "file_extension": ".py",
   "mimetype": "text/x-python",
   "name": "python",
   "nbconvert_exporter": "python",
   "pygments_lexer": "ipython3",
   "version": "3.8.11"
  },
  "orig_nbformat": 4
 },
 "nbformat": 4,
 "nbformat_minor": 2
}
