{
 "cells": [
  {
   "cell_type": "markdown",
   "metadata": {},
   "source": [
    "# answer question originated from unifying process"
   ]
  },
  {
   "cell_type": "code",
   "execution_count": null,
   "metadata": {},
   "outputs": [],
   "source": [
    "import pandas as pd\n",
    "import numpy as np\n",
    "import geopandas\n",
    "import matplotlib.pyplot as plt\n",
    "from pandas.io.parsers import read_csv\n",
    "from gis_functions import *\n",
    "\n"
   ]
  },
  {
   "cell_type": "markdown",
   "metadata": {},
   "source": [
    "# check original PE\n",
    "## compare original data with half-way"
   ]
  },
  {
   "cell_type": "code",
   "execution_count": 7,
   "metadata": {},
   "outputs": [
    {
     "data": {
      "text/plain": [
       "101207.22648401826"
      ]
     },
     "execution_count": 7,
     "metadata": {},
     "output_type": "execute_result"
    }
   ],
   "source": [
    "# why has karn so much Pe in plus?\n",
    "import functions\n",
    "d = r'C:/Users/fabrizio/Documents/R_data/PROJECTS/MASTER/DATA/KKA Kärnten NEU.xlsx'\n",
    "\n",
    "data, trial = functions.reader(d, 'Data K', header=15, test=False)\n",
    "data['EW 60']=data['EW 60'].replace('?', 0)\n",
    "data['EW 60']=data['EW 60'].astype(str)\n",
    "data.loc[data['EW 60'].str.contains('Bew'), 'EW 60']='0'\n",
    "data.loc[data['EW 60'].str.contains('Bescheid'), 'EW 60']='0'\n",
    "data.loc[data['EW 60'].str.contains('m³'), 'EW 60']='0'\n",
    "data.loc[data['EW 60'].str.contains('Liter'), 'EW 60']='0'\n",
    "data.loc[data['EW 60'].str.contains('nan'), 'EW 60']='0'\n",
    "\n",
    "#perfect match. carintia had from beginning so many PEs\n",
    "data['EW 60'].astype(float).sum()"
   ]
  },
  {
   "cell_type": "code",
   "execution_count": 8,
   "metadata": {},
   "outputs": [],
   "source": [
    "#check original PE for LowerA\n",
    "d = r'C:/Users/fabrizio/Documents/R_data/PROJECTS/MASTER/DATA/KKA NÖ NEU DE final.xlsx'\n",
    "data, trial = functions.reader(d, 'Data NÖ (Technol)', header=5, test=False)\n",
    "\n",
    "#again, perfect match\n",
    "data['EW60_BEWILLIGT'].astype(float).sum()"
   ]
  },
  {
   "cell_type": "markdown",
   "metadata": {},
   "source": [
    "# check the unmerged \n",
    "## why some rows have not been merged?"
   ]
  },
  {
   "cell_type": "code",
   "execution_count": null,
   "metadata": {},
   "outputs": [],
   "source": [
    "# check the not merged of KArn\n",
    "data=pd.read_excel('final/not_merged_karn.xlsx')"
   ]
  },
  {
   "cell_type": "code",
   "execution_count": null,
   "metadata": {},
   "outputs": [],
   "source": [
    "#zoom on merge key\n",
    "data.loc[:,['KG', 'KG_NR']]\n",
    "#one KG , and the rest is 0 that used to be NAs\n",
    "#OK, differenced between half-way and final are explained"
   ]
  },
  {
   "cell_type": "code",
   "execution_count": null,
   "metadata": {},
   "outputs": [],
   "source": [
    "#all 0 except one\n",
    "data=pd.read_excel('final/not_merged_sbg.xlsx')\n",
    "data.loc[:,['KG', 'KG_NR']]\n"
   ]
  }
 ],
 "metadata": {
  "interpreter": {
   "hash": "d4a4f80f0852bbaf4e4f090cf7fb2ba0e283c9764699a540eedc0c1ab340cdd7"
  },
  "kernelspec": {
   "display_name": "Python 3.8.11 64-bit ('geo': conda)",
   "language": "python",
   "name": "python3"
  },
  "language_info": {
   "codemirror_mode": {
    "name": "ipython",
    "version": 3
   },
   "file_extension": ".py",
   "mimetype": "text/x-python",
   "name": "python",
   "nbconvert_exporter": "python",
   "pygments_lexer": "ipython3",
   "version": "3.8.11"
  },
  "orig_nbformat": 4
 },
 "nbformat": 4,
 "nbformat_minor": 2
}
