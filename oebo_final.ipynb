#import data and packages
import geopandas
import pandas as pd
import matplotlib.pyplot as plt
from gis_functions import *

csvfile=r'C:\Users\fabrizio\Documents\repos\MSC\output/oebo.csv'
gdf=csv_to_gdf(csvfile)

joined=sjoin(gdf)

joined.plot()
plt.show()