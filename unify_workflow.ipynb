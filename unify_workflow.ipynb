{
 "cells": [
  {
   "cell_type": "markdown",
   "metadata": {},
   "source": [
    "# MAIN FILE : run everything, concat, and save unified geojson\n",
    "#could add concat and save of half-way files"
   ]
  },
  {
   "cell_type": "code",
   "execution_count": 6,
   "metadata": {},
   "outputs": [],
   "source": [
    "import pandas as pd\n",
    "import numpy as np\n",
    "import geopandas\n",
    "import matplotlib.pyplot as plt\n",
    "from gis_functions import *"
   ]
  },
  {
   "cell_type": "code",
   "execution_count": 7,
   "metadata": {},
   "outputs": [
    {
     "name": "stdout",
     "output_type": "stream",
     "text": [
      "perfect merge\n",
      "\n"
     ]
    },
    {
     "name": "stderr",
     "output_type": "stream",
     "text": [
      "c:\\Users\\fabrizio\\anaconda3\\envs\\geo\\lib\\site-packages\\geopandas\\geodataframe.py:1322: SettingWithCopyWarning: \n",
      "A value is trying to be set on a copy of a slice from a DataFrame.\n",
      "Try using .loc[row_indexer,col_indexer] = value instead\n",
      "\n",
      "See the caveats in the documentation: https://pandas.pydata.org/pandas-docs/stable/user_guide/indexing.html#returning-a-view-versus-a-copy\n",
      "  super(GeoDataFrame, self).__setitem__(key, value)\n"
     ]
    },
    {
     "name": "stdout",
     "output_type": "stream",
     "text": [
      "True    267\n",
      "dtype: int64\n",
      "perfect merge\n",
      "\n"
     ]
    }
   ],
   "source": [
    "%run -i \"tirol_workflow.py\""
   ]
  },
  {
   "cell_type": "code",
   "execution_count": 8,
   "metadata": {},
   "outputs": [
    {
     "name": "stdout",
     "output_type": "stream",
     "text": [
      "not all rows have been merged\n",
      "\n",
      "True    287\n",
      "dtype: int64\n",
      "perfect merge\n",
      "\n"
     ]
    }
   ],
   "source": [
    "%run -i \"sbg_workflow.py\""
   ]
  },
  {
   "cell_type": "code",
   "execution_count": 9,
   "metadata": {},
   "outputs": [
    {
     "name": "stdout",
     "output_type": "stream",
     "text": [
      "2780\n",
      "0\n"
     ]
    },
    {
     "name": "stderr",
     "output_type": "stream",
     "text": [
      "c:\\Users\\fabrizio\\Documents\\repos\\MSC\\oebo_workflow.py:86: UserWarning: Column names longer than 10 characters will be truncated when saved to ESRI Shapefile.\n",
      "  gdf.to_file('half-way/oebo.shp')\n"
     ]
    },
    {
     "name": "stdout",
     "output_type": "stream",
     "text": [
      "joining dataframes...\n",
      "perfect merge\n",
      "done\n"
     ]
    },
    {
     "name": "stderr",
     "output_type": "stream",
     "text": [
      "c:\\Users\\fabrizio\\anaconda3\\envs\\geo\\lib\\site-packages\\geopandas\\geodataframe.py:1322: SettingWithCopyWarning: \n",
      "A value is trying to be set on a copy of a slice from a DataFrame.\n",
      "Try using .loc[row_indexer,col_indexer] = value instead\n",
      "\n",
      "See the caveats in the documentation: https://pandas.pydata.org/pandas-docs/stable/user_guide/indexing.html#returning-a-view-versus-a-copy\n",
      "  super(GeoDataFrame, self).__setitem__(key, value)\n",
      "c:\\Users\\fabrizio\\anaconda3\\envs\\geo\\lib\\site-packages\\geopandas\\geodataframe.py:1322: SettingWithCopyWarning: \n",
      "A value is trying to be set on a copy of a slice from a DataFrame.\n",
      "Try using .loc[row_indexer,col_indexer] = value instead\n",
      "\n",
      "See the caveats in the documentation: https://pandas.pydata.org/pandas-docs/stable/user_guide/indexing.html#returning-a-view-versus-a-copy\n",
      "  super(GeoDataFrame, self).__setitem__(key, value)\n"
     ]
    },
    {
     "name": "stdout",
     "output_type": "stream",
     "text": [
      "     KG_NR  freq_small  REINIGUNG MECHANISCH_small  C-ENTFERNUNG_small  \\\n",
      "0    40001         2.0                         2.0                 2.0   \n",
      "1    40008         5.0                         5.0                 5.0   \n",
      "2    40010         1.0                         1.0                 1.0   \n",
      "3    40013         2.0                         2.0                 2.0   \n",
      "4    40014         3.0                         2.0                 3.0   \n",
      "..     ...         ...                         ...                 ...   \n",
      "652  45616         NaN                         NaN                 NaN   \n",
      "653  46112         NaN                         NaN                 NaN   \n",
      "654  46142         NaN                         NaN                 NaN   \n",
      "655  47316         NaN                         NaN                 NaN   \n",
      "656  50201         NaN                         NaN                 NaN   \n",
      "\n",
      "     NITRIFIZIERUNG_small  N-ENTFERNUNG_small  P-ENTFERNUNG_small  \\\n",
      "0                     1.0                 0.0                 0.0   \n",
      "1                     5.0                 0.0                 0.0   \n",
      "2                     1.0                 0.0                 0.0   \n",
      "3                     2.0                 0.0                 0.0   \n",
      "4                     3.0                 0.0                 0.0   \n",
      "..                    ...                 ...                 ...   \n",
      "652                   NaN                 NaN                 NaN   \n",
      "653                   NaN                 NaN                 NaN   \n",
      "654                   NaN                 NaN                 NaN   \n",
      "655                   NaN                 NaN                 NaN   \n",
      "656                   NaN                 NaN                 NaN   \n",
      "\n",
      "     before_reg_small  sum_PE_small  sum_TM(t)_small  ...  \\\n",
      "0                 1.0           8.0         0.133015  ...   \n",
      "1                 0.0          30.0         0.546030  ...   \n",
      "2                 0.0           8.0         0.106030  ...   \n",
      "3                 0.0          10.0         0.142313  ...   \n",
      "4                 0.0          42.0         0.539449  ...   \n",
      "..                ...           ...              ...  ...   \n",
      "652               NaN           NaN              NaN  ...   \n",
      "653               NaN           NaN              NaN  ...   \n",
      "654               NaN           NaN              NaN  ...   \n",
      "655               NaN           NaN              NaN  ...   \n",
      "656               NaN           NaN              NaN  ...   \n",
      "\n",
      "     REINIGUNG MECHANISCH_medium  C-ENTFERNUNG_medium  NITRIFIZIERUNG_medium  \\\n",
      "0                            NaN                  NaN                    NaN   \n",
      "1                            NaN                  NaN                    NaN   \n",
      "2                            NaN                  NaN                    NaN   \n",
      "3                            NaN                  NaN                    NaN   \n",
      "4                            NaN                  NaN                    NaN   \n",
      "..                           ...                  ...                    ...   \n",
      "652                          0.0                  1.0                    1.0   \n",
      "653                          1.0                  1.0                    1.0   \n",
      "654                          0.0                  1.0                    1.0   \n",
      "655                          0.0                  1.0                    1.0   \n",
      "656                          0.0                  1.0                    1.0   \n",
      "\n",
      "     N-ENTFERNUNG_medium  P-ENTFERNUNG_medium  before_reg_medium  \\\n",
      "0                    NaN                  NaN                NaN   \n",
      "1                    NaN                  NaN                NaN   \n",
      "2                    NaN                  NaN                NaN   \n",
      "3                    NaN                  NaN                NaN   \n",
      "4                    NaN                  NaN                NaN   \n",
      "..                   ...                  ...                ...   \n",
      "652                  0.0                  0.0                0.0   \n",
      "653                  0.0                  0.0                0.0   \n",
      "654                  0.0                  0.0                0.0   \n",
      "655                  0.0                  0.0                0.0   \n",
      "656                  0.0                  0.0                0.0   \n",
      "\n",
      "     sum_PE_medium  sum_TM(t)_medium  mean_year_medium  PE_nonitri_medium  \n",
      "0              NaN               NaN               NaN                NaN  \n",
      "1              NaN               NaN               NaN                NaN  \n",
      "2              NaN               NaN               NaN                NaN  \n",
      "3              NaN               NaN               NaN                NaN  \n",
      "4              NaN               NaN               NaN                NaN  \n",
      "..             ...               ...               ...                ...  \n",
      "652           50.0          0.000000            2006.0                0.0  \n",
      "653           50.0          0.000000            2008.0                0.0  \n",
      "654           70.0          0.726988            2002.0                0.0  \n",
      "655           50.0          0.000000            2009.0                0.0  \n",
      "656           80.0          0.830843            2007.0                0.0  \n",
      "\n",
      "[657 rows x 23 columns]\n",
      "Index(['KG_NR', 'freq_small', 'REINIGUNG MECHANISCH_small',\n",
      "       'C-ENTFERNUNG_small', 'NITRIFIZIERUNG_small', 'N-ENTFERNUNG_small',\n",
      "       'P-ENTFERNUNG_small', 'before_reg_small', 'sum_PE_small',\n",
      "       'sum_TM(t)_small', 'mean_year_small', 'PE_nonitri_small', 'freq_medium',\n",
      "       'REINIGUNG MECHANISCH_medium', 'C-ENTFERNUNG_medium',\n",
      "       'NITRIFIZIERUNG_medium', 'N-ENTFERNUNG_medium', 'P-ENTFERNUNG_medium',\n",
      "       'before_reg_medium', 'sum_PE_medium', 'sum_TM(t)_medium',\n",
      "       'mean_year_medium', 'PE_nonitri_medium'],\n",
      "      dtype='object')\n",
      "     KG_NR  freq_small  REINIGUNG MECHANISCH_small  C-ENTFERNUNG_small  \\\n",
      "0    40001         2.0                         2.0                 2.0   \n",
      "1    40008         5.0                         5.0                 5.0   \n",
      "2    40010         1.0                         1.0                 1.0   \n",
      "3    40013         2.0                         2.0                 2.0   \n",
      "4    40014         3.0                         2.0                 3.0   \n",
      "..     ...         ...                         ...                 ...   \n",
      "652  45616         0.0                         0.0                 0.0   \n",
      "653  46112         0.0                         0.0                 0.0   \n",
      "654  46142         0.0                         0.0                 0.0   \n",
      "655  47316         0.0                         0.0                 0.0   \n",
      "656  50201         0.0                         0.0                 0.0   \n",
      "\n",
      "     NITRIFIZIERUNG_small  N-ENTFERNUNG_small  P-ENTFERNUNG_small  \\\n",
      "0                     1.0                 0.0                 0.0   \n",
      "1                     5.0                 0.0                 0.0   \n",
      "2                     1.0                 0.0                 0.0   \n",
      "3                     2.0                 0.0                 0.0   \n",
      "4                     3.0                 0.0                 0.0   \n",
      "..                    ...                 ...                 ...   \n",
      "652                   0.0                 0.0                 0.0   \n",
      "653                   0.0                 0.0                 0.0   \n",
      "654                   0.0                 0.0                 0.0   \n",
      "655                   0.0                 0.0                 0.0   \n",
      "656                   0.0                 0.0                 0.0   \n",
      "\n",
      "     before_reg_small  sum_PE_small  sum_TM(t)_small  ...  before_reg_medium  \\\n",
      "0                 1.0           8.0         0.133015  ...                0.0   \n",
      "1                 0.0          30.0         0.546030  ...                0.0   \n",
      "2                 0.0           8.0         0.106030  ...                0.0   \n",
      "3                 0.0          10.0         0.142313  ...                0.0   \n",
      "4                 0.0          42.0         0.539449  ...                0.0   \n",
      "..                ...           ...              ...  ...                ...   \n",
      "652               0.0           0.0         0.000000  ...                0.0   \n",
      "653               0.0           0.0         0.000000  ...                0.0   \n",
      "654               0.0           0.0         0.000000  ...                0.0   \n",
      "655               0.0           0.0         0.000000  ...                0.0   \n",
      "656               0.0           0.0         0.000000  ...                0.0   \n",
      "\n",
      "     sum_PE_medium  sum_TM(t)_medium  mean_year_medium  PE_nonitri_medium  \\\n",
      "0              0.0          0.000000               0.0                0.0   \n",
      "1              0.0          0.000000               0.0                0.0   \n",
      "2              0.0          0.000000               0.0                0.0   \n",
      "3              0.0          0.000000               0.0                0.0   \n",
      "4              0.0          0.000000               0.0                0.0   \n",
      "..             ...               ...               ...                ...   \n",
      "652           50.0          0.000000            2006.0                0.0   \n",
      "653           50.0          0.000000            2008.0                0.0   \n",
      "654           70.0          0.726988            2002.0                0.0   \n",
      "655           50.0          0.000000            2009.0                0.0   \n",
      "656           80.0          0.830843            2007.0                0.0   \n",
      "\n",
      "     freq_tot  sum_PE_tot  nitri_tot  no_nitri_tot  PE_nonitri_tot  \n",
      "0         2.0         8.0        1.0           1.0             4.0  \n",
      "1         5.0        30.0        5.0           0.0             0.0  \n",
      "2         1.0         8.0        1.0           0.0             0.0  \n",
      "3         2.0        10.0        2.0           0.0             0.0  \n",
      "4         3.0        42.0        3.0           0.0             0.0  \n",
      "..        ...         ...        ...           ...             ...  \n",
      "652       1.0        50.0        1.0           0.0             0.0  \n",
      "653       1.0        50.0        1.0           0.0             0.0  \n",
      "654       1.0        70.0        1.0           0.0             0.0  \n",
      "655       1.0        50.0        1.0           0.0             0.0  \n",
      "656       1.0        80.0        1.0           0.0             0.0  \n",
      "\n",
      "[657 rows x 28 columns]\n",
      "Index(['KG_NR', 'freq_small', 'REINIGUNG MECHANISCH_small',\n",
      "       'C-ENTFERNUNG_small', 'NITRIFIZIERUNG_small', 'N-ENTFERNUNG_small',\n",
      "       'P-ENTFERNUNG_small', 'before_reg_small', 'sum_PE_small',\n",
      "       'sum_TM(t)_small', 'mean_year_small', 'PE_nonitri_small', 'freq_medium',\n",
      "       'REINIGUNG MECHANISCH_medium', 'C-ENTFERNUNG_medium',\n",
      "       'NITRIFIZIERUNG_medium', 'N-ENTFERNUNG_medium', 'P-ENTFERNUNG_medium',\n",
      "       'before_reg_medium', 'sum_PE_medium', 'sum_TM(t)_medium',\n",
      "       'mean_year_medium', 'PE_nonitri_medium', 'freq_tot', 'sum_PE_tot',\n",
      "       'nitri_tot', 'no_nitri_tot', 'PE_nonitri_tot'],\n",
      "      dtype='object')\n",
      "True    657\n",
      "dtype: int64\n",
      "     MERIDIAN    GKZ  BKZ  FA_NR  BL_KZ  ST_KZ        FL  KG_NR  \\\n",
      "0          31  41513  415     51      4      1   5167668  51006   \n",
      "1          31  40511  405     54      4      1  10818321  45027   \n",
      "2          31  41748  417     53      4      1  12997157  50010   \n",
      "3          31  41606  416     52      4      1   4889238  45616   \n",
      "4          31  41008  410     46      4      1   6478195  45320   \n",
      "..        ...    ...  ...    ...    ...    ...       ...    ...   \n",
      "652        31  41120  411     51      4      1   7118291  43111   \n",
      "653        31  40405  404     41      4      1  19633157  40207   \n",
      "654        31  40710  407     53      4      1   5352984  42124   \n",
      "655        31  41212  412     41      4      1   6810967  46017   \n",
      "656        31  41104  411     51      4      1  11901744  43004   \n",
      "\n",
      "                           KG                         PG  ... no_nitri_small  \\\n",
      "0                    Fierling           Rohr im Kremstal  ...            0.0   \n",
      "1                    Scharten                   Scharten  ...            1.0   \n",
      "2                 Freudenthal  Weißenkirchen im Attergau  ...            0.0   \n",
      "3                  Mühllacken   Feldkirchen an der Donau  ...            0.0   \n",
      "4                Harmannsdorf   Hofkirchen im Traunkreis  ...            1.0   \n",
      "..                        ...                        ...  ...            ...   \n",
      "652  St. Georgen an der Gusen   St. Georgen an der Gusen  ...            0.0   \n",
      "653                  Hartberg                Burgkirchen  ...            0.0   \n",
      "654                Kampesberg                   Kirchham  ...            0.0   \n",
      "655                  Kramberg                Lambrechten  ...            1.0   \n",
      "656                    Gassen                    Dimbach  ...            0.0   \n",
      "\n",
      "    no_nitri_medium %nitri_small %nitri_medium %no_nitri_small  \\\n",
      "0               0.0        100.0           NaN             0.0   \n",
      "1               0.0         50.0           NaN            50.0   \n",
      "2               0.0        100.0           NaN             0.0   \n",
      "3               0.0          NaN         100.0             NaN   \n",
      "4               0.0         50.0           NaN            50.0   \n",
      "..              ...          ...           ...             ...   \n",
      "652             0.0        100.0           NaN             0.0   \n",
      "653             0.0        100.0           NaN             0.0   \n",
      "654             0.0        100.0           NaN             0.0   \n",
      "655             0.0         50.0           NaN            50.0   \n",
      "656             0.0        100.0           NaN             0.0   \n",
      "\n",
      "    %no_nitri_medium %no_nitri_tot %PE_nonitri_small %PE_nonitri_medium  \\\n",
      "0                NaN           0.0          0.000000                NaN   \n",
      "1                NaN          50.0         44.444444                NaN   \n",
      "2                NaN           0.0          0.000000                NaN   \n",
      "3                0.0           0.0               NaN                0.0   \n",
      "4                NaN          50.0         40.000000                NaN   \n",
      "..               ...           ...               ...                ...   \n",
      "652              NaN           0.0          0.000000                NaN   \n",
      "653              NaN           0.0          0.000000                NaN   \n",
      "654              NaN           0.0          0.000000                NaN   \n",
      "655              NaN          50.0         54.545455                NaN   \n",
      "656              NaN           0.0          0.000000                NaN   \n",
      "\n",
      "     %PE_nonitri_tot  \n",
      "0           0.000000  \n",
      "1          44.444444  \n",
      "2           0.000000  \n",
      "3           0.000000  \n",
      "4          40.000000  \n",
      "..               ...  \n",
      "652         0.000000  \n",
      "653         0.000000  \n",
      "654         0.000000  \n",
      "655        54.545455  \n",
      "656         0.000000  \n",
      "\n",
      "[657 rows x 56 columns]\n",
      "Index(['MERIDIAN', 'GKZ', 'BKZ', 'FA_NR', 'BL_KZ', 'ST_KZ', 'FL', 'KG_NR',\n",
      "       'KG', 'PG', 'PB', 'FA', 'GB_KZ', 'GB', 'VA_NR', 'VA', 'BL', 'ST',\n",
      "       'geometry', 'freq_small', 'REINIGUNG MECHANISCH_small',\n",
      "       'C-ENTFERNUNG_small', 'NITRIFIZIERUNG_small', 'N-ENTFERNUNG_small',\n",
      "       'P-ENTFERNUNG_small', 'before_reg_small', 'sum_PE_small',\n",
      "       'sum_TM(t)_small', 'mean_year_small', 'PE_nonitri_small', 'freq_medium',\n",
      "       'REINIGUNG MECHANISCH_medium', 'C-ENTFERNUNG_medium',\n",
      "       'NITRIFIZIERUNG_medium', 'N-ENTFERNUNG_medium', 'P-ENTFERNUNG_medium',\n",
      "       'before_reg_medium', 'sum_PE_medium', 'sum_TM(t)_medium',\n",
      "       'mean_year_medium', 'PE_nonitri_medium', 'freq_tot', 'sum_PE_tot',\n",
      "       'nitri_tot', 'no_nitri_tot', 'PE_nonitri_tot', 'no_nitri_small',\n",
      "       'no_nitri_medium', '%nitri_small', '%nitri_medium', '%no_nitri_small',\n",
      "       '%no_nitri_medium', '%no_nitri_tot', '%PE_nonitri_small',\n",
      "       '%PE_nonitri_medium', '%PE_nonitri_tot'],\n",
      "      dtype='object')\n"
     ]
    }
   ],
   "source": [
    "%run -i \"oebo_workflow.py\""
   ]
  },
  {
   "cell_type": "code",
   "execution_count": 10,
   "metadata": {},
   "outputs": [
    {
     "name": "stdout",
     "output_type": "stream",
     "text": [
      "\n",
      "          RESULT OF LOGICAL CHECK: WHICH ROWS HAVE ONLY ONE CATEGORY?\n",
      "True     5028\n",
      "False       1\n",
      "dtype: int64\n",
      "joining dataframes...\n",
      "not all rows have been merged\n",
      "705\n",
      "done\n"
     ]
    },
    {
     "name": "stderr",
     "output_type": "stream",
     "text": [
      "c:\\Users\\fabrizio\\anaconda3\\envs\\geo\\lib\\site-packages\\pandas\\core\\frame.py:5039: SettingWithCopyWarning: \n",
      "A value is trying to be set on a copy of a slice from a DataFrame\n",
      "\n",
      "See the caveats in the documentation: https://pandas.pydata.org/pandas-docs/stable/user_guide/indexing.html#returning-a-view-versus-a-copy\n",
      "  return super().rename(\n",
      "c:\\Users\\fabrizio\\anaconda3\\envs\\geo\\lib\\site-packages\\geopandas\\geodataframe.py:1322: SettingWithCopyWarning: \n",
      "A value is trying to be set on a copy of a slice from a DataFrame.\n",
      "Try using .loc[row_indexer,col_indexer] = value instead\n",
      "\n",
      "See the caveats in the documentation: https://pandas.pydata.org/pandas-docs/stable/user_guide/indexing.html#returning-a-view-versus-a-copy\n",
      "  super(GeoDataFrame, self).__setitem__(key, value)\n"
     ]
    },
    {
     "name": "stdout",
     "output_type": "stream",
     "text": [
      "True    1235\n",
      "dtype: int64\n",
      "perfect merge\n",
      "\n"
     ]
    }
   ],
   "source": [
    "%run -i \"noe_workflow.py\""
   ]
  },
  {
   "cell_type": "code",
   "execution_count": 11,
   "metadata": {},
   "outputs": [
    {
     "name": "stdout",
     "output_type": "stream",
     "text": [
      "not all rows have been merged\n",
      "\n",
      "True    673\n",
      "dtype: int64\n",
      "perfect merge\n",
      "\n"
     ]
    }
   ],
   "source": [
    "%run -i \"karn_workflow.py\""
   ]
  },
  {
   "cell_type": "code",
   "execution_count": 12,
   "metadata": {},
   "outputs": [
    {
     "name": "stdout",
     "output_type": "stream",
     "text": [
      "not all rows have been merged\n",
      "\n",
      "True    1250\n",
      "dtype: int64\n",
      "perfect merge\n",
      "\n"
     ]
    }
   ],
   "source": [
    "%run -i \"steyr_workflow.py\""
   ]
  },
  {
   "cell_type": "code",
   "execution_count": 13,
   "metadata": {},
   "outputs": [],
   "source": [
    "steyr=geopandas.read_file('final/steyr.geojson')\n",
    "karn=geopandas.read_file('final/karn.geojson')\n",
    "tirol=geopandas.read_file('final/tirol.geojson')\n",
    "oebo=geopandas.read_file('final/oebo.geojson')\n",
    "sbg=geopandas.read_file('final/sbg.geojson')\n",
    "noe=geopandas.read_file('final/noe.geojson')\n"
   ]
  },
  {
   "cell_type": "code",
   "execution_count": 14,
   "metadata": {},
   "outputs": [],
   "source": [
    "oebo=geopandas.read_file('final/oebo.geojson')\n"
   ]
  },
  {
   "cell_type": "code",
   "execution_count": 15,
   "metadata": {},
   "outputs": [],
   "source": [
    "files=[steyr,noe,oebo,tirol,sbg,karn]"
   ]
  },
  {
   "cell_type": "code",
   "execution_count": 16,
   "metadata": {},
   "outputs": [],
   "source": [
    "cols=['BL','KG','GKZ','freq_small','freq_medium','freq_tot','no_nitri_small',\n",
    "'no_nitri_medium','no_nitri_tot','sum_PE_small','sum_PE_medium', 'sum_PE_tot','PE_nonitri_small',\n",
    "'PE_nonitri_medium','PE_nonitri_tot','%PE_nonitri_small','%PE_nonitri_medium','%PE_nonitri_tot', '%no_nitri_small','%no_nitri_medium','%no_nitri_tot' ,'geometry']"
   ]
  },
  {
   "cell_type": "code",
   "execution_count": 17,
   "metadata": {},
   "outputs": [],
   "source": [
    "steyr=steyr.loc[:,cols]\n",
    "karn=karn.loc[:,cols]\n",
    "tirol=tirol.loc[:,cols]\n",
    "oebo=oebo.loc[:,cols]\n",
    "sbg=sbg.loc[:,cols]\n",
    "noe=noe.loc[:,cols]\n",
    "files=[steyr,karn, tirol,sbg,noe,oebo] "
   ]
  },
  {
   "cell_type": "code",
   "execution_count": 18,
   "metadata": {},
   "outputs": [
    {
     "name": "stdout",
     "output_type": "stream",
     "text": [
      "Index(['BL', 'KG', 'GKZ', 'freq_small', 'freq_medium', 'freq_tot',\n",
      "       'no_nitri_small', 'no_nitri_medium', 'no_nitri_tot', 'sum_PE_small',\n",
      "       'sum_PE_medium', 'sum_PE_tot', 'PE_nonitri_small', 'PE_nonitri_medium',\n",
      "       'PE_nonitri_tot', '%PE_nonitri_small', '%PE_nonitri_medium',\n",
      "       '%PE_nonitri_tot', '%no_nitri_small', '%no_nitri_medium',\n",
      "       '%no_nitri_tot', 'geometry'],\n",
      "      dtype='object')\n",
      "Index(['BL', 'KG', 'GKZ', 'freq_small', 'freq_medium', 'freq_tot',\n",
      "       'no_nitri_small', 'no_nitri_medium', 'no_nitri_tot', 'sum_PE_small',\n",
      "       'sum_PE_medium', 'sum_PE_tot', 'PE_nonitri_small', 'PE_nonitri_medium',\n",
      "       'PE_nonitri_tot', '%PE_nonitri_small', '%PE_nonitri_medium',\n",
      "       '%PE_nonitri_tot', '%no_nitri_small', '%no_nitri_medium',\n",
      "       '%no_nitri_tot', 'geometry'],\n",
      "      dtype='object')\n",
      "Index(['BL', 'KG', 'GKZ', 'freq_small', 'freq_medium', 'freq_tot',\n",
      "       'no_nitri_small', 'no_nitri_medium', 'no_nitri_tot', 'sum_PE_small',\n",
      "       'sum_PE_medium', 'sum_PE_tot', 'PE_nonitri_small', 'PE_nonitri_medium',\n",
      "       'PE_nonitri_tot', '%PE_nonitri_small', '%PE_nonitri_medium',\n",
      "       '%PE_nonitri_tot', '%no_nitri_small', '%no_nitri_medium',\n",
      "       '%no_nitri_tot', 'geometry'],\n",
      "      dtype='object')\n",
      "Index(['BL', 'KG', 'GKZ', 'freq_small', 'freq_medium', 'freq_tot',\n",
      "       'no_nitri_small', 'no_nitri_medium', 'no_nitri_tot', 'sum_PE_small',\n",
      "       'sum_PE_medium', 'sum_PE_tot', 'PE_nonitri_small', 'PE_nonitri_medium',\n",
      "       'PE_nonitri_tot', '%PE_nonitri_small', '%PE_nonitri_medium',\n",
      "       '%PE_nonitri_tot', '%no_nitri_small', '%no_nitri_medium',\n",
      "       '%no_nitri_tot', 'geometry'],\n",
      "      dtype='object')\n",
      "Index(['BL', 'KG', 'GKZ', 'freq_small', 'freq_medium', 'freq_tot',\n",
      "       'no_nitri_small', 'no_nitri_medium', 'no_nitri_tot', 'sum_PE_small',\n",
      "       'sum_PE_medium', 'sum_PE_tot', 'PE_nonitri_small', 'PE_nonitri_medium',\n",
      "       'PE_nonitri_tot', '%PE_nonitri_small', '%PE_nonitri_medium',\n",
      "       '%PE_nonitri_tot', '%no_nitri_small', '%no_nitri_medium',\n",
      "       '%no_nitri_tot', 'geometry'],\n",
      "      dtype='object')\n",
      "Index(['BL', 'KG', 'GKZ', 'freq_small', 'freq_medium', 'freq_tot',\n",
      "       'no_nitri_small', 'no_nitri_medium', 'no_nitri_tot', 'sum_PE_small',\n",
      "       'sum_PE_medium', 'sum_PE_tot', 'PE_nonitri_small', 'PE_nonitri_medium',\n",
      "       'PE_nonitri_tot', '%PE_nonitri_small', '%PE_nonitri_medium',\n",
      "       '%PE_nonitri_tot', '%no_nitri_small', '%no_nitri_medium',\n",
      "       '%no_nitri_tot', 'geometry'],\n",
      "      dtype='object')\n"
     ]
    }
   ],
   "source": [
    "for file in files:\n",
    "    print(file.columns)"
   ]
  },
  {
   "cell_type": "markdown",
   "metadata": {},
   "source": [
    "# go on from here"
   ]
  },
  {
   "cell_type": "code",
   "execution_count": 19,
   "metadata": {},
   "outputs": [],
   "source": [
    "data=pd.concat(files)"
   ]
  },
  {
   "cell_type": "code",
   "execution_count": 20,
   "metadata": {},
   "outputs": [
    {
     "data": {
      "text/plain": [
       "<AxesSubplot:>"
      ]
     },
     "execution_count": 20,
     "metadata": {},
     "output_type": "execute_result"
    },
    {
     "data": {
      "image/png": "[encoded data removed]",
      "text/plain": [
       "<Figure size 432x288 with 1 Axes>"
      ]
     },
     "metadata": {
      "needs_background": "light"
     },
     "output_type": "display_data"
    }
   ],
   "source": [
    "data.plot()\n"
   ]
  },
  {
   "cell_type": "code",
   "execution_count": 21,
   "metadata": {},
   "outputs": [
    {
     "data": {
      "text/html": [
       "<div>\n",
       "<style scoped>\n",
       "    .dataframe tbody tr th:only-of-type {\n",
       "        vertical-align: middle;\n",
       "    }\n",
       "\n",
       "    .dataframe tbody tr th {\n",
       "        vertical-align: top;\n",
       "    }\n",
       "\n",
       "    .dataframe thead th {\n",
       "        text-align: right;\n",
       "    }\n",
       "</style>\n",
       "<table border=\"1\" class=\"dataframe\">\n",
       "  <thead>\n",
       "    <tr style=\"text-align: right;\">\n",
       "      <th></th>\n",
       "      <th>GKZ</th>\n",
       "      <th>freq_small</th>\n",
       "      <th>freq_medium</th>\n",
       "      <th>freq_tot</th>\n",
       "      <th>no_nitri_small</th>\n",
       "      <th>no_nitri_medium</th>\n",
       "      <th>no_nitri_tot</th>\n",
       "      <th>sum_PE_small</th>\n",
       "      <th>sum_PE_medium</th>\n",
       "      <th>sum_PE_tot</th>\n",
       "      <th>PE_nonitri_small</th>\n",
       "      <th>PE_nonitri_medium</th>\n",
       "      <th>PE_nonitri_tot</th>\n",
       "      <th>%PE_nonitri_small</th>\n",
       "      <th>%PE_nonitri_medium</th>\n",
       "      <th>%PE_nonitri_tot</th>\n",
       "      <th>%no_nitri_small</th>\n",
       "      <th>%no_nitri_medium</th>\n",
       "      <th>%no_nitri_tot</th>\n",
       "    </tr>\n",
       "    <tr>\n",
       "      <th>BL</th>\n",
       "      <th></th>\n",
       "      <th></th>\n",
       "      <th></th>\n",
       "      <th></th>\n",
       "      <th></th>\n",
       "      <th></th>\n",
       "      <th></th>\n",
       "      <th></th>\n",
       "      <th></th>\n",
       "      <th></th>\n",
       "      <th></th>\n",
       "      <th></th>\n",
       "      <th></th>\n",
       "      <th></th>\n",
       "      <th></th>\n",
       "      <th></th>\n",
       "      <th></th>\n",
       "      <th></th>\n",
       "      <th></th>\n",
       "    </tr>\n",
       "  </thead>\n",
       "  <tbody>\n",
       "    <tr>\n",
       "      <th>Kärnten</th>\n",
       "      <td>13906191</td>\n",
       "      <td>6734.0</td>\n",
       "      <td>318.0</td>\n",
       "      <td>7052.0</td>\n",
       "      <td>2149.0</td>\n",
       "      <td>186.0</td>\n",
       "      <td>2335.0</td>\n",
       "      <td>59923.493151</td>\n",
       "      <td>37909.066667</td>\n",
       "      <td>97832.559817</td>\n",
       "      <td>17332.066667</td>\n",
       "      <td>22326.666667</td>\n",
       "      <td>39658.733333</td>\n",
       "      <td>18649.670312</td>\n",
       "      <td>11124.793282</td>\n",
       "      <td>21577.956706</td>\n",
       "      <td>21096.578643</td>\n",
       "      <td>11220.000000</td>\n",
       "      <td>22053.547821</td>\n",
       "    </tr>\n",
       "    <tr>\n",
       "      <th>Niederösterreich</th>\n",
       "      <td>39048704</td>\n",
       "      <td>3599.0</td>\n",
       "      <td>531.0</td>\n",
       "      <td>4130.0</td>\n",
       "      <td>235.0</td>\n",
       "      <td>27.0</td>\n",
       "      <td>262.0</td>\n",
       "      <td>37533.000000</td>\n",
       "      <td>77210.000000</td>\n",
       "      <td>114743.000000</td>\n",
       "      <td>2486.000000</td>\n",
       "      <td>3238.000000</td>\n",
       "      <td>5724.000000</td>\n",
       "      <td>8486.048107</td>\n",
       "      <td>2414.641837</td>\n",
       "      <td>9255.692262</td>\n",
       "      <td>8387.168759</td>\n",
       "      <td>2533.333333</td>\n",
       "      <td>9384.957820</td>\n",
       "    </tr>\n",
       "    <tr>\n",
       "      <th>Oberösterreich</th>\n",
       "      <td>27021586</td>\n",
       "      <td>2453.0</td>\n",
       "      <td>180.0</td>\n",
       "      <td>2633.0</td>\n",
       "      <td>367.0</td>\n",
       "      <td>1.0</td>\n",
       "      <td>368.0</td>\n",
       "      <td>27430.000000</td>\n",
       "      <td>20742.000000</td>\n",
       "      <td>48172.000000</td>\n",
       "      <td>2689.000000</td>\n",
       "      <td>200.000000</td>\n",
       "      <td>2889.000000</td>\n",
       "      <td>7685.426799</td>\n",
       "      <td>100.000000</td>\n",
       "      <td>7172.474979</td>\n",
       "      <td>8704.763104</td>\n",
       "      <td>100.000000</td>\n",
       "      <td>8458.990129</td>\n",
       "    </tr>\n",
       "    <tr>\n",
       "      <th>Salzburg</th>\n",
       "      <td>14468651</td>\n",
       "      <td>1623.0</td>\n",
       "      <td>85.0</td>\n",
       "      <td>1708.0</td>\n",
       "      <td>298.0</td>\n",
       "      <td>10.0</td>\n",
       "      <td>308.0</td>\n",
       "      <td>20260.826667</td>\n",
       "      <td>10076.133333</td>\n",
       "      <td>30336.960000</td>\n",
       "      <td>3018.333333</td>\n",
       "      <td>1293.666667</td>\n",
       "      <td>4312.000000</td>\n",
       "      <td>4736.878604</td>\n",
       "      <td>702.293130</td>\n",
       "      <td>4447.797708</td>\n",
       "      <td>5737.124294</td>\n",
       "      <td>716.666667</td>\n",
       "      <td>5554.005042</td>\n",
       "    </tr>\n",
       "    <tr>\n",
       "      <th>Steiermark</th>\n",
       "      <td>76818034</td>\n",
       "      <td>10232.0</td>\n",
       "      <td>106.0</td>\n",
       "      <td>10338.0</td>\n",
       "      <td>2094.0</td>\n",
       "      <td>35.0</td>\n",
       "      <td>2129.0</td>\n",
       "      <td>79653.000000</td>\n",
       "      <td>7242.000000</td>\n",
       "      <td>86895.000000</td>\n",
       "      <td>12479.000000</td>\n",
       "      <td>3102.000000</td>\n",
       "      <td>15581.000000</td>\n",
       "      <td>22064.242496</td>\n",
       "      <td>2929.411765</td>\n",
       "      <td>22975.168398</td>\n",
       "      <td>30250.812888</td>\n",
       "      <td>2933.333333</td>\n",
       "      <td>30616.645909</td>\n",
       "    </tr>\n",
       "    <tr>\n",
       "      <th>Tirol</th>\n",
       "      <td>18845149</td>\n",
       "      <td>1082.0</td>\n",
       "      <td>212.0</td>\n",
       "      <td>1294.0</td>\n",
       "      <td>656.0</td>\n",
       "      <td>53.0</td>\n",
       "      <td>709.0</td>\n",
       "      <td>8707.533333</td>\n",
       "      <td>23677.693333</td>\n",
       "      <td>32385.226667</td>\n",
       "      <td>3586.400000</td>\n",
       "      <td>4762.333333</td>\n",
       "      <td>8348.733333</td>\n",
       "      <td>8796.822019</td>\n",
       "      <td>2604.025697</td>\n",
       "      <td>8509.671424</td>\n",
       "      <td>14762.544561</td>\n",
       "      <td>2705.930736</td>\n",
       "      <td>14261.520052</td>\n",
       "    </tr>\n",
       "  </tbody>\n",
       "</table>\n",
       "</div>"
      ],
      "text/plain": [
       "                       GKZ  freq_small  freq_medium  freq_tot  no_nitri_small  \\\n",
       "BL                                                                              \n",
       "Kärnten           13906191      6734.0        318.0    7052.0          2149.0   \n",
       "Niederösterreich  39048704      3599.0        531.0    4130.0           235.0   \n",
       "Oberösterreich    27021586      2453.0        180.0    2633.0           367.0   \n",
       "Salzburg          14468651      1623.0         85.0    1708.0           298.0   \n",
       "Steiermark        76818034     10232.0        106.0   10338.0          2094.0   \n",
       "Tirol             18845149      1082.0        212.0    1294.0           656.0   \n",
       "\n",
       "                  no_nitri_medium  no_nitri_tot  sum_PE_small  sum_PE_medium  \\\n",
       "BL                                                                             \n",
       "Kärnten                     186.0        2335.0  59923.493151   37909.066667   \n",
       "Niederösterreich             27.0         262.0  37533.000000   77210.000000   \n",
       "Oberösterreich                1.0         368.0  27430.000000   20742.000000   \n",
       "Salzburg                     10.0         308.0  20260.826667   10076.133333   \n",
       "Steiermark                   35.0        2129.0  79653.000000    7242.000000   \n",
       "Tirol                        53.0         709.0   8707.533333   23677.693333   \n",
       "\n",
       "                     sum_PE_tot  PE_nonitri_small  PE_nonitri_medium  \\\n",
       "BL                                                                     \n",
       "Kärnten            97832.559817      17332.066667       22326.666667   \n",
       "Niederösterreich  114743.000000       2486.000000        3238.000000   \n",
       "Oberösterreich     48172.000000       2689.000000         200.000000   \n",
       "Salzburg           30336.960000       3018.333333        1293.666667   \n",
       "Steiermark         86895.000000      12479.000000        3102.000000   \n",
       "Tirol              32385.226667       3586.400000        4762.333333   \n",
       "\n",
       "                  PE_nonitri_tot  %PE_nonitri_small  %PE_nonitri_medium  \\\n",
       "BL                                                                        \n",
       "Kärnten             39658.733333       18649.670312        11124.793282   \n",
       "Niederösterreich     5724.000000        8486.048107         2414.641837   \n",
       "Oberösterreich       2889.000000        7685.426799          100.000000   \n",
       "Salzburg             4312.000000        4736.878604          702.293130   \n",
       "Steiermark          15581.000000       22064.242496         2929.411765   \n",
       "Tirol                8348.733333        8796.822019         2604.025697   \n",
       "\n",
       "                  %PE_nonitri_tot  %no_nitri_small  %no_nitri_medium  \\\n",
       "BL                                                                     \n",
       "Kärnten              21577.956706     21096.578643      11220.000000   \n",
       "Niederösterreich      9255.692262      8387.168759       2533.333333   \n",
       "Oberösterreich        7172.474979      8704.763104        100.000000   \n",
       "Salzburg              4447.797708      5737.124294        716.666667   \n",
       "Steiermark           22975.168398     30250.812888       2933.333333   \n",
       "Tirol                 8509.671424     14762.544561       2705.930736   \n",
       "\n",
       "                  %no_nitri_tot  \n",
       "BL                               \n",
       "Kärnten            22053.547821  \n",
       "Niederösterreich    9384.957820  \n",
       "Oberösterreich      8458.990129  \n",
       "Salzburg            5554.005042  \n",
       "Steiermark         30616.645909  \n",
       "Tirol              14261.520052  "
      ]
     },
     "execution_count": 21,
     "metadata": {},
     "output_type": "execute_result"
    }
   ],
   "source": [
    "data.groupby('BL').sum()"
   ]
  },
  {
   "cell_type": "code",
   "execution_count": 22,
   "metadata": {},
   "outputs": [],
   "source": [
    "#rename BLS\n",
    "data.replace({'Oberösterreich':'Upper Austria','Steiermark':'Stirya','Niederösterreich':'Lower Austria','Tirol':'Tyrol','Kärnten':'Carinthia',}, inplace=True)"
   ]
  },
  {
   "cell_type": "code",
   "execution_count": 23,
   "metadata": {},
   "outputs": [],
   "source": [
    "data=data.fillna(0)"
   ]
  },
  {
   "cell_type": "code",
   "execution_count": 24,
   "metadata": {},
   "outputs": [],
   "source": [
    "with open('final/complete.geojson', 'w') as f:\n",
    "    f.write(data.to_json())\n"
   ]
  }
 ],
 "metadata": {
  "kernelspec": {
   "display_name": "Python 3.8.11 ('geo')",
   "language": "python",
   "name": "python3"
  },
  "language_info": {
   "codemirror_mode": {
    "name": "ipython",
    "version": 3
   },
   "file_extension": ".py",
   "mimetype": "text/x-python",
   "name": "python",
   "nbconvert_exporter": "python",
   "pygments_lexer": "ipython3",
   "version": "3.8.11"
  },
  "orig_nbformat": 4,
  "vscode": {
   "interpreter": {
    "hash": "46b023be3b543629ebc72123c4a9ee6613b0d6970e9059aae9a054971a6a41c6"
   }
  }
 },
 "nbformat": 4,
 "nbformat_minor": 2
}
