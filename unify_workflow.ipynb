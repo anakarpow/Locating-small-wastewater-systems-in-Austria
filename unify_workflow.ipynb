{
 "cells": [
  {
   "cell_type": "markdown",
   "metadata": {},
   "source": [
    "# MAIN FILE : run everything, concat, and save unified geojson\n",
    "#could add concat and save of half-way files"
   ]
  },
  {
   "cell_type": "code",
   "execution_count": 1,
   "metadata": {},
   "outputs": [],
   "source": [
    "import pandas as pd\n",
    "import numpy as np\n",
    "import geopandas\n",
    "import matplotlib.pyplot as plt\n",
    "from gis_functions import *"
   ]
  },
  {
   "cell_type": "code",
   "execution_count": 2,
   "metadata": {},
   "outputs": [
    {
     "name": "stdout",
     "output_type": "stream",
     "text": [
      "perfect merge\n",
      "\n",
      "True    267\n",
      "dtype: int64\n"
     ]
    }
   ],
   "source": [
    "%run -i \"tirol_workflow.py\""
   ]
  },
  {
   "cell_type": "code",
   "execution_count": 3,
   "metadata": {},
   "outputs": [
    {
     "name": "stdout",
     "output_type": "stream",
     "text": [
      "not all rows have been merged\n",
      "\n",
      "True    287\n",
      "dtype: int64\n"
     ]
    }
   ],
   "source": [
    "%run -i \"sbg_workflow.py\""
   ]
  },
  {
   "cell_type": "code",
   "execution_count": 4,
   "metadata": {},
   "outputs": [
    {
     "name": "stdout",
     "output_type": "stream",
     "text": [
      "joining dataframes...\n",
      "done\n",
      "True    645\n",
      "dtype: int64\n"
     ]
    }
   ],
   "source": [
    "%run -i \"oebo_workflow.py\""
   ]
  },
  {
   "cell_type": "code",
   "execution_count": 5,
   "metadata": {},
   "outputs": [
    {
     "name": "stdout",
     "output_type": "stream",
     "text": [
      "Index([          'BEZIRK',             'NAME',   'EW60_BEWILLIGT',\n",
      "       'BEWILLIGUNGSJAHR',       'RECHTSWERT',         'HOCHWERT',\n",
      "                'Betrieb',      'Stillgelegt',            'Unbek',\n",
      "                    '3-k',             'Bel.',              'SBR',\n",
      "                    'MBR',            'Tropf',              'RBC',\n",
      "                   'Fest',           'Wirbel',              'BKF',\n",
      "                    'PKA',       'Filtersack',          'Kompost',\n",
      "                 'Andere',        'Unbekannt',           'bautyp'],\n",
      "      dtype='object')\n",
      "\n",
      "          RESULT OF LOGICAL CHECK: WHICH ROWS HAVE ONLY ONE CATEGORY?\n",
      "True    5029\n",
      "dtype: int64\n",
      "joining dataframes...\n",
      "done\n",
      "      KG_NR  freq  before_reg  sum_PE  mean_year  no_nitri  PE_nonitri\n",
      "0      1702     1           0     8.0       1997         0         0.0\n",
      "1      1703     2           0    18.0       2008         0         0.0\n",
      "2      1704     2           2    14.0       1984         0         0.0\n",
      "3      1705    14          14   115.0       1972        13        73.0\n",
      "4      1706     1           0    10.0       2002         0         0.0\n",
      "...     ...   ...         ...     ...        ...       ...         ...\n",
      "1266  24391     2           0   112.0       2001         0         0.0\n",
      "1267  24392     3           0    15.0       2011         0         0.0\n",
      "1268  24396     1           0   280.0       2013         0         0.0\n",
      "1269  24398     1           0    40.0       2009         0         0.0\n",
      "1270  24501     1           0     4.0       1999         0         0.0\n",
      "\n",
      "[1271 rows x 7 columns]\n",
      "True    1271\n",
      "dtype: int64\n"
     ]
    }
   ],
   "source": [
    "%run -i \"noe_workflow.py\""
   ]
  },
  {
   "cell_type": "code",
   "execution_count": 6,
   "metadata": {},
   "outputs": [
    {
     "name": "stdout",
     "output_type": "stream",
     "text": [
      "not all rows have been merged\n",
      "\n",
      "True    673\n",
      "dtype: int64\n"
     ]
    }
   ],
   "source": [
    "%run -i \"karn_workflow.py\""
   ]
  },
  {
   "cell_type": "code",
   "execution_count": 7,
   "metadata": {},
   "outputs": [
    {
     "name": "stdout",
     "output_type": "stream",
     "text": [
      "                                                    Name          Status  \\\n",
      "8      Häusl. Abwässer - Steierm.Fleischhauer-u. Selc...  besteht lt. WR   \n",
      "66     Kläranlage  1/416 - ctr kleinoscheg developmen...  Bestand unklar   \n",
      "331        Kläranlage - Kovac P. & Co.,Ges.m.b.H. 1/1297  besteht lt. WR   \n",
      "342    ARA Peßler - Pessler Hans und Margarete und Ta...  Bestand unklar   \n",
      "343    ARA Tappauf - Pessler Hans und Margarete und T...  Bestand unklar   \n",
      "...                                                  ...             ...   \n",
      "10561                  Kohlmaier Johann u. Frieda  4/966  Bestand unklar   \n",
      "10579  ARA Streblberg 4/1602 - Gemeinde Pirching am T...  besteht lt. WR   \n",
      "10581                    Mayer Adolf u. Theresia  4/1019  Bestand unklar   \n",
      "10704                                Nuster Erwin  4/999  Bestand unklar   \n",
      "10717                     Lackner Rudolf u. Hilde  4/870  Bestand unklar   \n",
      "\n",
      "                             Gemeinde                 KG  \\\n",
      "8                          60101 Graz   63118 Rudersdorf   \n",
      "66                         60101 Graz      63112 Gösting   \n",
      "331                        60101 Graz      63112 Gösting   \n",
      "342                        60101 Graz    63127 Wenisbuch   \n",
      "343                        60101 Graz    63127 Wenisbuch   \n",
      "...                               ...                ...   \n",
      "10561                    62384 Paldau    62145 Perlsdorf   \n",
      "10579   62385 Pirching am Traubenberg     62318 Pirching   \n",
      "10581   62385 Pirching am Traubenberg  62304 Edelstauden   \n",
      "10704  62389 Sankt Stefan im Rosental       62301 Aschau   \n",
      "10717                   62390 Straden     62107 Dirnbach   \n",
      "\n",
      "                           Berechtigter Postzahl  \\\n",
      "8                                   NaN      NaN   \n",
      "66                                  NaN      NaN   \n",
      "331                                 NaN      NaN   \n",
      "342                                 NaN      NaN   \n",
      "343                                 NaN      NaN   \n",
      "...                                 ...      ...   \n",
      "10561       Kohlmaier Johann u. Frieda       NaN   \n",
      "10579  Gemeinde Pirching am Traubenberg   4/1602   \n",
      "10581          Mayer Adolf u. Theresia       NaN   \n",
      "10704                     Nuster Erwin       NaN   \n",
      "10717          Lackner Rudolf u. Hilde       NaN   \n",
      "\n",
      "                        Kläranlagen-Hauptsystem  \\\n",
      "8      Absetzanlagen (z.B. 3-Kammer-Faulanlage)   \n",
      "66     Absetzanlagen (z.B. 3-Kammer-Faulanlage)   \n",
      "331                             Belebungsanlage   \n",
      "342                                         NaN   \n",
      "343                                         NaN   \n",
      "...                                         ...   \n",
      "10561                                       NaN   \n",
      "10579                           Belebungsanlage   \n",
      "10581                                       NaN   \n",
      "10704                                       NaN   \n",
      "10717                                       NaN   \n",
      "\n",
      "                               Typbezeichnung der Anlage  EW  Jahr  ...  \\\n",
      "8                                                    NaN       NaN  ...   \n",
      "66     3-kammerige Kläranlage, System Schalk, Type Ve...  22   NaN  ...   \n",
      "331    Puratox Belebtschlammanlage, Type PX 2-25-27 m...       NaN  ...   \n",
      "342                                                  NaN       NaN  ...   \n",
      "343                                                  NaN       NaN  ...   \n",
      "...                                                  ...  ..   ...  ...   \n",
      "10561                                                NaN       NaN  ...   \n",
      "10579                                                NaN  40   NaN  ...   \n",
      "10581                                                NaN       NaN  ...   \n",
      "10704                                                NaN       NaN  ...   \n",
      "10717                                                NaN       NaN  ...   \n",
      "\n",
      "      Unbek.  Mehr-kammer  Durchl.  SBR  MBR  Tropf  Tauch  Fest  PKA  BKF  \n",
      "8        NaN          1.0      NaN  NaN  NaN    NaN    NaN   NaN  NaN  NaN  \n",
      "66       NaN          1.0      NaN  NaN  NaN    NaN    NaN   NaN  NaN  NaN  \n",
      "331      NaN          NaN      1.0  NaN  NaN    NaN    NaN   NaN  NaN  NaN  \n",
      "342      1.0          NaN      NaN  NaN  NaN    NaN    NaN   NaN  NaN  NaN  \n",
      "343      1.0          NaN      NaN  NaN  NaN    NaN    NaN   NaN  NaN  NaN  \n",
      "...      ...          ...      ...  ...  ...    ...    ...   ...  ...  ...  \n",
      "10561    1.0          NaN      NaN  NaN  NaN    NaN    NaN   NaN  NaN  NaN  \n",
      "10579    NaN          NaN      1.0  NaN  NaN    NaN    NaN   NaN  NaN  NaN  \n",
      "10581    1.0          NaN      NaN  NaN  NaN    NaN    NaN   NaN  NaN  NaN  \n",
      "10704    1.0          NaN      NaN  NaN  NaN    NaN    NaN   NaN  NaN  NaN  \n",
      "10717    1.0          NaN      NaN  NaN  NaN    NaN    NaN   NaN  NaN  NaN  \n",
      "\n",
      "[165 rows x 23 columns]\n",
      "perfect merge\n",
      "\n",
      "True    1241\n",
      "dtype: int64\n"
     ]
    }
   ],
   "source": [
    "%run -i \"steyr_workflow.py\""
   ]
  },
  {
   "cell_type": "code",
   "execution_count": 8,
   "metadata": {},
   "outputs": [],
   "source": [
    "steyr=geopandas.read_file('final/steyr.geojson')\n",
    "karn=geopandas.read_file('final/karn.geojson')\n",
    "tirol=geopandas.read_file('final/tirol.geojson')\n",
    "oebo=geopandas.read_file('final/oebo.geojson')\n",
    "sbg=geopandas.read_file('final/sbg.geojson')\n",
    "noe=geopandas.read_file('final/noe.geojson')\n"
   ]
  },
  {
   "cell_type": "code",
   "execution_count": 9,
   "metadata": {},
   "outputs": [],
   "source": [
    "l=[steyr,noe,oebo,tirol,sbg,karn]"
   ]
  },
  {
   "cell_type": "code",
   "execution_count": null,
   "metadata": {},
   "outputs": [],
   "source": [
    "cols=['BL','before_reg', 'freq',\n",
    "       'mean_year', 'no_nitri', 'sum_PE','PE_nonitri', 'geometry']\n"
   ]
  },
  {
   "cell_type": "code",
   "execution_count": null,
   "metadata": {},
   "outputs": [],
   "source": [
    "steyr=steyr.loc[:,cols]\n",
    "karn=karn.loc[:,cols]\n",
    "tirol=tirol.loc[:,cols]\n",
    "oebo=oebo.loc[:,cols]\n",
    "sbg=sbg.loc[:,cols]\n",
    "noe=noe.loc[:,cols]\n",
    "files=[steyr,karn, tirol,sbg,noe,oebo] "
   ]
  },
  {
   "cell_type": "code",
   "execution_count": 11,
   "metadata": {},
   "outputs": [
    {
     "name": "stdout",
     "output_type": "stream",
     "text": [
      "Index(['id', '%PE_nonitri', '%before_reg', '%no_nitri', 'BKZ', 'BL', 'BL_KZ',\n",
      "       'FA', 'FA_NR', 'FL', 'GB', 'GB_KZ', 'GKZ', 'KG', 'KG_NR', 'MERIDIAN',\n",
      "       'PB', 'PE_nonitri', 'PG', 'ST', 'ST_KZ', 'VA', 'VA_NR', 'before_reg',\n",
      "       'freq', 'mean_year', 'no_nitri', 'sum_PE', 'geometry'],\n",
      "      dtype='object')\n",
      "Index(['id', '%PE_nonitri', '%before_reg', '%no_nitri', 'BKZ', 'BL', 'BL_KZ',\n",
      "       'FA', 'FA_NR', 'FL', 'GB', 'GB_KZ', 'GKZ', 'KG', 'KG_NR', 'MERIDIAN',\n",
      "       'PB', 'PE_nonitri', 'PG', 'ST', 'ST_KZ', 'VA', 'VA_NR', 'before_reg',\n",
      "       'freq', 'mean_year', 'no_nitri', 'sum_PE', 'geometry'],\n",
      "      dtype='object')\n",
      "Index(['id', '%PE_nonitri', '%before_reg', '%nitri', '%no_nitri', 'BKZ', 'BL',\n",
      "       'C-ENTFERNUNG', 'FL', 'GKZ', 'KG', 'KG_NR', 'N-ENTFERNUNG',\n",
      "       'NITRIFIZIERUNG', 'P-ENTFERNUNG', 'PE_nonitri', 'REINIGUNG MECHANISCH',\n",
      "       'before_reg', 'freq', 'mean_year', 'no_nitri', 'sum_PE', 'sum_TM(t)',\n",
      "       'geometry'],\n",
      "      dtype='object')\n",
      "Index(['id', '%PE_nonitri', '%before_reg', '%no_nitri', 'BKZ', 'BL', 'BL_KZ',\n",
      "       'FA', 'FA_NR', 'FL', 'GB', 'GB_KZ', 'GKZ', 'KG', 'KG_NR', 'MERIDIAN',\n",
      "       'PB', 'PE_nonitri', 'PG', 'ST', 'ST_KZ', 'VA', 'VA_NR', 'before_reg',\n",
      "       'freq', 'mean_year', 'no_nitri', 'sum_PE', 'geometry'],\n",
      "      dtype='object')\n",
      "Index(['id', '%PE_nonitri', '%before_reg', '%no_nitri', 'BKZ', 'BL', 'BL_KZ',\n",
      "       'FA', 'FA_NR', 'FL', 'GB', 'GB_KZ', 'GKZ', 'KG', 'KG_NR', 'MERIDIAN',\n",
      "       'PB', 'PE_nonitri', 'PG', 'ST', 'ST_KZ', 'VA', 'VA_NR', 'before_reg',\n",
      "       'freq', 'mean_year', 'no_nitri', 'sum_PE', 'geometry'],\n",
      "      dtype='object')\n",
      "Index(['id', '%PE_nonitri', '%before_reg', '%no_nitri', 'BKZ', 'BL', 'BL_KZ',\n",
      "       'FA', 'FA_NR', 'FL', 'GB', 'GB_KZ', 'GKZ', 'KG', 'KG_NR', 'MERIDIAN',\n",
      "       'PB', 'PE_nonitri', 'PG', 'ST', 'ST_KZ', 'VA', 'VA_NR', 'before_reg',\n",
      "       'freq', 'mean_year', 'no_nitri', 'sum_PE', 'geometry'],\n",
      "      dtype='object')\n"
     ]
    }
   ],
   "source": [
    "for file in l:\n",
    "    print(file.columns)"
   ]
  },
  {
   "cell_type": "markdown",
   "metadata": {},
   "source": [
    "# go on from here"
   ]
  },
  {
   "cell_type": "code",
   "execution_count": null,
   "metadata": {},
   "outputs": [],
   "source": [
    "data=pd.concat(files)"
   ]
  },
  {
   "cell_type": "code",
   "execution_count": null,
   "metadata": {},
   "outputs": [],
   "source": [
    "data.plot()\n"
   ]
  },
  {
   "cell_type": "code",
   "execution_count": null,
   "metadata": {},
   "outputs": [],
   "source": [
    "with open('final/complete.geojson', 'w') as f:\n",
    "    f.write(data.to_json())\n"
   ]
  }
 ],
 "metadata": {
  "interpreter": {
   "hash": "d4a4f80f0852bbaf4e4f090cf7fb2ba0e283c9764699a540eedc0c1ab340cdd7"
  },
  "kernelspec": {
   "display_name": "Python 3.8.11 64-bit ('geo': conda)",
   "language": "python",
   "name": "python3"
  },
  "language_info": {
   "codemirror_mode": {
    "name": "ipython",
    "version": 3
   },
   "file_extension": ".py",
   "mimetype": "text/x-python",
   "name": "python",
   "nbconvert_exporter": "python",
   "pygments_lexer": "ipython3",
   "version": "3.8.11"
  },
  "orig_nbformat": 4
 },
 "nbformat": 4,
 "nbformat_minor": 2
}
