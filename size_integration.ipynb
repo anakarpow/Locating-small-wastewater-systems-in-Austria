{
 "cells": [
  {
   "cell_type": "code",
   "execution_count": 1,
   "metadata": {},
   "outputs": [],
   "source": [
    "\n",
    "from geopandas.base import GeoPandasBase\n",
    "import pandas as pd\n",
    "import numpy as np\n",
    "import geopandas\n",
    "import matplotlib.pyplot as plt\n",
    "from shapely import wkt\n",
    "\n"
   ]
  },
  {
   "cell_type": "code",
   "execution_count": 10,
   "metadata": {},
   "outputs": [],
   "source": [
    "### get this done !!!\n",
    "def get_nonitri_sum2(df):\n",
    "    def cond(df):\n",
    "        try:\n",
    "            if df['no_nitri']==True:\n",
    "                return df['PE']\n",
    "            else:\n",
    "                return 0\n",
    "                \n",
    "        except:\n",
    "            if df['NITRIFIZIERUNG']==False:\n",
    "                return df['EW60']\n",
    "            else:\n",
    "                return 0\n",
    "\n",
    "\n",
    "    df['PE_nonitri']=df.apply(cond, axis=1)\n",
    "\n",
    "    return df\n",
    " \n",
    "\n",
    "\n",
    "def join_nospat(df, filename):\n",
    "    shp = geopandas.read_file('DATA/shp_new/Oesterreich_BEV_VGD_LAM.shp')\n",
    "    shp.KG_NR = shp.KG_NR.astype(int)\n",
    "    shp.to_crs(epsg=4326, inplace=True)\n",
    "    merged=pd.merge(shp, df, on='KG_NR')\n",
    "    if len(df[~df.KG_NR.isin(merged.KG_NR)]) ==0:\n",
    "        print('perfect merge')\n",
    "    else:\n",
    "        print('not all rows have been merged')\n",
    "        not_merged=df[~df.KG_NR.isin(merged.KG_NR)]\n",
    "        not_merged.to_excel('final/' +filename+'not_merged.xlsx')\n",
    "    print()\n",
    "\n",
    "    return merged\n",
    "\n",
    "def extract_data_nospat(joined):\n",
    "    \"\"\"\n",
    "    return df with one row per KG\n",
    "    only summary columns like sum EW,  average values and so on\n",
    "\n",
    "    insert column for each Tech_type sum ? like sum_SBR=5\n",
    "    \"\"\"\n",
    "    joined=get_nonitri_sum2(joined)\n",
    "\n",
    "    df1=joined.groupby(['KG_NR']).agg(lambda row: np.count_nonzero(row)).reset_index()\n",
    "    df2=joined.groupby(['KG_NR']).sum().reset_index().loc[:,['KG_NR','PE','PE_nonitri']]\n",
    "    try:\n",
    "        df3=joined.groupby(['KG_NR']).mean().astype(int).reset_index().loc[:,['KG_NR','year']]\n",
    "    except :\n",
    "        df3=joined.groupby(['KG_NR']).mean().reset_index().loc[:,['KG_NR','year']].astype(int)\n",
    "\n",
    "    merged=pd.merge(df2,df3, on='KG_NR')\n",
    "    print(merged)\n",
    "    extracted=df1.merge(merged,on='KG_NR')\n",
    "\n",
    "    extracted.rename(columns={'PE_y':'sum_PE','year_y':'mean_year','MERIDIAN':'freq', 'PE_nonitri_y':'PE_nonitri' },inplace=True)\n",
    "    extracted=extracted[['KG_NR','freq','before_reg', 'sum_PE','mean_year', 'no_nitri','PE_nonitri']]\n",
    "    return extracted\n",
    "\n",
    "def final_merge_nospat(extracted, BL_name):\n",
    "    \"\"\"\n",
    "    return geojson with one row per KG\n",
    "    contains geoinformation and ready to plot\n",
    "\n",
    "    \"\"\"\n",
    "\n",
    "    shp = geopandas.read_file('DATA/shp_new/Oesterreich_BEV_VGD_LAM.shp')\n",
    "    shp.KG_NR = shp.KG_NR.astype(int)\n",
    "    shp.to_crs(epsg=4326, inplace=True)\n",
    "    final=pd.merge(shp,extracted, on='KG_NR')\n",
    "\n",
    "    print(final.geometry.is_valid.value_counts())\n",
    "\n",
    "    if len(extracted)==len(final):\n",
    "        print('perfect merge')\n",
    "    else:\n",
    "        print('not all rows have been merged')\n",
    "        not_merged=extracted[~extracted.KG_NR.isin(final.KG_NR)]\n",
    "        not_merged.to_excel('final/' +BL_name+'not_merged2.xlsx')\n",
    "    print()\n",
    "\n",
    "\n",
    "    #getting relative values\n",
    "    #final['%no_nitri']=final.no_nitri/final.freq*100\n",
    "    #final['%before_reg']=final.before_reg/final.freq*100\n",
    "    #final['%PE_nonitri']=(final.PE_nonitri/final.sum_PE)*100\n",
    "\n",
    "    #`final=standardize_format(final)\n",
    "\n",
    "\n",
    "    with open('final/' + BL_name +'.geojson', 'w') as f:\n",
    "        f.write(final.to_json())\n",
    "    return final"
   ]
  },
  {
   "cell_type": "code",
   "execution_count": 3,
   "metadata": {},
   "outputs": [],
   "source": [
    "data=pd.read_excel(r'C:\\Users\\fabrizio\\Documents\\repos\\MSC\\half-way/steyr.xlsx')"
   ]
  },
  {
   "cell_type": "code",
   "execution_count": 4,
   "metadata": {},
   "outputs": [
    {
     "name": "stdout",
     "output_type": "stream",
     "text": [
      "not all rows have been merged\n",
      "\n"
     ]
    }
   ],
   "source": [
    "merged=join_nospat(data, 'steyr')"
   ]
  },
  {
   "cell_type": "code",
   "execution_count": 41,
   "metadata": {},
   "outputs": [],
   "source": [
    "\n",
    "merged['design']=np.where(merged.PE<50, 'small','medium')"
   ]
  },
  {
   "cell_type": "code",
   "execution_count": 46,
   "metadata": {},
   "outputs": [
    {
     "data": {
      "text/html": [
       "<div>\n",
       "<style scoped>\n",
       "    .dataframe tbody tr th:only-of-type {\n",
       "        vertical-align: middle;\n",
       "    }\n",
       "\n",
       "    .dataframe tbody tr th {\n",
       "        vertical-align: top;\n",
       "    }\n",
       "\n",
       "    .dataframe thead th {\n",
       "        text-align: right;\n",
       "    }\n",
       "</style>\n",
       "<table border=\"1\" class=\"dataframe\">\n",
       "  <thead>\n",
       "    <tr style=\"text-align: right;\">\n",
       "      <th></th>\n",
       "      <th>PE</th>\n",
       "      <th>design</th>\n",
       "    </tr>\n",
       "  </thead>\n",
       "  <tbody>\n",
       "    <tr>\n",
       "      <th>7428</th>\n",
       "      <td>300</td>\n",
       "      <td>medium</td>\n",
       "    </tr>\n",
       "    <tr>\n",
       "      <th>3014</th>\n",
       "      <td>200</td>\n",
       "      <td>medium</td>\n",
       "    </tr>\n",
       "    <tr>\n",
       "      <th>8599</th>\n",
       "      <td>200</td>\n",
       "      <td>medium</td>\n",
       "    </tr>\n",
       "    <tr>\n",
       "      <th>4612</th>\n",
       "      <td>200</td>\n",
       "      <td>medium</td>\n",
       "    </tr>\n",
       "    <tr>\n",
       "      <th>7405</th>\n",
       "      <td>200</td>\n",
       "      <td>medium</td>\n",
       "    </tr>\n",
       "    <tr>\n",
       "      <th>...</th>\n",
       "      <td>...</td>\n",
       "      <td>...</td>\n",
       "    </tr>\n",
       "    <tr>\n",
       "      <th>2313</th>\n",
       "      <td>0</td>\n",
       "      <td>small</td>\n",
       "    </tr>\n",
       "    <tr>\n",
       "      <th>6012</th>\n",
       "      <td>0</td>\n",
       "      <td>small</td>\n",
       "    </tr>\n",
       "    <tr>\n",
       "      <th>6013</th>\n",
       "      <td>0</td>\n",
       "      <td>small</td>\n",
       "    </tr>\n",
       "    <tr>\n",
       "      <th>2327</th>\n",
       "      <td>0</td>\n",
       "      <td>small</td>\n",
       "    </tr>\n",
       "    <tr>\n",
       "      <th>10337</th>\n",
       "      <td>0</td>\n",
       "      <td>small</td>\n",
       "    </tr>\n",
       "  </tbody>\n",
       "</table>\n",
       "<p>10338 rows × 2 columns</p>\n",
       "</div>"
      ],
      "text/plain": [
       "        PE  design\n",
       "7428   300  medium\n",
       "3014   200  medium\n",
       "8599   200  medium\n",
       "4612   200  medium\n",
       "7405   200  medium\n",
       "...    ...     ...\n",
       "2313     0   small\n",
       "6012     0   small\n",
       "6013     0   small\n",
       "2327     0   small\n",
       "10337    0   small\n",
       "\n",
       "[10338 rows x 2 columns]"
      ]
     },
     "execution_count": 46,
     "metadata": {},
     "output_type": "execute_result"
    }
   ],
   "source": [
    "\n",
    "merged[['PE','design']].sort_values('PE',ascending=False)"
   ]
  },
  {
   "cell_type": "code",
   "execution_count": 32,
   "metadata": {},
   "outputs": [],
   "source": [
    "small=merged[merged.design=='small']\n",
    "medium=merged[merged.design=='medium']"
   ]
  },
  {
   "cell_type": "code",
   "execution_count": 28,
   "metadata": {},
   "outputs": [
    {
     "name": "stdout",
     "output_type": "stream",
     "text": [
      "      KG_NR   PE  PE_nonitri  year\n",
      "0     60001   10          10  1966\n",
      "1     60002    0           0  2005\n",
      "2     60003   10           0  2004\n",
      "3     60004   47          12  1992\n",
      "4     60007   18          10  1982\n",
      "...     ...  ...         ...   ...\n",
      "1245  68262   75           0  2008\n",
      "1246  68265   33           0  1986\n",
      "1247  68266    0           0  1955\n",
      "1248  68267  179           0  1908\n",
      "1249  68268   16           0  1993\n",
      "\n",
      "[1250 rows x 4 columns]\n"
     ]
    }
   ],
   "source": [
    "extracted=extract_data_nospat(merged)"
   ]
  },
  {
   "cell_type": "code",
   "execution_count": 29,
   "metadata": {},
   "outputs": [
    {
     "data": {
      "text/plain": [
       "86895"
      ]
     },
     "execution_count": 29,
     "metadata": {},
     "output_type": "execute_result"
    }
   ],
   "source": [
    "len(merged)\n",
    "merged.PE.sum()"
   ]
  },
  {
   "cell_type": "code",
   "execution_count": 30,
   "metadata": {},
   "outputs": [
    {
     "data": {
      "text/plain": [
       "86895"
      ]
     },
     "execution_count": 30,
     "metadata": {},
     "output_type": "execute_result"
    }
   ],
   "source": [
    "extracted.freq.sum()\n",
    "extracted.sum_PE.sum()"
   ]
  },
  {
   "cell_type": "code",
   "execution_count": null,
   "metadata": {},
   "outputs": [
    {
     "data": {
      "text/html": [
       "<div>\n",
       "<style scoped>\n",
       "    .dataframe tbody tr th:only-of-type {\n",
       "        vertical-align: middle;\n",
       "    }\n",
       "\n",
       "    .dataframe tbody tr th {\n",
       "        vertical-align: top;\n",
       "    }\n",
       "\n",
       "    .dataframe thead th {\n",
       "        text-align: right;\n",
       "    }\n",
       "</style>\n",
       "<table border=\"1\" class=\"dataframe\">\n",
       "  <thead>\n",
       "    <tr style=\"text-align: right;\">\n",
       "      <th></th>\n",
       "      <th>KG_NR</th>\n",
       "      <th>freq</th>\n",
       "      <th>before_reg</th>\n",
       "      <th>sum_PE</th>\n",
       "      <th>mean_year</th>\n",
       "      <th>no_nitri</th>\n",
       "      <th>PE_nonitri</th>\n",
       "      <th>size</th>\n",
       "    </tr>\n",
       "  </thead>\n",
       "  <tbody>\n",
       "    <tr>\n",
       "      <th>0</th>\n",
       "      <td>60001</td>\n",
       "      <td>1</td>\n",
       "      <td>1</td>\n",
       "      <td>10</td>\n",
       "      <td>1966</td>\n",
       "      <td>1</td>\n",
       "      <td>10</td>\n",
       "      <td>small</td>\n",
       "    </tr>\n",
       "    <tr>\n",
       "      <th>1</th>\n",
       "      <td>60002</td>\n",
       "      <td>1</td>\n",
       "      <td>0</td>\n",
       "      <td>0</td>\n",
       "      <td>2005</td>\n",
       "      <td>0</td>\n",
       "      <td>0</td>\n",
       "      <td>small</td>\n",
       "    </tr>\n",
       "    <tr>\n",
       "      <th>2</th>\n",
       "      <td>60003</td>\n",
       "      <td>1</td>\n",
       "      <td>0</td>\n",
       "      <td>10</td>\n",
       "      <td>2004</td>\n",
       "      <td>0</td>\n",
       "      <td>0</td>\n",
       "      <td>small</td>\n",
       "    </tr>\n",
       "    <tr>\n",
       "      <th>3</th>\n",
       "      <td>60004</td>\n",
       "      <td>4</td>\n",
       "      <td>1</td>\n",
       "      <td>47</td>\n",
       "      <td>1992</td>\n",
       "      <td>1</td>\n",
       "      <td>12</td>\n",
       "      <td>small</td>\n",
       "    </tr>\n",
       "    <tr>\n",
       "      <th>4</th>\n",
       "      <td>60007</td>\n",
       "      <td>3</td>\n",
       "      <td>2</td>\n",
       "      <td>18</td>\n",
       "      <td>1982</td>\n",
       "      <td>2</td>\n",
       "      <td>10</td>\n",
       "      <td>small</td>\n",
       "    </tr>\n",
       "    <tr>\n",
       "      <th>...</th>\n",
       "      <td>...</td>\n",
       "      <td>...</td>\n",
       "      <td>...</td>\n",
       "      <td>...</td>\n",
       "      <td>...</td>\n",
       "      <td>...</td>\n",
       "      <td>...</td>\n",
       "      <td>...</td>\n",
       "    </tr>\n",
       "    <tr>\n",
       "      <th>1509</th>\n",
       "      <td>68262</td>\n",
       "      <td>7</td>\n",
       "      <td>0</td>\n",
       "      <td>75</td>\n",
       "      <td>2008</td>\n",
       "      <td>0</td>\n",
       "      <td>0</td>\n",
       "      <td>small</td>\n",
       "    </tr>\n",
       "    <tr>\n",
       "      <th>1510</th>\n",
       "      <td>68265</td>\n",
       "      <td>3</td>\n",
       "      <td>1</td>\n",
       "      <td>33</td>\n",
       "      <td>1986</td>\n",
       "      <td>1</td>\n",
       "      <td>0</td>\n",
       "      <td>small</td>\n",
       "    </tr>\n",
       "    <tr>\n",
       "      <th>1511</th>\n",
       "      <td>68266</td>\n",
       "      <td>3</td>\n",
       "      <td>3</td>\n",
       "      <td>0</td>\n",
       "      <td>1955</td>\n",
       "      <td>3</td>\n",
       "      <td>0</td>\n",
       "      <td>small</td>\n",
       "    </tr>\n",
       "    <tr>\n",
       "      <th>1512</th>\n",
       "      <td>68267</td>\n",
       "      <td>21</td>\n",
       "      <td>1</td>\n",
       "      <td>179</td>\n",
       "      <td>1908</td>\n",
       "      <td>0</td>\n",
       "      <td>0</td>\n",
       "      <td>small</td>\n",
       "    </tr>\n",
       "    <tr>\n",
       "      <th>1513</th>\n",
       "      <td>68268</td>\n",
       "      <td>3</td>\n",
       "      <td>1</td>\n",
       "      <td>16</td>\n",
       "      <td>1993</td>\n",
       "      <td>1</td>\n",
       "      <td>0</td>\n",
       "      <td>small</td>\n",
       "    </tr>\n",
       "  </tbody>\n",
       "</table>\n",
       "<p>1514 rows × 8 columns</p>\n",
       "</div>"
      ],
      "text/plain": [
       "      KG_NR  freq  before_reg  sum_PE  mean_year  no_nitri  PE_nonitri   size\n",
       "0     60001     1           1      10       1966         1          10  small\n",
       "1     60002     1           0       0       2005         0           0  small\n",
       "2     60003     1           0      10       2004         0           0  small\n",
       "3     60004     4           1      47       1992         1          12  small\n",
       "4     60007     3           2      18       1982         2          10  small\n",
       "...     ...   ...         ...     ...        ...       ...         ...    ...\n",
       "1509  68262     7           0      75       2008         0           0  small\n",
       "1510  68265     3           1      33       1986         1           0  small\n",
       "1511  68266     3           3       0       1955         3           0  small\n",
       "1512  68267    21           1     179       1908         0           0  small\n",
       "1513  68268     3           1      16       1993         1           0  small\n",
       "\n",
       "[1514 rows x 8 columns]"
      ]
     },
     "execution_count": 103,
     "metadata": {},
     "output_type": "execute_result"
    }
   ],
   "source": [
    "extracted"
   ]
  },
  {
   "cell_type": "code",
   "execution_count": 33,
   "metadata": {},
   "outputs": [
    {
     "name": "stderr",
     "output_type": "stream",
     "text": [
      "C:\\Users\\fabrizio\\anaconda3\\envs\\geo\\lib\\site-packages\\geopandas\\geodataframe.py:1322: SettingWithCopyWarning: \n",
      "A value is trying to be set on a copy of a slice from a DataFrame.\n",
      "Try using .loc[row_indexer,col_indexer] = value instead\n",
      "\n",
      "See the caveats in the documentation: https://pandas.pydata.org/pandas-docs/stable/user_guide/indexing.html#returning-a-view-versus-a-copy\n",
      "  super(GeoDataFrame, self).__setitem__(key, value)\n"
     ]
    },
    {
     "name": "stdout",
     "output_type": "stream",
     "text": [
      "      KG_NR   PE  PE_nonitri  year\n",
      "0     60001   10          10  1966\n",
      "1     60002    0           0  2005\n",
      "2     60003   10           0  2004\n",
      "3     60004   47          12  1992\n",
      "4     60007   18          10  1982\n",
      "...     ...  ...         ...   ...\n",
      "1241  68262   75           0  2008\n",
      "1242  68265   33           0  1986\n",
      "1243  68266    0           0  1955\n",
      "1244  68267  179           0  1908\n",
      "1245  68268   16           0  1993\n",
      "\n",
      "[1246 rows x 4 columns]\n",
      "    KG_NR   PE  PE_nonitri  year\n",
      "0   60013   60           0  2013\n",
      "1   60102   50          50  1987\n",
      "2   60217   60           0  2012\n",
      "3   60301   75          75  1974\n",
      "4   60303  170          50  1986\n",
      "..    ...  ...         ...   ...\n",
      "87  67319   60           0  2012\n",
      "88  67510   50           0  2008\n",
      "89  67611   90          90  1965\n",
      "90  67613   50          50  1975\n",
      "91  68025   50           0  1998\n",
      "\n",
      "[92 rows x 4 columns]\n"
     ]
    },
    {
     "name": "stderr",
     "output_type": "stream",
     "text": [
      "C:\\Users\\fabrizio\\anaconda3\\envs\\geo\\lib\\site-packages\\geopandas\\geodataframe.py:1322: SettingWithCopyWarning: \n",
      "A value is trying to be set on a copy of a slice from a DataFrame.\n",
      "Try using .loc[row_indexer,col_indexer] = value instead\n",
      "\n",
      "See the caveats in the documentation: https://pandas.pydata.org/pandas-docs/stable/user_guide/indexing.html#returning-a-view-versus-a-copy\n",
      "  super(GeoDataFrame, self).__setitem__(key, value)\n"
     ]
    }
   ],
   "source": [
    "small=extract_data_nospat(small)\n",
    "medium=extract_data_nospat(medium)"
   ]
  },
  {
   "cell_type": "code",
   "execution_count": 49,
   "metadata": {},
   "outputs": [],
   "source": [
    "total=small.merge(medium, on='KG_NR',how='outer',suffixes=('_small','_medium'))"
   ]
  },
  {
   "cell_type": "code",
   "execution_count": 50,
   "metadata": {},
   "outputs": [
    {
     "data": {
      "text/plain": [
       "Index(['KG_NR', 'freq_small', 'before_reg_small', 'sum_PE_small',\n",
       "       'mean_year_small', 'no_nitri_small', 'PE_nonitri_small', 'freq_medium',\n",
       "       'before_reg_medium', 'sum_PE_medium', 'mean_year_medium',\n",
       "       'no_nitri_medium', 'PE_nonitri_medium'],\n",
       "      dtype='object')"
      ]
     },
     "execution_count": 50,
     "metadata": {},
     "output_type": "execute_result"
    }
   ],
   "source": [
    "total.columns"
   ]
  },
  {
   "cell_type": "code",
   "execution_count": null,
   "metadata": {},
   "outputs": [],
   "source": [
    "x=x[['KG_NR', 'freq_small','sum_PE_small','no_nitri_small', 'PE_nonitri_small',\n",
    "        'freq_medium', 'sum_PE_medium','no_nitri_medium', 'PE_nonitri_medium']]"
   ]
  },
  {
   "cell_type": "code",
   "execution_count": 35,
   "metadata": {},
   "outputs": [],
   "source": [
    "x=x.fillna(0)\n",
    "x['freq_tot']=x.freq_small+x.freq_medium\n",
    "x['sum_PE_tot']=x.sum_PE_small+x.sum_PE_medium\n",
    "x['no_nitri_tot']=x.no_nitri_small+x.no_nitri_medium\n",
    "x['PE_nonitri_tot']=x.PE_nonitri_small+x.PE_nonitri_medium"
   ]
  },
  {
   "cell_type": "code",
   "execution_count": null,
   "metadata": {},
   "outputs": [],
   "source": [
    "x=x[['KG_NR', 'freq_small','freq_medium','freq_tot','sum_PE_small','sum_PE_medium','sum_PE_tot',\n",
    "    'no_nitri_small','no_nitri_medium','no_nitri_tot','PE_nonitri_small','PE_nonitri_medium','PE_nonitri_tot']]"
   ]
  },
  {
   "cell_type": "code",
   "execution_count": 37,
   "metadata": {},
   "outputs": [
    {
     "data": {
      "text/plain": [
       "10338.0"
      ]
     },
     "execution_count": 37,
     "metadata": {},
     "output_type": "execute_result"
    }
   ],
   "source": [
    "x.freq_tot.sum()\n",
    "#x.sum_PE_tot.sum()"
   ]
  },
  {
   "cell_type": "code",
   "execution_count": 47,
   "metadata": {},
   "outputs": [
    {
     "name": "stdout",
     "output_type": "stream",
     "text": [
      "True    1250\n",
      "dtype: int64\n",
      "perfect merge\n",
      "\n"
     ]
    }
   ],
   "source": [
    "geo=final_merge_nospat(x, 'stey')"
   ]
  },
  {
   "cell_type": "code",
   "execution_count": 40,
   "metadata": {},
   "outputs": [
    {
     "data": {
      "text/plain": [
       "86895.0"
      ]
     },
     "execution_count": 40,
     "metadata": {},
     "output_type": "execute_result"
    }
   ],
   "source": [
    "geo.sum_PE_tot.sum()"
   ]
  }
 ],
 "metadata": {
  "interpreter": {
   "hash": "d4a4f80f0852bbaf4e4f090cf7fb2ba0e283c9764699a540eedc0c1ab340cdd7"
  },
  "kernelspec": {
   "display_name": "Python 3.8.11 64-bit ('geo': conda)",
   "language": "python",
   "name": "python3"
  },
  "language_info": {
   "codemirror_mode": {
    "name": "ipython",
    "version": 3
   },
   "file_extension": ".py",
   "mimetype": "text/x-python",
   "name": "python",
   "nbconvert_exporter": "python",
   "pygments_lexer": "ipython3",
   "version": "3.8.11"
  },
  "orig_nbformat": 4
 },
 "nbformat": 4,
 "nbformat_minor": 2
}
