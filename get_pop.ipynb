{
 "cells": [
  {
   "cell_type": "code",
   "execution_count": 2,
   "metadata": {},
   "outputs": [],
   "source": [
    "#merge pop file with geodata\n",
    "#save geodata with gkz resolution\n",
    "\n",
    "\n",
    "import pandas as pd\n",
    "import numpy as np\n",
    "import geopandas \n",
    "import matplotlib.pyplot as plt\n",
    "import os\n"
   ]
  },
  {
   "cell_type": "code",
   "execution_count": 3,
   "metadata": {},
   "outputs": [
    {
     "data": {
      "text/plain": [
       "\"GKZ=basemap.dissolve('GKZ')\\ngkz_pop=pd.merge(GKZ,pop, on='GKZ')\\ngkz_pop.plot(column='Pop')\\ngkz_pop.drop(columns=['MERIDIAN', 'BKZ', 'FA_NR', 'BL_KZ', 'ST_KZ','KG_NR', 'KG', 'PG_x',\\n                        'FA', 'GB_KZ', 'GB', 'VA_NR', 'VA', 'BL_x','ST','PG_y'],inplace=True)\\ngkz_pop.to_file('final/gkz_pop.gpkg', driver='GPKG')\\n\\n\""
      ]
     },
     "execution_count": 3,
     "metadata": {},
     "output_type": "execute_result"
    }
   ],
   "source": [
    "\n",
    "#os.chdir('../')\n",
    "\n",
    "#merge with basemap only\n",
    "basemap=geopandas.read_file('DATA/shp_new/Oesterreich_BEV_VGD_LAM.shp')\n",
    "pop=pd.read_excel('DATA/einwohnerzahl_1.1.2021_nach_gemeinden_mit_status_gebietsstand_1.1.2021.xlsx', header=1)\n",
    "pop.rename(columns={'Gemeinde-kennziffer (GKZ)':'GKZ','Gemeindename':'PG','Bundesland':'BL','Bevölkerung\\nam 1.1.2021':'Pop'},inplace=True)\n",
    "pop.drop('Status',axis=1,inplace=True)\n",
    "pop=pop.dropna(how='any')\n",
    "\"\"\"GKZ=basemap.dissolve('GKZ')\n",
    "gkz_pop=pd.merge(GKZ,pop, on='GKZ')\n",
    "gkz_pop.plot(column='Pop')\n",
    "gkz_pop.drop(columns=['MERIDIAN', 'BKZ', 'FA_NR', 'BL_KZ', 'ST_KZ','KG_NR', 'KG', 'PG_x',\n",
    "                        'FA', 'GB_KZ', 'GB', 'VA_NR', 'VA', 'BL_x','ST','PG_y'],inplace=True)\n",
    "gkz_pop.to_file('final/gkz_pop.gpkg', driver='GPKG')\n",
    "\n",
    "\"\"\"\n",
    "\n",
    "\n"
   ]
  },
  {
   "cell_type": "code",
   "execution_count": 6,
   "metadata": {},
   "outputs": [
    {
     "data": {
      "text/plain": [
       "Index(['GKZ', 'geometry', '%PE_nonitri_medium', '%PE_nonitri_small',\n",
       "       '%PE_nonitri_tot', '%no_nitri_medium', '%no_nitri_small',\n",
       "       '%no_nitri_tot', 'PE_nonitri_medium', 'PE_nonitri_small',\n",
       "       'PE_nonitri_tot', 'freq_medium', 'freq_small', 'freq_tot',\n",
       "       'no_nitri_medium', 'no_nitri_small', 'no_nitri_tot', 'sum_PE_medium',\n",
       "       'sum_PE_small', 'sum_PE_tot', 'BL', 'PG', 'Pop'],\n",
       "      dtype='object')"
      ]
     },
     "execution_count": 6,
     "metadata": {},
     "output_type": "execute_result"
    }
   ],
   "source": [
    "gkz_pop.columns\n"
   ]
  },
  {
   "cell_type": "code",
   "execution_count": 4,
   "metadata": {},
   "outputs": [
    {
     "ename": "AttributeError",
     "evalue": "'GeoDataFrame' object has no attribute 'sum_PE'",
     "output_type": "error",
     "traceback": [
      "\u001b[1;31m---------------------------------------------------------------------------\u001b[0m",
      "\u001b[1;31mAttributeError\u001b[0m                            Traceback (most recent call last)",
      "\u001b[1;32m~\\AppData\\Local\\Temp/ipykernel_5832/1308084041.py\u001b[0m in \u001b[0;36m<module>\u001b[1;34m\u001b[0m\n\u001b[0;32m      5\u001b[0m \u001b[0mgkz_pop\u001b[0m\u001b[1;33m.\u001b[0m\u001b[0mto_file\u001b[0m\u001b[1;33m(\u001b[0m\u001b[1;34m'final/gkz_pop_new.gpkg'\u001b[0m\u001b[1;33m,\u001b[0m \u001b[0mdriver\u001b[0m\u001b[1;33m=\u001b[0m\u001b[1;34m'GPKG'\u001b[0m\u001b[1;33m)\u001b[0m\u001b[1;33m\u001b[0m\u001b[1;33m\u001b[0m\u001b[0m\n\u001b[0;32m      6\u001b[0m \u001b[1;31m#get values relative to POP\u001b[0m\u001b[1;33m\u001b[0m\u001b[1;33m\u001b[0m\u001b[1;33m\u001b[0m\u001b[0m\n\u001b[1;32m----> 7\u001b[1;33m \u001b[0mgkz_pop\u001b[0m\u001b[1;33m[\u001b[0m\u001b[1;34m'%PEonpop'\u001b[0m\u001b[1;33m]\u001b[0m\u001b[1;33m=\u001b[0m\u001b[0mgkz_pop\u001b[0m\u001b[1;33m.\u001b[0m\u001b[0msum_PE\u001b[0m\u001b[1;33m/\u001b[0m\u001b[0mgkz_pop\u001b[0m\u001b[1;33m.\u001b[0m\u001b[0mPop\u001b[0m\u001b[1;33m*\u001b[0m\u001b[1;36m100\u001b[0m\u001b[1;33m\u001b[0m\u001b[1;33m\u001b[0m\u001b[0m\n\u001b[0m\u001b[0;32m      8\u001b[0m \u001b[0mgkz_pop\u001b[0m\u001b[1;33m[\u001b[0m\u001b[1;34m'%nonitriPEonpop'\u001b[0m\u001b[1;33m]\u001b[0m\u001b[1;33m=\u001b[0m\u001b[0mgkz_pop\u001b[0m\u001b[1;33m.\u001b[0m\u001b[0mPE_nonitri\u001b[0m\u001b[1;33m/\u001b[0m\u001b[0mgkz_pop\u001b[0m\u001b[1;33m.\u001b[0m\u001b[0mPop\u001b[0m\u001b[1;33m*\u001b[0m\u001b[1;36m100\u001b[0m\u001b[1;33m\u001b[0m\u001b[1;33m\u001b[0m\u001b[0m\n\u001b[0;32m      9\u001b[0m \u001b[0mgkz_pop\u001b[0m\u001b[1;33m.\u001b[0m\u001b[0mto_file\u001b[0m\u001b[1;33m(\u001b[0m\u001b[1;34m'final/gkz_pop+data.gpkg'\u001b[0m\u001b[1;33m,\u001b[0m \u001b[0mdriver\u001b[0m\u001b[1;33m=\u001b[0m\u001b[1;34m'GPKG'\u001b[0m\u001b[1;33m)\u001b[0m\u001b[1;33m\u001b[0m\u001b[1;33m\u001b[0m\u001b[0m\n",
      "\u001b[1;32mc:\\Users\\fabrizio\\anaconda3\\envs\\geo\\lib\\site-packages\\pandas\\core\\generic.py\u001b[0m in \u001b[0;36m__getattr__\u001b[1;34m(self, name)\u001b[0m\n\u001b[0;32m   5485\u001b[0m         ):\n\u001b[0;32m   5486\u001b[0m             \u001b[1;32mreturn\u001b[0m \u001b[0mself\u001b[0m\u001b[1;33m[\u001b[0m\u001b[0mname\u001b[0m\u001b[1;33m]\u001b[0m\u001b[1;33m\u001b[0m\u001b[1;33m\u001b[0m\u001b[0m\n\u001b[1;32m-> 5487\u001b[1;33m         \u001b[1;32mreturn\u001b[0m \u001b[0mobject\u001b[0m\u001b[1;33m.\u001b[0m\u001b[0m__getattribute__\u001b[0m\u001b[1;33m(\u001b[0m\u001b[0mself\u001b[0m\u001b[1;33m,\u001b[0m \u001b[0mname\u001b[0m\u001b[1;33m)\u001b[0m\u001b[1;33m\u001b[0m\u001b[1;33m\u001b[0m\u001b[0m\n\u001b[0m\u001b[0;32m   5488\u001b[0m \u001b[1;33m\u001b[0m\u001b[0m\n\u001b[0;32m   5489\u001b[0m     \u001b[1;32mdef\u001b[0m \u001b[0m__setattr__\u001b[0m\u001b[1;33m(\u001b[0m\u001b[0mself\u001b[0m\u001b[1;33m,\u001b[0m \u001b[0mname\u001b[0m\u001b[1;33m:\u001b[0m \u001b[0mstr\u001b[0m\u001b[1;33m,\u001b[0m \u001b[0mvalue\u001b[0m\u001b[1;33m)\u001b[0m \u001b[1;33m->\u001b[0m \u001b[1;32mNone\u001b[0m\u001b[1;33m:\u001b[0m\u001b[1;33m\u001b[0m\u001b[1;33m\u001b[0m\u001b[0m\n",
      "\u001b[1;31mAttributeError\u001b[0m: 'GeoDataFrame' object has no attribute 'sum_PE'"
     ]
    }
   ],
   "source": [
    "#merge with actual complete dataset\n",
    "data=geopandas.read_file('final/complete.geojson')\n",
    "gkz=data.dissolve('GKZ',aggfunc='sum')\n",
    "gkz_pop=pd.merge(gkz,pop, on='GKZ')\n",
    "gkz_pop.to_file('final/gkz_pop_new.gpkg', driver='GPKG')\n",
    "\n"
   ]
  },
  {
   "cell_type": "code",
   "execution_count": 7,
   "metadata": {},
   "outputs": [],
   "source": [
    "#get values relative to POP\n",
    "gkz_pop['%PEonpop']=gkz_pop.sum_PE_tot/gkz_pop.Pop*100\n",
    "gkz_pop['%nonitriPEonpop']=gkz_pop.PE_nonitri_tot/gkz_pop.Pop*100\n",
    "gkz_pop.to_file('final/gkz_pop+data.gpkg', driver='GPKG')"
   ]
  }
 ],
 "metadata": {
  "kernelspec": {
   "display_name": "Python 3.8.11 ('geo')",
   "language": "python",
   "name": "python3"
  },
  "language_info": {
   "codemirror_mode": {
    "name": "ipython",
    "version": 3
   },
   "file_extension": ".py",
   "mimetype": "text/x-python",
   "name": "python",
   "nbconvert_exporter": "python",
   "pygments_lexer": "ipython3",
   "version": "3.8.11"
  },
  "orig_nbformat": 4,
  "vscode": {
   "interpreter": {
    "hash": "46b023be3b543629ebc72123c4a9ee6613b0d6970e9059aae9a054971a6a41c6"
   }
  }
 },
 "nbformat": 4,
 "nbformat_minor": 2
}
