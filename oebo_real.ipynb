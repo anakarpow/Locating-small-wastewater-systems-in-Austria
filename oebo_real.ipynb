{
 "cells": [
  {
   "cell_type": "markdown",
   "metadata": {},
   "source": [
    "here the files are merged to create a workable dataset\n",
    "exported to csv and not succesfully yet to shp"
   ]
  },
  {
   "cell_type": "code",
   "execution_count": 73,
   "metadata": {},
   "outputs": [],
   "source": [
    "#import data and packages\n",
    "import geopandas\n",
    "import pandas as pd\n",
    "import matplotlib.pyplot as plt\n",
    "from functions import *\n",
    "%matplotlib inline\n",
    "\n"
   ]
  },
  {
   "cell_type": "code",
   "execution_count": 74,
   "metadata": {},
   "outputs": [
    {
     "name": "stderr",
     "output_type": "stream",
     "text": [
      "C:\\Users\\fabrizio\\anaconda3\\envs\\geo\\lib\\site-packages\\pandas\\util\\_decorators.py:311: SettingWithCopyWarning: \n",
      "A value is trying to be set on a copy of a slice from a DataFrame\n",
      "\n",
      "See the caveats in the documentation: https://pandas.pydata.org/pandas-docs/stable/user_guide/indexing.html#returning-a-view-versus-a-copy\n",
      "  return func(*args, **kwargs)\n"
     ]
    }
   ],
   "source": [
    "#import anlagedata\n",
    "d='DATA/Sacken/Anlagendaten.xlsx'\n",
    "data=pd.read_excel(d)\n",
    "data=data.dropna(how='any', subset= ['Longitude'])\n",
    "\n",
    "#create geometry from coordinates \n",
    "#only studying the geometry of the shp made possible to intepret this file correctly\n",
    "gdf=geopandas.GeoDataFrame(data, geometry=geopandas.points_from_xy((data['Longitude']), data['KOORDX(GK M31)'], crs='EPSG:31258'))\n",
    "\n",
    "#take onlty <50\n",
    "anlage=gdf[gdf.EGW<51]\n",
    "anlage.dropna(how='all',inplace=True)\n"
   ]
  },
  {
   "cell_type": "code",
   "execution_count": 75,
   "metadata": {},
   "outputs": [],
   "source": [
    "#clean data here"
   ]
  },
  {
   "cell_type": "code",
   "execution_count": 76,
   "metadata": {},
   "outputs": [],
   "source": [
    "#import dataset with wrong coords but technical features\n",
    "d = 'C:/Users/fabrizio/Documents/repos/MSC/DATA/Sacken/raw_data.xlsx'\n",
    "df=pd.read_excel(d, sheet_name='Rohdaten ARA 500 EW')\n",
    "df=df[df.EW60<51]\n"
   ]
  },
  {
   "cell_type": "code",
   "execution_count": 77,
   "metadata": {},
   "outputs": [
    {
     "name": "stdout",
     "output_type": "stream",
     "text": [
      "2514\n",
      "2526\n"
     ]
    }
   ],
   "source": [
    "#confront for number of items\n",
    "print(len(anlage)) #only contanins <50\n",
    "print(len(df))#raw data <50\n",
    "\n",
    "#df is 12 elements longer"
   ]
  },
  {
   "cell_type": "code",
   "execution_count": 78,
   "metadata": {},
   "outputs": [
    {
     "data": {
      "text/plain": [
       "2514"
      ]
     },
     "execution_count": 78,
     "metadata": {},
     "output_type": "execute_result"
    }
   ],
   "source": [
    "#all anlage are in df \n",
    "len(anlage[anlage.Bundesnummer.isin(df.BUNDESNUMMER)])"
   ]
  },
  {
   "cell_type": "code",
   "execution_count": 79,
   "metadata": {},
   "outputs": [
    {
     "data": {
      "text/plain": [
       "11"
      ]
     },
     "execution_count": 79,
     "metadata": {},
     "output_type": "execute_result"
    }
   ],
   "source": [
    "#11 are not in anlage. 1 is probably an NA\n",
    "#means can't get their position right now\n",
    "not_in=df[~df.BUNDESNUMMER.isin(anlage.Bundesnummer)]\n",
    "len(not_in)"
   ]
  },
  {
   "cell_type": "code",
   "execution_count": 80,
   "metadata": {},
   "outputs": [],
   "source": [
    "#prepare for megre\n",
    "anlage=anlage.astype({'Bundesnummer':'int'})\n",
    "df.rename(columns={'BUNDESNUMMER':'Bundesnummer'}, inplace=True)\n"
   ]
  },
  {
   "cell_type": "code",
   "execution_count": 81,
   "metadata": {},
   "outputs": [],
   "source": [
    "#merge\n",
    "merged=pd.merge(df, anlage, on='Bundesnummer')\n",
    "merged.head()\n",
    "merged.dropna(subset=['Longitude','KOORDX(GK M31)_y'],inplace=True)\n"
   ]
  },
  {
   "cell_type": "code",
   "execution_count": 82,
   "metadata": {},
   "outputs": [],
   "source": [
    "#get a geodf\n",
    "gdf=geopandas.GeoDataFrame(merged, geometry=geopandas.points_from_xy((merged['Longitude']), merged['KOORDX(GK M31)_y'], crs='EPSG:31258'))\n"
   ]
  },
  {
   "cell_type": "code",
   "execution_count": 83,
   "metadata": {},
   "outputs": [],
   "source": [
    "#get basemap\n",
    "world = geopandas.read_file(geopandas.datasets.get_path('naturalearth_lowres'))\n",
    "austria=world[world['name']=='Austria']\n"
   ]
  },
  {
   "cell_type": "code",
   "execution_count": 84,
   "metadata": {},
   "outputs": [],
   "source": [
    "#change points coords to basemap\n",
    "gdf.to_crs(epsg=4326,inplace=True)\n"
   ]
  },
  {
   "cell_type": "code",
   "execution_count": 85,
   "metadata": {},
   "outputs": [
    {
     "data": {
      "text/plain": [
       "<AxesSubplot:>"
      ]
     },
     "execution_count": 85,
     "metadata": {},
     "output_type": "execute_result"
    },
    {
     "data": {
      "image/png": "[encoded data removed]",
      "text/plain": [
       "<Figure size 432x288 with 1 Axes>"
      ]
     },
     "metadata": {
      "needs_background": "light"
     },
     "output_type": "display_data"
    }
   ],
   "source": [
    "#plot them together\n",
    "gdf.plot(color='red', ax=austria.plot())\n"
   ]
  },
  {
   "cell_type": "code",
   "execution_count": 86,
   "metadata": {},
   "outputs": [],
   "source": [
    "#drop columns with <80% real data, not NA.\n",
    "gdf=gdf[gdf.columns[gdf.isnull().mean()<0.8]]\n",
    "\n",
    "#drop unused geodata\n",
    "gdf=gdf.drop(columns=['KOORDX(GK M31)_y', 'Latitude','KOORDY(GK M31)_y','Longitude','GRUPPE', 'FABRIKATTYPE','ABLEITUNG IN','KOORDX(GK M31)_x', 'KOORDY(GK M31)_x'])\n"
   ]
  },
  {
   "cell_type": "code",
   "execution_count": 87,
   "metadata": {},
   "outputs": [],
   "source": [
    "gdf.INBETRIEBNAHME=gdf.INBETRIEBNAHME.astype('str')\n",
    "\n",
    "gdf.INBETRIEBNAHME=gdf.INBETRIEBNAHME.str.split('-').str[0]\n",
    "\n",
    "\n",
    "gdf.INBETRIEBNAHME=gdf.INBETRIEBNAHME.str.split(',').str[0]\n",
    "\n",
    "gdf=gdf[gdf.INBETRIEBNAHME!='<NULL>']\n",
    "\n",
    "gdf.INBETRIEBNAHME=gdf.INBETRIEBNAHME.astype(int)\n"
   ]
  },
  {
   "cell_type": "code",
   "execution_count": 89,
   "metadata": {},
   "outputs": [],
   "source": [
    "gdf.drop(columns=['Bundesnummer', 'ANLAGETEILNAME','Realisierungsstatus',\n",
    "'KOORDINATEN GENAUIGKEIT', 'WASSERBUCH','dtKläranlage','Größenklasse',\n",
    "'Kommunal/Industriell', 'EGW', 'BEZIRK'],inplace=True)"
   ]
  },
  {
   "cell_type": "code",
   "execution_count": 90,
   "metadata": {},
   "outputs": [
    {
     "data": {
      "text/html": [
       "<div>\n",
       "<style scoped>\n",
       "    .dataframe tbody tr th:only-of-type {\n",
       "        vertical-align: middle;\n",
       "    }\n",
       "\n",
       "    .dataframe tbody tr th {\n",
       "        vertical-align: top;\n",
       "    }\n",
       "\n",
       "    .dataframe thead th {\n",
       "        text-align: right;\n",
       "    }\n",
       "</style>\n",
       "<table border=\"1\" class=\"dataframe\">\n",
       "  <thead>\n",
       "    <tr style=\"text-align: right;\">\n",
       "      <th></th>\n",
       "      <th></th>\n",
       "      <th>ANLAGENAME</th>\n",
       "      <th>EW60</th>\n",
       "      <th>INBETRIEBNAHME</th>\n",
       "      <th>VERFAHRENSART BIOLOGIE</th>\n",
       "      <th>REINIGUNG MECHANISCH</th>\n",
       "      <th>C-ENTFERNUNG</th>\n",
       "      <th>N-ENTFERNUNG</th>\n",
       "      <th>P-ENTFERNUNG</th>\n",
       "      <th>Tonne TM</th>\n",
       "      <th>Verfahren</th>\n",
       "      <th>Typ</th>\n",
       "      <th>geometry</th>\n",
       "    </tr>\n",
       "    <tr>\n",
       "      <th>NITRIFIZIERUNG</th>\n",
       "      <th>before_reg</th>\n",
       "      <th></th>\n",
       "      <th></th>\n",
       "      <th></th>\n",
       "      <th></th>\n",
       "      <th></th>\n",
       "      <th></th>\n",
       "      <th></th>\n",
       "      <th></th>\n",
       "      <th></th>\n",
       "      <th></th>\n",
       "      <th></th>\n",
       "      <th></th>\n",
       "    </tr>\n",
       "  </thead>\n",
       "  <tbody>\n",
       "    <tr>\n",
       "      <th rowspan=\"2\" valign=\"top\">j</th>\n",
       "      <th>False</th>\n",
       "      <td>2119</td>\n",
       "      <td>2119</td>\n",
       "      <td>2119</td>\n",
       "      <td>2119</td>\n",
       "      <td>2119</td>\n",
       "      <td>2119</td>\n",
       "      <td>2119</td>\n",
       "      <td>2119</td>\n",
       "      <td>2119</td>\n",
       "      <td>2119</td>\n",
       "      <td>2119</td>\n",
       "      <td>2119</td>\n",
       "    </tr>\n",
       "    <tr>\n",
       "      <th>True</th>\n",
       "      <td>36</td>\n",
       "      <td>36</td>\n",
       "      <td>36</td>\n",
       "      <td>36</td>\n",
       "      <td>36</td>\n",
       "      <td>36</td>\n",
       "      <td>36</td>\n",
       "      <td>36</td>\n",
       "      <td>36</td>\n",
       "      <td>36</td>\n",
       "      <td>36</td>\n",
       "      <td>36</td>\n",
       "    </tr>\n",
       "    <tr>\n",
       "      <th rowspan=\"2\" valign=\"top\">n</th>\n",
       "      <th>False</th>\n",
       "      <td>47</td>\n",
       "      <td>47</td>\n",
       "      <td>47</td>\n",
       "      <td>47</td>\n",
       "      <td>47</td>\n",
       "      <td>47</td>\n",
       "      <td>47</td>\n",
       "      <td>47</td>\n",
       "      <td>47</td>\n",
       "      <td>47</td>\n",
       "      <td>47</td>\n",
       "      <td>47</td>\n",
       "    </tr>\n",
       "    <tr>\n",
       "      <th>True</th>\n",
       "      <td>320</td>\n",
       "      <td>320</td>\n",
       "      <td>320</td>\n",
       "      <td>320</td>\n",
       "      <td>320</td>\n",
       "      <td>320</td>\n",
       "      <td>320</td>\n",
       "      <td>320</td>\n",
       "      <td>320</td>\n",
       "      <td>320</td>\n",
       "      <td>320</td>\n",
       "      <td>320</td>\n",
       "    </tr>\n",
       "  </tbody>\n",
       "</table>\n",
       "</div>"
      ],
      "text/plain": [
       "                           ANLAGENAME  EW60  INBETRIEBNAHME  \\\n",
       "NITRIFIZIERUNG before_reg                                     \n",
       "j              False             2119  2119            2119   \n",
       "               True                36    36              36   \n",
       "n              False               47    47              47   \n",
       "               True               320   320             320   \n",
       "\n",
       "                           VERFAHRENSART BIOLOGIE  REINIGUNG MECHANISCH  \\\n",
       "NITRIFIZIERUNG before_reg                                                 \n",
       "j              False                         2119                  2119   \n",
       "               True                            36                    36   \n",
       "n              False                           47                    47   \n",
       "               True                           320                   320   \n",
       "\n",
       "                           C-ENTFERNUNG  N-ENTFERNUNG  P-ENTFERNUNG  Tonne TM  \\\n",
       "NITRIFIZIERUNG before_reg                                                       \n",
       "j              False               2119          2119          2119      2119   \n",
       "               True                  36            36            36        36   \n",
       "n              False                 47            47            47        47   \n",
       "               True                 320           320           320       320   \n",
       "\n",
       "                           Verfahren   Typ  geometry  \n",
       "NITRIFIZIERUNG before_reg                             \n",
       "j              False            2119  2119      2119  \n",
       "               True               36    36        36  \n",
       "n              False              47    47        47  \n",
       "               True              320   320       320  "
      ]
     },
     "execution_count": 90,
     "metadata": {},
     "output_type": "execute_result"
    }
   ],
   "source": [
    "#most of anlage withoutnitrification are of type mechanic\n",
    "gdf.groupby(['NITRIFIZIERUNG','Verfahren']).count()\n",
    "#are anlage before regulation not nitrifying ?\n",
    "gdf['before_reg']=gdf.INBETRIEBNAHME<1990\n",
    "gdf.groupby(['NITRIFIZIERUNG','before_reg']).count()\n",
    "\n",
    "#yes they are"
   ]
  },
  {
   "cell_type": "code",
   "execution_count": 98,
   "metadata": {},
   "outputs": [
    {
     "data": {
      "text/plain": [
       "Belebung      580\n",
       "SBR           573\n",
       "PF            540\n",
       "mechanisch    310\n",
       "SBR +         289\n",
       "Sonstig       128\n",
       "Belebung +     78\n",
       "Filtration     24\n",
       "Name: Verfahren, dtype: int64"
      ]
     },
     "execution_count": 98,
     "metadata": {},
     "output_type": "execute_result"
    }
   ],
   "source": [
    "#correct values\n",
    "gdf.Verfahren=gdf.Verfahren.str.strip(' ')\n",
    "gdf.Verfahren.value_counts()\n"
   ]
  },
  {
   "cell_type": "code",
   "execution_count": 99,
   "metadata": {},
   "outputs": [],
   "source": [
    "gdf.to_csv('output/oebo.csv', index=False)"
   ]
  },
  {
   "cell_type": "code",
   "execution_count": 96,
   "metadata": {},
   "outputs": [],
   "source": [
    "#cur down to avoid codec error from german language\n",
    "#export=gdf[['Bundesnummer','geometry']]\n",
    "\n",
    "#shp is still unreadble for QGIS\n",
    "#export.to_file('output/onemore.shp')\n"
   ]
  }
 ],
 "metadata": {
  "interpreter": {
   "hash": "d4a4f80f0852bbaf4e4f090cf7fb2ba0e283c9764699a540eedc0c1ab340cdd7"
  },
  "kernelspec": {
   "display_name": "Python 3.8.11 64-bit ('geo': conda)",
   "name": "python3"
  },
  "language_info": {
   "codemirror_mode": {
    "name": "ipython",
    "version": 3
   },
   "file_extension": ".py",
   "mimetype": "text/x-python",
   "name": "python",
   "nbconvert_exporter": "python",
   "pygments_lexer": "ipython3",
   "version": "3.8.11"
  },
  "orig_nbformat": 4
 },
 "nbformat": 4,
 "nbformat_minor": 2
}
